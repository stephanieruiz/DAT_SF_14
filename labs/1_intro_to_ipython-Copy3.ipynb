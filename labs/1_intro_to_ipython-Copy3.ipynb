{
 "cells": [
  {
   "cell_type": "markdown",
   "metadata": {},
   "source": [
    "# GA Lab: iPython Notebook / Python"
   ]
  },
  {
   "cell_type": "markdown",
   "metadata": {},
   "source": [
    "## iPython Notebook"
   ]
  },
  {
   "cell_type": "markdown",
   "metadata": {},
   "source": [
    "- Shift + Enter executes the current highlight cell\n",
    "- Shift + Tab help for current command"
   ]
  },
  {
   "cell_type": "code",
   "execution_count": null,
   "metadata": {
    "collapsed": false
   },
   "outputs": [],
   "source": [
    "from IPython.core.display import HTML\n",
    "HTML(\"<iframe src=http://www.nature.com/news/ipython-interactive-demo-7.21492 width=1000 height=800></iframe>\")"
   ]
  },
  {
   "cell_type": "markdown",
   "metadata": {},
   "source": [
    "### import statements"
   ]
  },
  {
   "cell_type": "code",
   "execution_count": 1,
   "metadata": {
    "collapsed": false
   },
   "outputs": [],
   "source": [
    "import numpy as np\n",
    "import pandas as pd\n",
    "import matplotlib.pyplot as plt\n",
    "from scipy.optimize import curve_fit\n",
    "\n",
    "%matplotlib inline"
   ]
  },
  {
   "cell_type": "markdown",
   "metadata": {},
   "source": [
    "### execute shell commands"
   ]
  },
  {
   "cell_type": "code",
   "execution_count": 2,
   "metadata": {
    "collapsed": false
   },
   "outputs": [
    {
     "name": "stdout",
     "output_type": "stream",
     "text": [
      "total 4528\r\n",
      " 32 -rw-r--r--  1 stephanieruiz  staff    16K May 23 12:27 1_intro_to_ipython-Copy1.ipynb\r\n",
      " 32 -rw-r--r--  1 stephanieruiz  staff    16K May 23 15:48 1_intro_to_ipython-Copy2.ipynb\r\n",
      " 32 -rw-r--r--  1 stephanieruiz  staff    16K May 23 16:33 1_intro_to_ipython-Copy3.ipynb\r\n",
      " 40 -rw-r--r--  1 stephanieruiz  staff    17K May 12 20:30 1_intro_to_ipython.ipynb\r\n",
      " 32 -rw-r--r--  1 stephanieruiz  staff    14K May  5 19:53 1_simple_plot_SR.ipynb\r\n",
      "336 -rw-r--r--  1 stephanieruiz  staff   168K May  5 19:53 2_intro_to_ipython_SR.ipynb\r\n",
      "  8 -rw-r--r--  1 stephanieruiz  staff   1.3K May  5 19:54 2_simple_plot.ipynb\r\n",
      "672 -rw-r--r--  1 stephanieruiz  staff   335K May  7 20:10 3_pandas_intro-solutions.ipynb\r\n",
      "560 -rw-r--r--  1 stephanieruiz  staff   277K May 12 20:31 3_pandas_intro.ipynb\r\n",
      " 24 -rw-r--r--  1 stephanieruiz  staff   9.9K May 12 15:57 3_pandas_intro_SR.ipynb\r\n",
      "288 -rw-r--r--  1 stephanieruiz  staff   143K May 14 07:56 4_intro_to_knn_cross_validation- SR2.ipynb\r\n",
      "200 -rw-r--r--  1 stephanieruiz  staff    97K May  7 21:08 4_intro_to_knn_cross_validation-SR.ipynb\r\n",
      "160 -rw-r--r--  1 stephanieruiz  staff    77K May 14 07:36 4_intro_to_knn_cross_validation.ipynb\r\n",
      "176 -rw-r--r--  1 stephanieruiz  staff    87K May 14 20:26 5_naive_bayes_lab-solution.ipynb\r\n",
      "112 -rw-r--r--  1 stephanieruiz  staff    55K May 12 21:07 5_naive_bayes_lab.ipynb\r\n",
      " 48 -rw-r--r--  1 stephanieruiz  staff    22K May 14 20:26 6_regression_and_regularization.ipynb\r\n",
      "416 -rw-r--r--  1 stephanieruiz  staff   206K May 14 21:25 6_regression_and_regularization_SR.ipynb\r\n",
      " 64 -rw-r--r--  1 stephanieruiz  staff    30K May 21 18:21 7_logistic_regression.ipynb\r\n",
      "432 -rw-r--r--  1 stephanieruiz  staff   212K May 21 21:02 8_kmeans_clustering.ipynb\r\n",
      " 16 -rw-r--r--  1 stephanieruiz  staff   7.6K May 23 12:27 HW 2 SR.ipynb\r\n",
      "  8 -rw-r--r--  1 stephanieruiz  staff   2.4K May 12 11:16 Lecture 2 practice.ipynb\r\n",
      " 24 -rw-r--r--  1 stephanieruiz  staff   8.3K May 23 11:45 Naive Bayes Lab- SR.ipynb\r\n",
      "  8 -rw-r--r--  1 stephanieruiz  staff   1.3K May  5 22:33 Untitled.ipynb\r\n",
      "120 -rw-r--r--  1 stephanieruiz  staff    57K May  7 21:22 Untitled1.ipynb\r\n",
      "  8 -rw-r--r--  1 stephanieruiz  staff   1.2K May 20 13:09 Untitled2.ipynb\r\n",
      "  8 -rw-r--r--  1 stephanieruiz  staff   1.0K May 23 15:44 Untitled3.ipynb\r\n",
      "  8 -rw-r--r--  1 stephanieruiz  staff   3.3K May 23 16:20 Untitled4.ipynb\r\n",
      "  0 drwxr-xr-x  3 stephanieruiz  staff   102B May 12 20:31 \u001b[34mdata\u001b[m\u001b[m\r\n",
      "664 -rw-r--r--  1 stephanieruiz  staff   330K May  7 20:04 pandas_lab3-Copy1.ipynb\r\n"
     ]
    }
   ],
   "source": [
    "!ls -lsh"
   ]
  },
  {
   "cell_type": "markdown",
   "metadata": {},
   "source": [
    "### send shell commands to variable"
   ]
  },
  {
   "cell_type": "code",
   "execution_count": 3,
   "metadata": {
    "collapsed": false
   },
   "outputs": [
    {
     "data": {
      "text/plain": [
       "['Applications',\n",
       " 'Desktop',\n",
       " 'Documents',\n",
       " 'Downloads',\n",
       " 'Dropbox',\n",
       " 'FILENAME',\n",
       " 'General Assembly- Data Munging with Python and Pandas.ipynb',\n",
       " 'I have Fun',\n",
       " 'Library',\n",
       " 'Movies',\n",
       " 'Music',\n",
       " 'Pandas practice.ipynb',\n",
       " 'Pictures',\n",
       " 'Practice.ipynb',\n",
       " 'Public',\n",
       " 'anaconda',\n",
       " 'births1880.csv',\n",
       " 'births1880.txt',\n",
       " 'envs',\n",
       " 'example',\n",
       " 'lpthw',\n",
       " 'temp',\n",
       " 'tutorial.ipynb',\n",
       " 'york']"
      ]
     },
     "execution_count": 3,
     "metadata": {},
     "output_type": "execute_result"
    }
   ],
   "source": [
    "home_drive = !ls ~\n",
    "home_drive"
   ]
  },
  {
   "cell_type": "markdown",
   "metadata": {},
   "source": [
    "#### Shell magic!"
   ]
  },
  {
   "cell_type": "code",
   "execution_count": null,
   "metadata": {
    "collapsed": false
   },
   "outputs": [],
   "source": [
    "%lsmagic"
   ]
  },
  {
   "cell_type": "code",
   "execution_count": null,
   "metadata": {
    "collapsed": false
   },
   "outputs": [],
   "source": [
    "%timeit a = np.random.rand(100, 100)"
   ]
  },
  {
   "cell_type": "code",
   "execution_count": 4,
   "metadata": {
    "collapsed": false
   },
   "outputs": [
    {
     "name": "stdout",
     "output_type": "stream",
     "text": [
      "10\n",
      "Once deleted, variables cannot be recovered. Proceed (y/[n])? n\n",
      "Nothing done.\n",
      "10\n"
     ]
    }
   ],
   "source": [
    "a = 10\n",
    "print a\n",
    "%reset\n",
    "print a"
   ]
  },
  {
   "cell_type": "code",
   "execution_count": 5,
   "metadata": {
    "collapsed": false
   },
   "outputs": [
    {
     "name": "stdout",
     "output_type": "stream",
     "text": [
      "CPU times: user 364 µs, sys: 1.62 ms, total: 1.99 ms\n",
      "Wall time: 8.46 ms\n"
     ]
    }
   ],
   "source": [
    "%%time\n",
    "mu, sigma = 0, 0.1\n",
    "normal_dist = np.random.normal(mu, sigma, 1000)"
   ]
  },
  {
   "cell_type": "code",
   "execution_count": 6,
   "metadata": {
    "collapsed": false
   },
   "outputs": [
    {
     "data": {
      "text/plain": [
       "[<matplotlib.lines.Line2D at 0x10898f910>]"
      ]
     },
     "execution_count": 6,
     "metadata": {},
     "output_type": "execute_result"
    },
    {
     "data": {
      "image/png": "[encoded data removed]",
      "text/plain": [
       "<matplotlib.figure.Figure at 0x1042a6750>"
      ]
     },
     "metadata": {},
     "output_type": "display_data"
    }
   ],
   "source": [
    "plt.plot(normal_dist)"
   ]
  },
  {
   "cell_type": "code",
   "execution_count": 7,
   "metadata": {
    "collapsed": false
   },
   "outputs": [
    {
     "data": {
      "text/html": [
       "<div style=\"max-height:1000px;max-width:1500px;overflow:auto;\">\n",
       "<table border=\"1\" class=\"dataframe\">\n",
       "  <thead>\n",
       "    <tr style=\"text-align: right;\">\n",
       "      <th></th>\n",
       "      <th>Open</th>\n",
       "      <th>High</th>\n",
       "      <th>Low</th>\n",
       "      <th>Close</th>\n",
       "      <th>Volume</th>\n",
       "      <th>Adj Close</th>\n",
       "    </tr>\n",
       "    <tr>\n",
       "      <th>Date</th>\n",
       "      <th></th>\n",
       "      <th></th>\n",
       "      <th></th>\n",
       "      <th></th>\n",
       "      <th></th>\n",
       "      <th></th>\n",
       "    </tr>\n",
       "  </thead>\n",
       "  <tbody>\n",
       "    <tr>\n",
       "      <th>2015-04-01</th>\n",
       "      <td> 82.50</td>\n",
       "      <td> 82.72</td>\n",
       "      <td> 80.87</td>\n",
       "      <td> 81.67</td>\n",
       "      <td> 22058200</td>\n",
       "      <td> 81.67</td>\n",
       "    </tr>\n",
       "    <tr>\n",
       "      <th>2015-04-02</th>\n",
       "      <td> 82.25</td>\n",
       "      <td> 82.56</td>\n",
       "      <td> 81.44</td>\n",
       "      <td> 81.56</td>\n",
       "      <td> 19664100</td>\n",
       "      <td> 81.56</td>\n",
       "    </tr>\n",
       "    <tr>\n",
       "      <th>2015-04-06</th>\n",
       "      <td> 80.80</td>\n",
       "      <td> 82.81</td>\n",
       "      <td> 80.80</td>\n",
       "      <td> 82.44</td>\n",
       "      <td> 19062900</td>\n",
       "      <td> 82.44</td>\n",
       "    </tr>\n",
       "    <tr>\n",
       "      <th>2015-04-07</th>\n",
       "      <td> 82.65</td>\n",
       "      <td> 83.42</td>\n",
       "      <td> 82.22</td>\n",
       "      <td> 82.32</td>\n",
       "      <td> 17467000</td>\n",
       "      <td> 82.32</td>\n",
       "    </tr>\n",
       "    <tr>\n",
       "      <th>2015-04-08</th>\n",
       "      <td> 82.63</td>\n",
       "      <td> 83.10</td>\n",
       "      <td> 81.84</td>\n",
       "      <td> 82.28</td>\n",
       "      <td> 18966700</td>\n",
       "      <td> 82.28</td>\n",
       "    </tr>\n",
       "  </tbody>\n",
       "</table>\n",
       "</div>"
      ],
      "text/plain": [
       "             Open   High    Low  Close    Volume  Adj Close\n",
       "Date                                                       \n",
       "2015-04-01  82.50  82.72  80.87  81.67  22058200      81.67\n",
       "2015-04-02  82.25  82.56  81.44  81.56  19664100      81.56\n",
       "2015-04-06  80.80  82.81  80.80  82.44  19062900      82.44\n",
       "2015-04-07  82.65  83.42  82.22  82.32  17467000      82.32\n",
       "2015-04-08  82.63  83.10  81.84  82.28  18966700      82.28"
      ]
     },
     "execution_count": 7,
     "metadata": {},
     "output_type": "execute_result"
    }
   ],
   "source": [
    "import pandas.io.data\n",
    "import datetime\n",
    "aapl = pd.io.data.get_data_yahoo('FB', \n",
    "                                 start=datetime.datetime(2015, 4, 1), \n",
    "                                 end=datetime.datetime(2015, 4, 28))\n",
    "aapl.head()"
   ]
  },
  {
   "cell_type": "markdown",
   "metadata": {},
   "source": [
    "## Plotting!"
   ]
  },
  {
   "cell_type": "code",
   "execution_count": 8,
   "metadata": {
    "collapsed": false
   },
   "outputs": [
    {
     "name": "stdout",
     "output_type": "stream",
     "text": [
      "\n"
     ]
    },
    {
     "data": {
      "image/png": "[encoded data removed]",
      "text/plain": [
       "<matplotlib.figure.Figure at 0x108a94e50>"
      ]
     },
     "metadata": {},
     "output_type": "display_data"
    }
   ],
   "source": [
    "fig = plt.figure(figsize=(20,16))\n",
    "\n",
    "ax = fig.add_subplot(2,2,1)\n",
    "ax.plot(aapl.index, aapl['Close'])\n",
    "ax.set_title('Line plots', size=24)\n",
    "\n",
    "ax = fig.add_subplot(2,2,2)\n",
    "ax.plot(aapl['Close'], 'o')\n",
    "ax.set_title('Scatter plots', size=24)\n",
    "\n",
    "ax = fig.add_subplot(2,2,3)\n",
    "ax.hist(normal_dist, bins=50)\n",
    "ax.set_title('Histograms', size=24)\n",
    "ax.set_xlabel('count', size=16)\n",
    "\n",
    "ax = fig.add_subplot(2,2,4)\n",
    "ax.boxplot(normal_dist)\n",
    "ax.set_title('Boxplots', size=24)\n",
    "print"
   ]
  },
  {
   "cell_type": "markdown",
   "metadata": {},
   "source": [
    "## 1. Python Data types"
   ]
  },
  {
   "cell_type": "code",
   "execution_count": 9,
   "metadata": {
    "collapsed": false
   },
   "outputs": [
    {
     "data": {
      "text/plain": [
       "int"
      ]
     },
     "execution_count": 9,
     "metadata": {},
     "output_type": "execute_result"
    }
   ],
   "source": [
    "type(42)"
   ]
  },
  {
   "cell_type": "code",
   "execution_count": 12,
   "metadata": {
    "collapsed": false
   },
   "outputs": [
    {
     "name": "stdout",
     "output_type": "stream",
     "text": [
      "<type 'float'>\n"
     ]
    }
   ],
   "source": [
    "from math import pi\n",
    "type(pi)\n",
    "print type(pi)"
   ]
  },
  {
   "cell_type": "code",
   "execution_count": 11,
   "metadata": {
    "collapsed": false
   },
   "outputs": [
    {
     "data": {
      "text/plain": [
       "str"
      ]
     },
     "execution_count": 11,
     "metadata": {},
     "output_type": "execute_result"
    }
   ],
   "source": [
    "type('matt')"
   ]
  },
  {
   "cell_type": "code",
   "execution_count": null,
   "metadata": {
    "collapsed": false
   },
   "outputs": [],
   "source": [
    "type(u'matt')"
   ]
  },
  {
   "cell_type": "markdown",
   "metadata": {},
   "source": [
    "## 2. Basic Python execution"
   ]
  },
  {
   "cell_type": "code",
   "execution_count": 13,
   "metadata": {
    "collapsed": false
   },
   "outputs": [],
   "source": [
    "test_integer = 42\n",
    "test_float = pi\n",
    "test_string = 'matt'"
   ]
  },
  {
   "cell_type": "markdown",
   "metadata": {},
   "source": [
    "#### Basic print"
   ]
  },
  {
   "cell_type": "code",
   "execution_count": null,
   "metadata": {
    "collapsed": false
   },
   "outputs": [],
   "source": [
    "print (test_integer, test_float, test_string)"
   ]
  },
  {
   "cell_type": "markdown",
   "metadata": {},
   "source": [
    "#### C-style formatting"
   ]
  },
  {
   "cell_type": "code",
   "execution_count": null,
   "metadata": {
    "collapsed": false
   },
   "outputs": [],
   "source": [
    "print (\"%d %f %s\") % (test_integer, test_float, test_string)\n",
    "print (\"%d %.2f %s\") % (test_integer, test_float, test_string)"
   ]
  },
  {
   "cell_type": "markdown",
   "metadata": {},
   "source": [
    "#### Format - the pythonic way"
   ]
  },
  {
   "cell_type": "code",
   "execution_count": null,
   "metadata": {
    "collapsed": false
   },
   "outputs": [],
   "source": [
    "print (\"{} {} {}\").format(test_integer, test_float, test_string)\n",
    "print (\"{} {:.2f} {}\").format(test_integer, test_float, test_string)"
   ]
  },
  {
   "cell_type": "markdown",
   "metadata": {},
   "source": [
    "## Python operations"
   ]
  },
  {
   "cell_type": "code",
   "execution_count": null,
   "metadata": {
    "collapsed": false
   },
   "outputs": [],
   "source": [
    "1 + 2.5"
   ]
  },
  {
   "cell_type": "code",
   "execution_count": null,
   "metadata": {
    "collapsed": false
   },
   "outputs": [],
   "source": [
    "'matt' + 1"
   ]
  },
  {
   "cell_type": "markdown",
   "metadata": {},
   "source": [
    "### Python 2.7 division"
   ]
  },
  {
   "cell_type": "code",
   "execution_count": null,
   "metadata": {
    "collapsed": false
   },
   "outputs": [],
   "source": [
    "numerator, denominator = 1,2"
   ]
  },
  {
   "cell_type": "markdown",
   "metadata": {},
   "source": [
    "#### Important to remember:"
   ]
  },
  {
   "cell_type": "code",
   "execution_count": null,
   "metadata": {
    "collapsed": false
   },
   "outputs": [],
   "source": [
    "print (numerator / denominator)"
   ]
  },
  {
   "cell_type": "code",
   "execution_count": null,
   "metadata": {
    "collapsed": false
   },
   "outputs": [],
   "source": [
    "print (numerator / float(denominator))"
   ]
  },
  {
   "cell_type": "code",
   "execution_count": null,
   "metadata": {
    "collapsed": false
   },
   "outputs": [],
   "source": [
    "print 1/2\n",
    "from __future__ import division\n",
    "print 1/2"
   ]
  },
  {
   "cell_type": "markdown",
   "metadata": {},
   "source": [
    "### 3. Python Data Structures"
   ]
  },
  {
   "cell_type": "markdown",
   "metadata": {},
   "source": [
    "## Lists [ ]"
   ]
  },
  {
   "cell_type": "markdown",
   "metadata": {},
   "source": [
    "- aka arrays\n",
    "- ordered\n",
    "- mutable\n",
    "- mixed types "
   ]
  },
  {
   "cell_type": "code",
   "execution_count": null,
   "metadata": {
    "collapsed": false
   },
   "outputs": [],
   "source": [
    "price_per_sq_foot = [300,324,220,976,347,888,134,95,567,1400,120]\n",
    "type(price_per_sq_foot)"
   ]
  },
  {
   "cell_type": "markdown",
   "metadata": {},
   "source": [
    "#### list operations:"
   ]
  },
  {
   "cell_type": "code",
   "execution_count": null,
   "metadata": {
    "collapsed": false
   },
   "outputs": [],
   "source": [
    "#Number of elements in the list\n",
    "print \"There are {} elements in the list\".format(len(price_per_sq_foot))\n",
    "print\n",
    "\n",
    "#Add an item to the end of the list\n",
    "price_per_sq_foot.append(1000)\n",
    "print \"Updated price per square foot\"\n",
    "print (price_per_sq_foot)\n",
    "\n",
    "#Remove and return most recent element\n",
    "last_element = price_per_sq_foot.pop()\n",
    "print \"Last in, updated price per sq foot\"\n",
    "print (last_element, price_per_sq_foot)\n",
    "\n",
    "#Sort the array\n",
    "print \"Sorted list\"\n",
    "print sorted(price_per_sq_foot)\n",
    "\n",
    "#Reverse order\n",
    "print \"Reverse order\"\n",
    "print sorted(price_per_sq_foot)[::-1]"
   ]
  },
  {
   "cell_type": "markdown",
   "metadata": {},
   "source": [
    "#### List slicing"
   ]
  },
  {
   "cell_type": "code",
   "execution_count": null,
   "metadata": {
    "collapsed": false
   },
   "outputs": [],
   "source": [
    "#First element\n",
    "sorted_ppsf = sorted(price_per_sq_foot)\n",
    "print \"First element\"\n",
    "print 'Cheapest: {}'.format(sorted_ppsf[0])\n",
    "print \n",
    "print \"Last element\"\n",
    "print 'Most expensive: {}'.format(sorted_ppsf[len(sorted_ppsf) - 1])\n",
    "#or\n",
    "print 'Most expensive: {}'.format(sorted_ppsf[-1])"
   ]
  },
  {
   "cell_type": "markdown",
   "metadata": {},
   "source": [
    "## Tuples ( )"
   ]
  },
  {
   "cell_type": "markdown",
   "metadata": {},
   "source": [
    "- immutable\n",
    "- can't change / sort\n",
    "- functional programming"
   ]
  },
  {
   "cell_type": "code",
   "execution_count": null,
   "metadata": {
    "collapsed": false
   },
   "outputs": [],
   "source": [
    "test = (1, 2)\n",
    "print test[0]\n",
    "print test[1]\n",
    "test[0] = test[1]"
   ]
  },
  {
   "cell_type": "markdown",
   "metadata": {},
   "source": [
    "## Dictionary { }"
   ]
  },
  {
   "cell_type": "markdown",
   "metadata": {},
   "source": [
    "- aka associate arrays / key-value pairs\n",
    "- mutable\n",
    "- unordered"
   ]
  },
  {
   "cell_type": "code",
   "execution_count": null,
   "metadata": {
    "collapsed": false
   },
   "outputs": [],
   "source": [
    "#Can contain multiple types\n",
    "employee_info = {'id': 123, 'name': 'Matthew', 'manages': [45,67,90], 'managed_by': 2}\n",
    "print \"Name {}: Headcount: {}\".format(employee_info['name'], len(employee_info['manages']))"
   ]
  },
  {
   "cell_type": "code",
   "execution_count": null,
   "metadata": {
    "collapsed": false
   },
   "outputs": [],
   "source": [
    "offensive_skill_dict = {'RB': 'Running Back', 'WR': 'Wide Receiver', 'QB': 'Quarterback', 'FB': 'Full back', 'TE': 'Tight End'}\n",
    "print offensive_skill_dict"
   ]
  },
  {
   "cell_type": "code",
   "execution_count": null,
   "metadata": {
    "collapsed": false
   },
   "outputs": [],
   "source": [
    "print offensive_skill_dict.keys()"
   ]
  },
  {
   "cell_type": "markdown",
   "metadata": {},
   "source": [
    "### Sets"
   ]
  },
  {
   "cell_type": "markdown",
   "metadata": {},
   "source": [
    "- unique\n",
    "- cool operations"
   ]
  },
  {
   "cell_type": "code",
   "execution_count": null,
   "metadata": {
    "collapsed": false
   },
   "outputs": [],
   "source": [
    "#remove redundant entries\n",
    "list_list = [1,1,2,4,6,8,3,1,2,4,5]\n",
    "set_list = set(list_list)\n",
    "print set_list"
   ]
  },
  {
   "cell_type": "code",
   "execution_count": null,
   "metadata": {
    "collapsed": false
   },
   "outputs": [],
   "source": [
    "#Set operations\n",
    "panel_a, panel_b = set(('BRCA1', 'BRCA2', 'TP53', 'CHEK2', 'MYC')), set(('CHEK2', 'SPHK1', 'MYCN', 'MYC'))\n",
    "\n",
    "print \"Genes in panel 1 but not in panel b: {}\\n\".format((panel_a - panel_b))\n",
    "print \"Genes in both panels (Intersection): {}\\n\".format(panel_a & panel_b)\n",
    "print \"All the genes: {}\\n\".format(panel_a | panel_b)\n",
    "print \"Genes in A that aren't in B, genes in B that aren't in A (symmetric difference): {}\\n\".format(panel_a ^ panel_b)\n"
   ]
  },
  {
   "cell_type": "code",
   "execution_count": null,
   "metadata": {
    "collapsed": false
   },
   "outputs": [],
   "source": []
  },
  {
   "cell_type": "markdown",
   "metadata": {},
   "source": [
    "### 4. flow control"
   ]
  },
  {
   "cell_type": "markdown",
   "metadata": {},
   "source": [
    "### iterating through a list"
   ]
  },
  {
   "cell_type": "code",
   "execution_count": null,
   "metadata": {
    "collapsed": false
   },
   "outputs": [],
   "source": [
    "my_list = ['Jimmy Carter','Ronald Regan','George Bush','Bill Clinton', 'George HW Bush', 'Barack Obama']"
   ]
  },
  {
   "cell_type": "code",
   "execution_count": null,
   "metadata": {
    "collapsed": false
   },
   "outputs": [],
   "source": [
    "#Not the best way\n",
    "for index in range(0, len(my_list)):\n",
    "    print my_list[index]"
   ]
  },
  {
   "cell_type": "code",
   "execution_count": null,
   "metadata": {
    "collapsed": false
   },
   "outputs": [],
   "source": [
    "#Better\n",
    "for president in my_list:\n",
    "    print (president)"
   ]
  },
  {
   "cell_type": "code",
   "execution_count": null,
   "metadata": {
    "collapsed": false
   },
   "outputs": [],
   "source": [
    "#what if I want the index too\n",
    "for index, president in enumerate(my_list):\n",
    "    print index, president"
   ]
  },
  {
   "cell_type": "code",
   "execution_count": null,
   "metadata": {
    "collapsed": false
   },
   "outputs": [],
   "source": [
    "#list comprehension - this is pythonic - and faster!\n",
    "[x for x in my_list]"
   ]
  },
  {
   "cell_type": "markdown",
   "metadata": {},
   "source": [
    "#### Faster?"
   ]
  },
  {
   "cell_type": "code",
   "execution_count": null,
   "metadata": {
    "collapsed": false
   },
   "outputs": [],
   "source": [
    "%%timeit\n",
    "result = []\n",
    "for x in range(1,10000):\n",
    "    for y in range(1,10000):\n",
    "        result.append(x)\n",
    "len(result)"
   ]
  },
  {
   "cell_type": "code",
   "execution_count": null,
   "metadata": {
    "collapsed": false
   },
   "outputs": [],
   "source": [
    "%%timeit\n",
    "field = [x for x in range(1,10000) for y in range(1,10000)]\n",
    "len(field)"
   ]
  },
  {
   "cell_type": "code",
   "execution_count": null,
   "metadata": {
    "collapsed": false
   },
   "outputs": [],
   "source": [
    "zip"
   ]
  },
  {
   "cell_type": "code",
   "execution_count": null,
   "metadata": {
    "collapsed": false
   },
   "outputs": [],
   "source": [
    "map"
   ]
  },
  {
   "cell_type": "code",
   "execution_count": null,
   "metadata": {
    "collapsed": false
   },
   "outputs": [],
   "source": [
    "lambda"
   ]
  },
  {
   "cell_type": "code",
   "execution_count": null,
   "metadata": {
    "collapsed": false
   },
   "outputs": [],
   "source": [
    "comprehensions"
   ]
  },
  {
   "cell_type": "markdown",
   "metadata": {},
   "source": [
    "### Additional Resources"
   ]
  },
  {
   "cell_type": "markdown",
   "metadata": {},
   "source": [
    "Web based viewer for ipython notebooks\n",
    "http://nbviewer.ipython.org/"
   ]
  }
 ],
 "metadata": {
  "kernelspec": {
   "display_name": "Python 2",
   "language": "python",
   "name": "python2"
  },
  "language_info": {
   "codemirror_mode": {
    "name": "ipython",
    "version": 2
   },
   "file_extension": ".py",
   "mimetype": "text/x-python",
   "name": "python",
   "nbconvert_exporter": "python",
   "pygments_lexer": "ipython2",
   "version": "2.7.9"
  }
 },
 "nbformat": 4,
 "nbformat_minor": 0
}
