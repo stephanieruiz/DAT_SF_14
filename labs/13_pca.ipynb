{
 "cells": [
  {
   "cell_type": "code",
<<<<<<< HEAD
   "execution_count": 1,
=======
   "execution_count": null,
>>>>>>> 571a187f0f821897774193fdb90aa2e27d1090df
   "metadata": {
    "collapsed": true
   },
   "outputs": [],
   "source": [
    "import numpy as np\n",
    "import pandas as pd\n",
    "\n",
    "from sklearn import datasets, random_projection \n",
    "from sklearn.decomposition import PCA\n",
    "\n",
    "import seaborn as sns\n",
    "import matplotlib\n",
    "import matplotlib.pyplot as plt\n",
    "%matplotlib inline\n",
    "\n",
    "from IPython.display import Image"
   ]
  },
  {
   "cell_type": "markdown",
   "metadata": {},
   "source": [
    "## Dimensionality Reduction"
   ]
  },
  {
   "cell_type": "markdown",
   "metadata": {},
   "source": [
    "Dimensionality reduction is the process of reducing the number of random variables (features) under consideration. The process of dimensionality reduction has a variety of applications and is used throughout the domain of data mining. Here we will explore the concepts behind Prinicpal Component Analysis (PCA), and step through a couple of examples. \n",
    "- The first example is the canonical PCA example.\n",
    "- We will also examine the handwritten digits dataset, specifically clustering by prinicpal components.\n",
    "- Finally, the class will implement PCA on the Iris dataset"
   ]
  },
  {
   "cell_type": "markdown",
   "metadata": {},
   "source": [
    "### PCA: Take a teapot, how can I rotate it to give the most information to an observer?"
   ]
  },
  {
   "cell_type": "code",
<<<<<<< HEAD
   "execution_count": 2,
=======
   "execution_count": 104,
>>>>>>> 571a187f0f821897774193fdb90aa2e27d1090df
   "metadata": {
    "collapsed": false
   },
   "outputs": [
    {
     "data": {
      "image/jpeg": [
       "/9j/4AAQSkZJRgABAQEAYABgAAD/2wBDAAIBAQIBAQICAgICAgICAwUDAwMDAwYEBAMFBwYHBwcG\n",
       "BwcICQsJCAgKCAcHCg0KCgsMDAwMBwkODw0MDgsMDAz/2wBDAQICAgMDAwYDAwYMCAcIDAwMDAwM\n",
       "DAwMDAwMDAwMDAwMDAwMDAwMDAwMDAwMDAwMDAwMDAwMDAwMDAwMDAwMDAz/wAARCAEZAcEDASIA\n",
       "AhEBAxEB/8QAHgABAAAHAQEBAAAAAAAAAAAAAAECAwUGBwgECQr/xABPEAABAwMBBQQGBgYHBQYH\n",
       "AAABAAIDBAURBgcIEiExE0FRcRQiMmGBkQkVIzNSoSRCZZKx0RY0YnKiweEKFzVD8BklY4KTozZE\n",
       "c4TCw/H/xAAdAQEAAAcBAQAAAAAAAAAAAAAAAQIDBAUGBwgJ/8QAPxEAAQMDAgQEBAMGBQIHAAAA\n",
       "AQACAwQFEQYhBxIxQRNRYYEiMnGRCBShFSNiscHwFkJSctEz4RckJTWCkqL/2gAMAwEAAhEDEQA/\n",
       "APkxT/ct8lOpKf7lvkp16FZ8oXEndUREU6kRERERERERERERERERERERERERERERFHKFnrgDJzyA\n",
       "HPKpuka0czjsFOGknAUEWbaa2E3W7U7ay5VNDp63uGWy18hbJIPFsQy8/LHvWU2LRGz2xyNbURan\n",
       "1XVA4Ipy2jp3eXJzseZC0C9cTbLb8t5/EcOzd/16fqtjt+k7hVjmDeUeZWn+IKHahdIW2Sjtgd9U\n",
       "7LtN00YacPuEjqmR37zsfktibL9h1t20UEFdPQWumlHWlpqdkDYT3twBk/Fczun4iKGkiMv5Y8o/\n",
       "iH9MrbaXhlUSu5DKM/QriwOypuIe5fSWj3GbRLTDtLfAWt8QDhaq2/7Fzs8rYaazWjTNwjkGZKau\n",
       "o2+r15h7QHdFgLV+KW21tQKdtMc+fNt/JXlVwmqYW83ij7Li5FuvVWk4bbRufXbLYX8zxS2W4Fr8\n",
       "eIa44/Ja7uNl0pX17o6e81thnPIUt6pnRkHw4wAD54XVrNxetFds9pZ9nD/8kn9Fqtboavg+XDv0\n",
       "/msYRXLUOkbhpeUelQ/Yv5sniPHDIPEOHJW7II710yjr6eqjElO4OB8lqM1PJC7klBBUERFeKgiI\n",
       "iIiIo9FBR6qCKOVBERERRUERERERERERERERERERERERERERERETOEQoojqqaIit1WwFGn+5b5Kd\n",
       "SU/3LfJTqqz5QqbuqIiKdSIiIThERFM0jChjCl5m9AVNy43UERFMpURERERR6KCh1UcIijnCA478\n",
       "KUvaOpCmDCeigiOdhM5VM1UI6vH3U4hkPQFHO4QtpaVskeyylhl7KCp1PUAPPaRCVtta4Za1oOQZ\n",
       "TnJOPVGO9atsc8VXr+0UkxPYGoZJM0frNBzhdJv0n6dtRnkmAeHudMwtB4XZ6Y/8q8/8Vdc+C80M\n",
       "L/ga3JwfmPYfQd107RumudoqphuemV4NIbKqrVsn1hd31Ez5Xcbi9+Xv8yti2rRNNaaYRwwsYzph\n",
       "rAsqsWnmto2NAxj3K8wae42j+S8cXTU09VITI7byHRdpp6CONuwWurpQSU0eY2E+7CxnT2qtc0Gq\n",
       "p49OU1ZTPaA7tmM4myOzj2Pzyt9UGjY5n+u0EeSzLRunqWyziVkLWuBByAsSNTx0zDmMPPkeiuP2\n",
       "eXnZ2PotWUFRvJ322YhqKGmic37z0XD8eWFRoNneo4HE3n0mevcS6Wad5kc89/Pw9wXUdDr98dE2\n",
       "NpwOHGFjepJY7k8vcwZ8VqzdVTPcWCnZGP4Rg+/msj+Qa1uzifqtHN0gQMPaPDHCrBrfYTY9eW19\n",
       "Pc7fBVRyDBD4gcLc9dZo+0zwN6rzGzBx7vkshT36aNwkjcWn0VF1Ewjld0XC+0rYHqTd5ifcNLme\n",
       "+aWbl1faak9q6KPvMeeo93dhYJd7HRXnTEepLC50lmqH8EjHHMlJJ3scvovdNENuML2uja5j2kEE\n",
       "dR4LkDd/2IQ1NZtgpIGzSaaF0dS0XGOQla5xfwn+y7A+C9EcN+LNRSxvqZ3f9Pl5v4mk43/iHULn\n",
       "+pdIw1TeRo3OeU9wQP5LRKK4apsEukr7UUM/twPLQfxDuK8AdyXuigr4aymjq6c5a8Aj3XnippZI\n",
       "JXQyDBHVQRRz6qgTgK7c4NaXO6BUA0k4CKeJj6gfZsdJ/dGV0Lufbn/+9SpZdr7E/wBAyHQwHlxj\n",
       "xd/Jdd0emtN7udgfNUXWlp6OMcRa6gh5e7OBnC856r/ETardcDarfGZZB37Z9MA5XSrTw3rKmnFV\n",
       "UHkb/f0XzBnoaqmaXS0tRE0DOXxkDCpDmutN4Pf+tmqZpKKxUktbHGeDtJaeKKF4+AJP5LlW7XE3\n",
       "i7VNU5kUTqmR0hZEMMZnuA8F0vQmpbzeYDUXOj8Bv+Xfc+2Bhaxf7XR0T/Dppuc99un6ryoiLoa1\n",
       "pEREREREREREREREREREREREREREREKIUUR1VNERW6rqNP8Act8lOpKf7lvkp1VZ8oVJ3VERFOpE\n",
       "Tqq8WnbvVxiWmtlRPC7mHjoVuLYj9H1tb3gtl9ZqjS+mPrChoq8W+SFs4bOXlodkNOPVAPM5WIdf\n",
       "KJrnNdIBjqsrHZqx+ORhOV0l9CfsV0tt609tQserNOWy8UBhpuConpmumpnObIPs3+008geXguE9\n",
       "T2xtm1TcKGNxfFS1UsLHH9ZrXEA/kvuJ9GPuIzbnmwaaOvlFRqG/SNrLqQPUgcG4bED3hozk+JK0\n",
       "nqz6DDQe13W98uFqv+obIZ6uSV0LOykihc5xcQ0FoPDk+PuyuQ2ziJQQXmqdPIfCcQG9xt1Puur3\n",
       "Dh9Xz2imELB4jQS736L5MItnb4e7XW7o28NftCVtbFcjanMkhqoxw9vDI0PYS3J4XYPMZWsgcHK7\n",
       "bTVMdRE2aI5a7cLjdTTPp5XQy7ObsVBERXCt0WZbGNid2233w01vHBBFjtJi0kdeg96w1dq7kEce\n",
       "jNldVWU1Ox9ZCHn1mj1iP4LinG3Wtdp2ziS3f9R5wCey3vQdjp7lWkVXytGVcdm30YdoFsjkurpJ\n",
       "5MjJlk4B8uS2PaNxHZrp6EtqvqRn/wBWVpP8Vxdtr3ttfa31FcKSe91ltpYah8baWmkLOAA45nqe\n",
       "n5rWNXqa53CTjqLncKg+MlQ938SuMWvg/ru/07a64Xcxh4BAaSdj9uy3ar1lYbdKYKak5sbZK+mI\n",
       "3atj9t+9rdMtz/bYq7NlmxW0x4dddLNDP/EYvl7JK+ZvrSyO83Eq0X5zsxwhxzMcZzzAVC9fh4rK\n",
       "GkNTVXiQ4/vzVe1cQIayoEMVG37f9l07v52fRjduFiOiqikqoaa3/pclMBwCQvJaMjvwPzWWbLbl\n",
       "Fqu2U8VS/sq6mGI5T+sOmCua9mdm+0Z1I7/EroTZ5QmIMwOi5zeofytGyk5y8xjHMep+q3OkIfIX\n",
       "8oAPbyW9dMW5zo2NlbwO5e8H49FlFLppzsep3dyxfQt0lihaDgjwctmadmjnhacuiJwTg5b8lxG5\n",
       "yvjeVtlOwFu6tUViki/5ZC9VLRSNPQrOLVbmzs/5Tz/aYW/mr3RaaE/N1PBnPQS9fyWsTXbl+YK+\n",
       "ZAVriFsjeXNekW6WdnDwO8Vs2m0gHvwaKLHj2o/kvdT6UOP6tSscOn2pI/gsc+8s8v1CrNpytURa\n",
       "UnqSPsnH4L302z53Zl8oDGjvccYW1W6d4PaljZnuijGR8SvNWaepYpePD5ndcyO4gPIdAqH7bLtg\n",
       "qv5Ud1qTV2jqm82Kpo7TUeg1EjeA1xZxCDnzLAersdD0BI8FhNz2b0GhdJRWm2wthpI8ud3umeeb\n",
       "nuPe4kkk+JW9r+ziiwOXLoAtd6yt/bUz2/Lks/a7tMQIs4bnOPX1/orKelaRzd1wVvd7M8ON3gi9\n",
       "enJEvCOZatCZ5LvXbNoxl0oJ43R8bXghwIznkuG9YWE6W1LV0UnIQvJbnvaei+h34dtbfm6B1pqX\n",
       "bs3bnyXnXiTYTFUCsiGztjjzVtWQbKdIu17tBttua3tGOlBkH9kKwQQVFdI2Olpp6lzjj1ByGfFd\n",
       "Pbh2xGpi1cbjWw4LQHDI6Y7lt/F/iLRWqyyw00oMxGNj0WI0TpeerrWSzNwwea6woTS7INl/b4ig\n",
       "9GhyeWAMBfPPeA2/3rbRq2sdU1kv1ZHKRTwNOGcIPIkLp76Rja7JpvR0dhpZOCWvPA7hODwDmVw9\n",
       "1C5D+Gfh9DPFJqe4s5nOOGZ3+pW3cT9RPjc22UzsDG//AApm+qcqHUqCL2YBhcRyiIimUqIiIiIi\n",
       "IiIiIiIiIiIiIiIiIiIiIiIUQoojqqaIit1XUaf7lvkp1JT/AHLfJTqqz5QqTuqJnCIThTHopR1X\n",
       "0D2Nac0O7ZJpwyTUYldboTJnGeLgGc/HK+gn0fN30pZ907UdqtMkLq2XUUczRH1DOxAK+FGlL9fG\n",
       "W9lPD27o4hhnDMGgDwW59h29jte2DWo0elX2+Cnkr46+U1IEskxZyMZOccDhyIxnwIXGa7TFZOZo\n",
       "nHAcDg/yXWrXqKkgdFI45xjIX26vl5qrJpSd8f3ZHEM968Oyi2yN0++tfSxVZqXFxcHfa9T44C+d\n",
       "90+ms1tU2L0Sr2a2bmzD3x3Z4ye/ALTha93gPpqdoGt9ksmlrHYKTRlTKWN+tqKuc+qijacljTgA\n",
       "Z6Z8CVy6i4XXqScMcAG53Oei6fU8SrPHTl0biXAZAwtCfSVbWLNtp309bXuxUlZRUXpLaJ0dSR2j\n",
       "poGiGR2ASAC5hwAVoon1VPVTvqah8sj3SSzPdJI9xy57ickk95JUhXqm2UYpKSOnHRowvMlyqzVV\n",
       "L6g9XHKgiIr9WCiOYXVG4RtPpzdJLNWuAFSOBuenFj/MBcr9ArppLVNTpC8RVlNI5jo3hxweuFzf\n",
       "ilon/E9jkomHEgyW/ULa9I339l1wmd8h6rf+/juyVWi9TO1TbqfittYB6Q1jc9me53kc8/Jc2HmF\n",
       "9Ft2veO03vEaQZp+/wAsfppYI8ykDts8u/vWn9536Ny56cqqq66TYZ6dzi/0Q4IPf6pXCOFvGB1h\n",
       "cNJ6xzDJGcMeehHut71XowV//q1n+NrtyB/Rcju9heERelXhg68OMe5ZFX6SudiuraSvt9ZSVAPO\n",
       "OWMtP5q1WqDN7d7nFdU4l3yCooo20kge075ByFhNF0EkUznStIcPMYW0tmlsAhZyHhyC3XoajLSP\n",
       "ILVmzmlAbHj3Lc+ioA0D4Lx1qGclxXaKNvTK2VpOLDG+S2Np71YAPJa+0yMBbAsP3bfNceupyd1s\n",
       "8PQLNbPLjh9yym2TcTxzWJ2b11klAcFq0SsAJWWhdssnoZ+FvmvZC/PVWmhd6o8l7YZeE8lgJGbq\n",
       "6ByvTI7GV5KkGQFVZZeIBUJJsFSsCmysfvEfIrCdT0PEHfFZ1cu9YpqY8YcfNbDb3kEKymGW4WnN\n",
       "oVrDo3dOa1LpXdnotqOo7lVVNFHP6O5rGuPxPRbv1zT9ox3xTdalpWX6/QzkNPZxyjnzd1B/iF0+\n",
       "hvFVQ0T56VxDgB069Qteno4pphHKMhYDBup0VulZDDSMbz9VrWdFsvS+j6LZPYHzObHHwjief8ln\n",
       "Gq9TUFmpjJxtibzy5xXIu+VvgUtHYJrPaZ+Otny1vAebO4uKqWClveqq2OijDncx37/dU7hPR2yE\n",
       "zPw3C593sdqH+8/azVyRyF9JRkxRc+ROTkhay6N809o57zzKHqvqnpDTsVktENtiGAwAf8ryVeLk\n",
       "+vrH1MncqCIi2ZYpEREREREREREREREREREREREREREREREREKIUUR1VNERW6rqNP9y3yU6kp/uW\n",
       "+SnVVnyhUndUREU6kU7J5IfZe8eTsKq25VEY/rE//qFedFJyN64U4eQq5ulS7rPP/wCoVTfK5/Vz\n",
       "j5lSIohoHyhQ5jnKIiKZQRERFBRHJ3NOjlBFBTZXtsOoa3TFyZVUNTLSzxODmvjdg5C6w3evpQbj\n",
       "pSKK26zp/rOhwG9uBmRo965CRc+1twzsOqYfDukILuzhs4e62Gx6quNpfzUj8Dy7L6dat1Fsq3oN\n",
       "mt0Nnr7cLv6I99NHJwtkbIGkgDz6L5rS2p1q1NKHcuGR2R4c15rRc6ux1raijqZaaVpyHRuIWYXa\n",
       "3O1PYYL3DhxeeCqx+pIOufPquJf+Ec2lqGWKGcywuOWh3Vvp9F0qi1iy6zAvZyvHXHdZls8qR6PH\n",
       "jw65W5tHTcMbVzroO8+gVIidnqMFbw0TeQ7h59VwHUdI5rjldEoJA4brdGl5w78lnljm5N/mtW6X\n",
       "urWgZKz2wXJrgDlciucBytohIwFsazVIaFf6Cs6fzWFWu5tDQOJX+grmkjmFpNVAcrIsIwsxt1SQ\n",
       "Ov5r3w1P/WVjdDcAW+0vYy4N4va/NYKSA5V2Cr66UcPVeKoqfevH9ZAN9peSpubB+spI4DlOZQut\n",
       "Vhp/msWv9TiFyuF1ugDeqxDUeoY44X8T+ncs/QUriRhWssoxhYnrSsxDItCah3ghsU1DNVg/fRGI\n",
       "+/n/AKLYO07XkVHTyZk4WjJJ8FxHtc17/T3U8r2P4qWJxawA8j4lek+EmgXagrm0cw/dn5voudau\n",
       "v/7NpjMw/F2WxNqO+te9cQSU9NmOJ2cO4jy+C0pWVMtwq3zzyOlkkOXOccqm1vCor3rpDh5ZdNsL\n",
       "bbFgnqe689XnU1dc3ZqXZHkiIi3la+iIiKCIiIiIiIiIiIiIiIiIiIiIiIiIiIiIiIiIUQoojqqa\n",
       "Iit1XUaf7lvkp1LDygb5BTKqz5QqTuqIiKdSIiIiIiIiIiIiIiIiIiIiIiIiKJGCrvpLWU+k6p2A\n",
       "ZqKfAqKcnlIPH3EdxVnRW9RTMnjMUu7Sq8E74XiSM4IWx5rIysohcba70mkf6xDeboT4OHcVetI6\n",
       "8dbZQ2SRw8CVrPSerq/Rte6ooJuAvHDJG4cUco8HN71m2nrjadoTXB00FnuxOOyecQTf3XHofcV5\n",
       "81zwsL8z0m4XV7BrJrwIqg4ct76H2gsnhZ9pnPvWyNOayY7h9cfzXJFTZ9QaDdxASOh6hzTlpHuK\n",
       "vFh271VpcBNkYxkFeY77w/qmPIDF1CjvUTm5yu17RqlpaDx/msit2qWHHrlck6d3kIhG3L29O8rK\n",
       "rTvG08pz27c+AdzXMqzR1SCQWFZ2K6R+a6ootTNx7S9jdV4d7a5spN4qndF9+weblLNvJ08f/Pj/\n",
       "AHlgnaQqiflV4LpF5rpWbWDGs5uPRWqt1twjk4fJc23jempYIudUwf8AnWv9T75tJTZHpnP3SZWQ\n",
       "otAVspw1hVKW7xNGcrqjVG0uKmgOZg3HPJWodpW8HQ2WklkfUMHCCSXHwXLG0HfNqryXxWxkkz+n\n",
       "Fk8lres1FddZyGa6TnhJBbDnLfj4rtmheBddcpR4jeVvcrSb/rimo2Zzl3ks82ubfanaHXywUUkj\n",
       "aUkh8gGOPuwMrAoYezZgJGwRMAaA0DoAFFe5NG6LodO0Yp6Ub9z3K4Ffr/UXOfxZTt2HkiIi3FYB\n",
       "EREREREREREREREREREREREREREREREREREREREREKKA5tRRCkREVuq6mgPFC3yUykp/uW+SnVVn\n",
       "yhUndUREU6kREREREREREREREREREREREREREREUc4TqoIoYB6hTA46K/wCntpd407TiGGrc+AdI\n",
       "5PXaB8VcJNpkNwZ+mWqle/vfH6pKxBM5WDrdOUFVvKzf0WVpb3V0/wAjtvVZBU362ztzF6TB7geS\n",
       "801a2SPMVXM0e8q0ItRqOGNtlOWnHsFnIta1bOoC9stfU8XqXGQD3leeaermH/FP8X+ipIrRnCe3\n",
       "A5Lv0Cq/45q8Y5QqM7J5xwy11Q8Z6N6fNUfqSJx9fMn992V7EWfoOH9opt+TmPqsZU6ruE23Ngei\n",
       "pxUUUA9VrR5BVWt4VBFt8FLFC3kiaAPRa/JM+R3M8klRzyUERXCpoiIigiIiIiIiIiIiIiIiIiIi\n",
       "IiIiIiIiIiIiIiIiIiIiIigPYUVAewimCkREVuqymh5QN8gplLAeKFvkplVZ8oVJ3VERFOpERERE\n",
       "RERERERERERERERERERERERERERERERERERERERERERERERERERERERERERERERERERERERERERE\n",
       "REREREREREREREREREREUGeyooBgIoqmiIrdVMlRp/uW+SnUsPKBvkFMqrPlCld1RERTqRERERER\n",
       "EREREREREREREREREREREREREREREUUREUERFEKCj6oiKIblCMIigiIigiIiIiIiIiIiIiIiIiIi\n",
       "IiIiIiIiIiIiIiIiIiIiIiIiIiIiIiIiIqaIit1UU0B4oW+SmUlP9y3yU6qs+UKDuqIiKdSIiiDg\n",
       "qLfaTrsoqVFHGSgRMKCIiKCIiIiIiIiIiIiIiIiIijnmnopsKCE4Va20Mt4rRTU7eOV3cO5bh2Q7\n",
       "vcEs7Km4ATy5AAPstXNta8T7Xp5hZIeeT/SP6rarDpGruWHtGGea1PbtNXG7yhtPRVEh7sNWS0e7\n",
       "9qq4wiRtuLM9z3AFde6H2Z0dIRwRMAAGeXVbNsGh6eXH2LQvMl6/E7c2OIpYWtHruuoUXCujxmV5\n",
       "K+e0+75q2mjz9VSyY72EFY9d9FXawf1y21UI8XM5L6r0GzelqoQDC05Ct+pd2+2XuAh9Mw5B5ELG\n",
       "W38WlfG/lroGuHpsq9RwipXNzC8hfKVrsITkrtjbLuJ2uqjlmpqTsJeZD4+WSuX9ouwO8bPaqQmK\n",
       "Sogaeob6wHvXo7RHHLT2oGiIyeFIezv6Fc4vmgbjbjzAc7fMLBkRrsn+YUe9dna4OHM3otFLSDgq\n",
       "CIimUqIiIiIiIiIiIiIiIiImVEBQyo4UEUcqMLDUO4WMe8+5pKoTVUMIzM8N+pwqjIJHnDGk/RSk\n",
       "4UOPK97dMXCqGWUNWR4iM/yVKo0/W0rsSUVWw++J38lj26gtjjytqGZ/3BXf7LqsZ8N32K8yIcg4\n",
       "IIPgRhFk45mSN5mHI9FZOYW7OGERRIwoKpnupUREUVBERERERERU0RFbqopoeUDfIKZSwHihb5KZ\n",
       "VWfKFB3VEUVBTZUuFHHqqvb6J9yrGQs6vOOIjPCPFedeigpKurnHokFTK4OGDEwnn3dFi7pWQxU7\n",
       "+eURnGxJGAfPqr6jp5Hyj4C4fRdN7F9xvRu0Gysqa7WtwEjscTKWjbhp8MuKxLe13etEbDKSlFhv\n",
       "91r7hM7Ho9VGzBb3nLei2JuSaoq9ndDUOvulr7dHzyZibDRPdjp1PIKwbzm79rTbhtOqdQad0nf2\n",
       "UVQ1rG01TS9mYcfh54xz/ivHWntfXlmsjFeLnikYTueXlcPL6Ltd10xRfsUPoqX96QNt8hcyIs5l\n",
       "3f8AUeldbus2oLbLQ1ETGSywueA8NcMt6Z6rJId0nU+v5C/SlifNDRgCpc6pHtHOPax4HovR0/Fr\n",
       "TUNSKd04wRnm/wAv3XMGaMuro/EEZz5d1qJFsi97puv9PxOkqdPyhjRklsjHfwK13UUslHVSRTxv\n",
       "hmidwvY8Yc0+9bdaNT2q6f8At87ZMf6TkrDVlprKQZqYy36hU0RFnljURERERERFHHJUq1zhD6nN\n",
       "x5ADxVXHJS2Gjnvmp4qOBvFI94DOXTxPwC1DWd8Nrtb52nB6BZ/T1tFbWNiO4Ww9jGnPq57OFj6q\n",
       "rmAcWtGT5+5dHaG0lWtga6dzKYdeBo4irPsd2Y02irVGB9rPJh0krubnH+S2NSfZ8l88tVagfWVL\n",
       "n55j5nuvSlsoGwxhrdgOgWQ6ehFAGntS7uOWhbE0ncIpGtOW9QFqumnw/krtbby+nxwuIwVzOupP\n",
       "FHVbHFIAV0Hp6kZLCx7cO8u5ZJS2gTDmPyWn9nG0Z9HO1sx4mZAPvC3nYquG7UTZYCHMPQrm13hl\n",
       "p379FmaYhwVmvOh6a4Upa6IHI8FoPbdsOjqopnCnbjvGOq6qjow9nTuwsb1tpNlZQP5Nc7GRlSWS\n",
       "/TUs4LXKepo2yMwAvlDt03e/q6aart8XZTNyXMA5P/1WjsOjeQ4cLmnBB7ivpDt70G2CeYsjHDzy\n",
       "MLiHeB0T/R+/NromAR1BLX8I6OH819G+AXFWWtLbRcH82R8JPb0XnXiFpCOFpraVuMdQtdoo9UK9\n",
       "c+pXGMKCIihkJhEUUAyoooIiIoIiifVKAZUFFM81GkZJc6wQQNLnZwfALxVNV6ZW+iwO5/rn8AWz\n",
       "9leiDUT09LSwPmnlIaA0cTnuXIOIPEltpaaej3k7nyW+6Y0i6sxUVOzOw81Lo7Yyyqma6te5+Rnh\n",
       "acALbultmVFTwjs6Zo5cvUHNbK2TbuArXxisfJNO0gyRQ8mQ/wBl8nj7mgldA6P2I0dDEGtpKJgx\n",
       "hpEXGf3nZz8gvHmqta19UfFrqjA/idgew/7LtVrsdJTtDKeP7D+q5usegYmRfc/4VeaXZ3TSjnAz\n",
       "3+quqKTY+OxAD4evQwR4H+FU7lsccYuF1LR1IPRzGdi4fFvL8lzN1/EkmIKlpP8AuI/mAtiFHyt+\n",
       "Nh+y4+1huzWXVMRL6OMPzzcwcLh8VpDavuh3HSjJaqzPdVwtPEYXn1mj3HvX0DvGyn0dmKeORsrQ\n",
       "S+CfAkwO9uOTh5fJYbeNJB5cyRgBHcQt00zxb1DYKhrWTHlHVrtwQsBdNH264RnxGYPmNl8y5Y30\n",
       "07opWuZIw8LmuGC0+8KUjC613mt22DVFC6utsTIrlCOLDRgS+4rkyqhfRVD4pWPjkjcWua4YIK94\n",
       "8N+I9Fqui8aI8srfmb/fZeftT6YqLRPyP3aehUiIDlF0paqiIiIiIiIqaIit1UUaf7lvkp1CE4hH\n",
       "kFMRhVGnDAVAgl2F5q2d7Zoooub5XcPktx7IdjdtvTWSV1P6S49eInH5LVekrebpqYfhj9Uefeup\n",
       "tkFpMFND5BeReLmvK4VL4KSUtaPI4XcNIaZpRAySdgLz5rZOzDYRpehY14sVtL+4uhDsfNb30Ho2\n",
       "3WyniEFBSRcv1IgFguiKXhhi5La+lIcQN+C8X6kvtdO4+LM4/VxXYqChp48eGwD2WV2S2xhnJgAG\n",
       "OQWQU9L2QaFbLBDzHkvPth1ezQGyrUF3kk7P0GhkewnveW8LB8XEBc3aJampbAw5Ljj7rOnDI8+S\n",
       "5Ki0+Nru3HV2o3M7Vk1ykp6c/wDhRExt/JufitwbBdMx6drr3QBrWulEU4GOowWn/r3qz7s+lm2z\n",
       "RdMHxgykBz3OGS5xGST8Vmk7v6O7TbRM0YjrA6ilAH4gC3/E0LoV7uJmlkomH4WjA/8AiBj+Sw1J\n",
       "AA0PPmrdtD0o2qpJOXJwwVwXvlbEjp26uvdKx2C4ipb15dzl9KNR2ftYZBjl5LRG3DZ3BfLNURTR\n",
       "iRsjC1wI6g9Vs/CbXlRYLtHVRu2zgjzCxWqrFHcaN8DvZfNIHIRX/aTouXQesKu3yNc1jXF0Lj+s\n",
       "zPL+XwVi9ly+rNnu0Fyo46ymOWvAI915HraN9NO6CTYtKlREWUVmiZwi9Fvt31tXxU/FwmZ3ACfE\n",
       "9FQqJTFE6QDOBlVoYw94YTjKv2h9jmpdpQcbLaaisijBc+QENa0AZPMrJt2bRrZ9R1VfKzOHcEZI\n",
       "6DvXj2abS9QbLpTQ09VNTOkDqeUDoWuyDy8is/2BUwoaKWMAADGPmvIPEXWV1uVJMyqY1jAcNAz3\n",
       "65XddNWClontdGS5x6lbltrOCIAchjkrrSvwPgrXQuxG3yCuFNJhv+q8wTbldMacDC97JeE5Xspp\n",
       "8K3sevRTyKwc3ZVVkFmrjCeLJC3ZsJ1wRU+jSv8AUdyGe5aBpZvW+His12f3k0V0iIdjnjIK1u80\n",
       "TZ4XAq/pJcOwurS/3qjcA2aBWqz3r0q0QPJ5lgPJV5a/jj71yPwC1+PJbI14xstIbfNNGojf6PTy\n",
       "VMjukcfV3z5Llja9up6t19ZqqKksruN4zHxvaPW7u9d4TsgfXv7ZjH88jiCuNO+hDR9jEPgF0zTm\n",
       "uqyxvZNSty9pBBWu3GzxVzDFL0K+SV23Ctqdoh4/6NvqGgdIpWk/xWLXTdp1/ZT+k6Rvbf7sBf8A\n",
       "wyvs1V1lEym5shwsbrdUWqlkPG2l9XxaF6Ftv4vdUbNlpY3+x/5XOKng7azuyRzfsvjkdjmr+PH9\n",
       "Gb6OffRSfyVSPYfrWUerpa/u8qKT+S+r2p95rRWgonuuFXbIODPIvYDy93Va21B9Kfs8tDjHBKKj\n",
       "HL7OEvx+S6BbfxJa1uGDR2bn+nNj7rAVHDOywbTVmPsvmlfdOV+l6kQ3Khq6CUjIZUQujJ+YXiwQ\n",
       "F1dvob+ent4fZxJYaGxdrUumY+Gtmh4HU3Cckt78kZGPeuUe/mvVHD7UV0vNr/N3ik/LS5I5Sc7b\n",
       "b/Rcn1BbqSiqvCo5RK3HVQRR6KHEt3L2j5jhYLlPZR6lUa+o9EpnO7x0Hiq2cleG+OJpTjxCw9+u\n",
       "jaOhfO124WTtVE6oqWxkbKrs7tD664Qsa10tTUSADHMuJ6BfRHd43eW7LNJ0hrY2/Xl0AdKR7ULD\n",
       "z4R4deZ965e+jR2OM2tbeqUVGDS2dhrZQeYPDkjK+g+jCzVOqqu4huIDKRB7mDk359fivA3EXUP5\n",
       "SOSoO787Z6Z9fp1XpGx0YkLY29Fk+jNHRUNLH6rRwDkAMY8gs3ttM2GMcIx3clZ6WTsYh8lNcNcW\n",
       "/StH21fVQ0zCeFvG7Be7waOpPuC8kXCpqq+YyPJc4+66RAyOEYb0WVUzA0cl7aeIPb6yxrTe0G1X\n",
       "yVjGTSwmRwDPSIXxdp5FwAKywQ8DVrtRHJEeWQEfVXrC3Gy8V80tS3qk4Xtw5vNjwebT45Wp9e6K\n",
       "e18gkaTWQMyXYx6Qwfrf3h3/ADW5mTcKx/X9rNTQekxfewnjAxniHe34gkLcNMXaSocLXUnIOeQ9\n",
       "wfL6HosVX0rWDx2e47Eea5l1LamSNcOHn/BcXb5GzZmnNQw3eCIMiqT2c5aOXFzIJ/gu69oNvbbL\n",
       "1Kxpy3PE0+4gEfxWmdrOy9+1y2z2eBjDNUsPC57ciPHPiXc+Fer5NPXmKtecR5w//b3+y0vVdkZc\n",
       "qF9OB8Xb6rg9vRFu/W24zqHR1N2j7nQS47iCzC1HqXSFbpKpLKtjMZwJGO4mH4r6I6d4jaevZDbf\n",
       "Uhx8uh/Vebrlpe5UO9TGQrYih1P+qmC3YPB6LAluFBERTKRU0RFQVRTwetTt8lM5/CxzvwNLj8FT\n",
       "pv6u3yVSeLNulPc5zWefeVib7WflbZJMOzVkrVT+PWsjPmsn2NWgSztc72uLJB966q2aWzs4YumO\n",
       "S5z2NU7TKwgdea6c2dvDRH5BfPbXFS6SVzivTFoiDWgLcmi6XDGfNbP0xBiJi1vo17Wsbk9y2Xpi\n",
       "ZvZN5rzxeSclbrTDZZjYochc6/SJbY6dsWntn1FUNkuF4q4624RtOTBTRODmh3hxPHTwauirNUta\n",
       "OoXzc3x7dc9B77+pbjcWOaK98c9HIfZdAWANx5YIPvyslw3tUVZdnSSfNG0uaPM7AfbOVSvdQ6On\n",
       "aG9zv9F2Dstv7KDT9Kx2PZ64Xn2w6v8ARbUyshe1j6KaOdrndAWnPP3LRekN4NlFboY+0aeFg/W9\n",
       "yT6/q9tup7dpy2tdLLcapkb+AF3ZR59d5I6NA6lZsaZnbWGokGGjcn07qxFa0xhjeq7ZvNM2oi7R\n",
       "uC2RocCO8HvWsNodk7VknIYW1rxNDBC2ONw4GANaM9AOi17reqjdG/1gub2p7my7LN1DOZm64P31\n",
       "9nDZKP60ib9pSOPFgcyzvXM+eS7s3k7fDdbDVxOw5ronZz3rhR8fZSPb+BxC+mX4bNQyVlnfQTHP\n",
       "hYx9CvNPFC2thrGVLf8AN1+oUqIi9LrlSj3I0uZzHIjmCOoUEUpAIwVM1xG4WQ0u0isIi9Lgpa7s\n",
       "xgOkbwv5e8Yz8Vt/ZRVtpbo9g5MqIxKwe7P/APFz+tq7NNSiaxUlU1/6RbXdjUNxzLO4/wDXgVxD\n",
       "jDpWKezOnpWYI3OF0jQt6kFZ4EztiNl0XbqntYR5YXvj9gLGNM3VtTA0g8nAHqsgp58gLwpUQlri\n",
       "Cu7scOqucXtL0x+qvDDLxP5r1Rv6c1jXBXQOSvbTyZKyXTMxFUzHeVi9I7D1k2l3fpMfuIWNqx8B\n",
       "VWHZ639o+69nZIWlxOGDvV2+uRwLXNj1CIG9nxcmAN/mrjUanbHCTnu8Fzae3kylZ6Ooby4Kx3bZ\n",
       "tXbs7a2tqJeyg4uBzyOTSemVrKu337HSR/8AEuM+DACobxWv6b6jmimDZGOByyQBwI8lwHtO1R9c\n",
       "6lkbTcENLE4jhibwBx9679ws4Xw6mlZSPaQe5x2/v1Wj6q1MbbEZgenZdka/+kftlrt746Uvnm/V\n",
       "Bxn5Lnfadvuau18Xx0s5tsD+R7PHFjzWmuzUy9oaT/DzpezPEz4/Fd/F0+y4beOJF1rByMdyD06q\n",
       "vXXOru0xkqqmeokcS4ulkLiT8VQRF2+lt9NTNDKeMNHoAFok1XNKeaRxPuiiFBQc7hV3hUMkrPt3\n",
       "vRVt1nr6Fl3b2lDG7D2E4DjjkCu8dAbsmyavtETpNNWqU45lzV82rZf6uyOcaSofBx8ncPeskodu\n",
       "urbbHwQXmpjY3oAeS848UeFWpr/cTV2u4GFmAOXmcMfYrp+ltXWq30oiq6fnd54BX02p91HY7IP/\n",
       "AIQsf7i9cW6rsbhaOPR9g4ffFlfMpm8lraMcr9VhXmzbedZXrTlTOb9W9rSygHhPVpH+hXE7p+H3\n",
       "W0EBmnuzi0fxOW8W/XtimmbHDSgO+gXZm6Boiy6P3tdtwstFTW6mtdvkFDRwsw0N7DOWjuzzPwWz\n",
       "disgGmoD4xglcs/RY7VW2jeulj1BXvLdXUUlBJNOc9o8tIGfgfyXTehKCp2e6luWmbiOzrbRUOpX\n",
       "jPJwB9Vw9xbgjzXMuJlqqIKBkMpJcwgE+fwtGffC3GxVEb5i5uwI2++VsWSpLGhawjuX1jt0rZ60\n",
       "iRlugihoonDLYw4Fz5APxEnGfBoWxmP7Zo9wWIa12dG/1LammmNJXRjDJg0OyPBw7wuK2mWKNz2S\n",
       "HHMMZ8ltc4dgEdlt6119FcrR2U3C+N7MYI5jA7l6dnl+N70fSyvdxe2wPJz2jWvLWu+IAWkLRoXV\n",
       "V1kFPcdQQxW/pJFRU5jlmb3tL3E4B78Bbi05E212qGmjAjjhYI2NHQAcgsHdKGKFnKyTncTnbO33\n",
       "VzBIXkbYWSmTD/5LzXyQSUPDnHEQ3mqArFa75eBHn1vYaXn/AC+ZwpNM0j5LnC1n+ofpup7hIBTu\n",
       "ytH7ZKttNc6fpzgZn4DH+SwzQN2ZSa7Y53QxPbnw5Kfa9q1lw1XUcEgc2MiMHu5DC1LrXae/QUEl\n",
       "wY0SOjaW4PLkeRK7BR2uSqJijG7+nutYkmEYBcdhuvRvobRjBaqiKF+XFrmjhPTuC0Zu8QWbUF/h\n",
       "o9WThtHNKO0fKegPn7irXtP20P2h1YdL2cMYPNodkuPwWvrjfpaqT7MmNjeXLvXpnQvCm6S238s5\n",
       "phd/q3GFze+asooZufIePJb4bo3UF92l1FutuyjTlLp2OoMUFQ6nkqnVUQcQJO2D+HmMHljC8m+R\n",
       "sN0Xslt9slslfBT32rl4aq0Qz9s2GPhz2nMlzOfLBPPuWkItRV1PHwMuFY1nThbM4D5ArxO+2eXE\n",
       "kknJJPMrumnuHl3oa+CqkrzyRjBY3OH7d8krnFz1PR1NO+FlOA49Dtt9MBRREXY+y0RU0RFQVRRp\n",
       "/uW+SvFBaXXDTEz2t4jDUjPLoC1WilPDC3yWW7KNQ0VpvE9Fc/Uobm1sZl7oHgnhcR4c8Hz9ywep\n",
       "qR1Ta3xR9VlrJO2GuY9/TK92zK8fVFQA/iGHYK6C0DrWMNYHPweWMlaS1PoOo07U9owZjxxBzehB\n",
       "6EHvC8Ns1fVWV49ZxGeh7l4p1TpSVz3ZC9A264swMFdsaY2ixMa37VvllZ9YdqEccQ+1Z5ZXD2nN\n",
       "r7uD70j+KzWxbXah+AHPd5Ljdy0U4nJC2qnuYxsV2radq0bMfasHxVg20ad0lt6sjaLUNM2Yw84K\n",
       "mPDZ6c9/C7wPh0XOdr2h3GZw4Gyu8gr7Q6gvtb7FPVPPuaVrcemJKSYTwP5XDoQVfPrmyM5X7hXl\n",
       "m5boGkq+Nl61AIgfuu3j6eGeHK2LsnsGkNg8VSLBA5lRV4E9VPKZJngfq8R6D3BayFDqaoZltHU4\n",
       "8cH+S81RY9TkEmB4/vHCyFXHXVTPCqaklvlkDP1x1VCMxRu5mM3W6r5tuYM/aN6dxWvdabco+F2Z\n",
       "eh5AFaw1Fbb/AE7HZHd+MfzWltrOrbpp2lkdKD78HOFkrDoaKeVscW5Kt6y8FjC9+wCyzb7t4hkt\n",
       "07GyB0kjSxoDu9c1vlLnHPNxOSt0bkG6Nfd+PbH6EZhBabfwS3OQzBkkULnYAjBBy847xgDK+h7v\n",
       "oHNj3Hn621of/vYh/wDrXsvh+bToeA09c7E0gBIA6Dtn1XJ73aLlqbE9E39204yTjJ9F8h0X1E2o\n",
       "/wCz9WW71M1TonV10pKeittVVVFLXxiolkfFGXt4HNDRg4wcjl3Lh0bjWqScCZ5x1zF/oux02ubZ\n",
       "UQtmhJIPp0WgVei7jTSmKYAEbrTqL0XW2zWO61NFUM7OopJXQyN8HNOCqAOCtwY8OAcOhWqOaWnB\n",
       "UHewr/s51a3SmoOOccVHUt7GcDuB6O+B/LKsCEZCt6ykjqoHU8wy1wwq9NUvgkErOoXROldRf0dm\n",
       "ihe8uopsGGXi4gAegz4eC2TaLwyeFp4u7x6rl3Z/tFFmp22+45dSk4jmxxdjnuI725+IWyrNrqSx\n",
       "iPhlEsLhlgJyHjP6ru8LxdxG4UVVFUOqKRuWFd90zquGriDXn4gt4U9XzXvhqA5oWsrPtUpJox2s\n",
       "nZO7w5XsbUbTSM4pa2GMf2nhcHqLPUsdylhz9FvMdTGd8rPqSTn3K7019ZZoA4nMjuTG+JWnKjeD\n",
       "tjZDHby6sl6eoPUHmVXsGq5Z6j0qrlzIc4A6N8lZy2OfGZRgeSrCqZnIW/LRqXsab1net1Jz1Koa\n",
       "l2ixUFC7MuDjlkrUldtVgoqfLpeEDrzC0xtr3nWODqKkndNUEYwzu8/BLNoiquNW2KBhJKp1t3ip\n",
       "4jJI7AXp3p9vbKqR1HSy9rUTEtaA72R4rQLcyDLjlx5k+KhJ2lZWy1dS8yVEvNzic4C7S3JfofL1\n",
       "vO7OTqXUN6q9H0FYGSW0egCd1ZE4ZEnNzeEHu8RzXvLQ+nLboe1iS4uDZHf3hcGvFZW6lrfAoWlz\n",
       "W/3lcYAYCL6a1X+z30Igd2W0+r7XHq8dmaG59/2i5X3iPortqO7nabRXXc2eogvk1RFT+hyPlOIn\n",
       "AZOWjHECCOp8cLfKLXNoqwfy8ucLCVuirtSYM8eMrnJFk2sNjmodn1sbW3Km4aZ0gi4wCAHHpn5L\n",
       "GgMhbNRVsVVH4sJyFrtXRyUz/DlGCoIiK7VoooVBFD1UVH2Ssh2bXcUOoPRJD+jXEdg4E8mvPsu+\n",
       "f8VjuVHOT8cq1raVtRAYXdCrimqHQyiVvULZDHVehdU01dTOfFV22ds0Tm8iC05X0WtWvqTfC2Y0\n",
       "20rSvEdY6fo44NT2Zrcy1EMTf6zGBzLmjORjLhjwXz103qBm0yxmJ7eG80bcyAf/ADDBgB49/XPk\n",
       "r5sU226n3btexag0vXyUFbCcPaPYmbn2XDvC8p6+0UZw+ORuT5eY7bruNgvYLGyMOy+gGiNf01/o\n",
       "Wu7RvHgZGeY81lkErXHPJab0LvU7KN6KWKuu9yZsq1zNhlS6KEPtlzf043syOA9+W469Fsej2b65\n",
       "treO1stOq6At4o621V8cscjc4GWvLXA+7HxXj2+8Oa6GUmmHMPLuPZdUo73E9uH7LK6GRok81dIq\n",
       "oQj2lhdPbtbsaBJpa6xHmC58TWtGOvrE4SsbcqCjdUX6vtmnaNnMvnna+V391jTj5kLU/wDA12kd\n",
       "gxEDzOw/VX/7Vpmj4XLLrjqplGzh9uR/JrG9XFa7277XafZxpx9MZY5LrWtJcGOz2Z5gc/AZ6+Pk\n",
       "sA2nb6mm9mlBLS6XmfebrKS2SulA9X3DuaPcPmuYtXbXqzWd0mra+p7aWQ5Lj3e4LoOn9GfkWFx3\n",
       "ee/kO4H181iKy5CUgdh/NZjd9XdpK9+XHJJPPqVoneG2hSXEtt0MvJ/rSY6geCq6+2sfUsHC1xMr\n",
       "uTGg83FYHoDQWodtWvaOz2ekmut8u8vZwwxjOcDJPuAAJPuC9H8JdAmatF0q24gi3JPmFzjWN+5I\n",
       "fyUBzLJsMf33ViB4Qi+lemf9n8gudho5rhtIrKOtlha+eBlnDhC8jm0HtOeD3qybVvoAr9arXSnR\n",
       "WtoL/cZalkT6W4UXobQxxwXte0uyR4Y5jovTcHEOxSSinim3zhc1k0FemReM6LZfPDI8EAK2ntA3\n",
       "Ltd7O9dXew1cNLLVWarko5nRB5je5jiCWkgEjl4Ba71Npiu0bepbfcYjFVQ44hjqD0IWx0V5pquQ\n",
       "wwnJC12rtdRTMD5RsVb1BvsqKgz2VlljQpERFQU6jSn9Gb5Kdw42c1LDygb5BTKqz5BlHdcrNNDb\n",
       "Y6nTNI2318X1paugY8/aQD+w7w9x5LIr5pakvLW1Vqq6aeCVodjtQHMz3EdQVqlMLUr3oyiuJ5nZ\n",
       "afRbDa9SVFIOU/EB5rZ1usNVZ5fVp6SXHMdo8n+Cv8GtL5b2Zp47PT8I6mLix8ytK8b/ABKlc8uH\n",
       "UnzK0l3Bq2POZDlbCOINQOjVu2Xa5rVg4YtSUlIPCKCMY/Irx1O13WDm5k2gVbR/YqGt/IBac7Nu\n",
       "fZHyQNAVxDwbsjD8TB/9QqDtf1p6D9Vsy47R7rVNPpWu7zOepAqnnPyVgr9atqMdpe77VEdxqJOX\n",
       "zKxNFmIOF9ki6Rj7D/hWMmtri7ocfdXS436KWP1DcXu7zLUux/FWmT9JfxPLzjmAZHOx8ypkWxUO\n",
       "kbTSPEkUIyO6xNVqGuqG8skhwvqp9BPZaNmxWuqvq2iNTUXadklQCO2kayNhbxHrhuTge/K79yC3\n",
       "kvz17F957Xu7w+c6O1LcLNHUvEkkUTgY3Pxji4TkZxyX03+iy30Nb7ddg+0W7a0uDLvPo4iann7M\n",
       "Mkc0wvcWO4Rz5s8+ZXCOIWhq5tZLdeYOY5wwO4yu56E1rRPpYraWkOa05PbZdgXveW01sTkvAq7x\n",
       "Z/rg2iqaLbLUsbUOY+Fw4+EnOPevlR/2hlPAcfVzBgrknbBtbve2raVdtUXyumrLpdJ3yPlc4+o0\n",
       "k8LG+DQOQCxj9QHJ+a6BY+Hn5SjjiL/i6n38loV913+aq3vbH8PQK5a11D/S7WV1uvDwfWFXJUcP\n",
       "hxHKtjXZUUXWImBkYYOy5lI/ncXIiIp1TQjiCvOlNcVGlmOiMTKyjfniglJwPe0jmCrMitqikhnY\n",
       "Y5W5BVxBUyQu54zgrNaa926/O/R6l1BK7/k1DsAeT+nzwvPWUs0MmeJso65Y8Pz8liSY/Louc3bh\n",
       "fb6slzHFq22j1rVRDD2grL4NVzWhuRTycvBqqzbbqtkWGRuz7+iwwve4c3u8sqC1xnBK3PeDM8kf\n",
       "QLJniHUBuI2BXPUGv7vqJnC6cQRnrwH1sKzUlE2lcS3JLjlznHLnHzVVzsKHaLpFh0barQ3/AMnG\n",
       "AfPutTuV9rK4/vnbeXZX3Zxaqe+7RLDRVdPJVUtXcaeCaGM4dKx0jQ5oPiQcL9COyWw0Wl9ndvt9\n",
       "spX0Nvo2+jw05dlsTGAMa0cyeQAHXuX52rbc6izXKnrKWR8NVSStmhkYcOje0gtI8iAuvtnf0121\n",
       "3SENHSzw6eukDZG9r21IWvmGRxYLXDBPl1Wl8UdKXG7tidQ4IZkkErfeGuprfaTIyryC/GML7EHg\n",
       "YCS4YHUlc9fSkbzmmNA7L9ndqrIW1NRSVNdxvbggh3A4c/n8lrT6Xje+u+xbdt07b9PzGgu2v4/t\n",
       "Zmn7SlpjEHSBp7nEva3PhlfJm4a8vl2tdJRVV5udVRUXEaeCapfJHCXdS0EkDPetL4eaHnngfWyH\n",
       "GctA9c7rb9eazp4XNoWNz3J9CukN7/eX07tJ2RGz22k7Orlq4pWux0a0nK5YafVVWoqpqsjtZXyc\n",
       "PTiPRUyV3awWx1DTeA85K4deK9tXUeK0KCIizixCIiIiIiKCL0Wu5VFluMdXSTPgqITlj2nothWj\n",
       "Xdv14xsNb2dtunTjHKCoP/4n8lrVFh7rZKavZyzDfsVk7fdZqN/NGdvJbB1Bp+ptriHxO4eodjIP\n",
       "kV56DazqzRkTWWq/3W3xsPJkVQ5rR8M4WNWjWlzsUfZwVTzB3wyfaR/AHp8F7KjWlNc2/pFraH55\n",
       "uhmLQfgQcLk944bSybRtDh6rfaHWUIH7zLVmFTvnbTJKAU0usLu+JuQAZvHqscu23S/6lP8A3peq\n",
       "6r90s5d/mrBWTW+pJ4YqmPPvDsfwVsqrZSzv9UTkeJdjK048J60u+GID7LNDWlGB8/8ANZJ/vJji\n",
       "GXyZ8yrZctqNRcQYqFpe5xxxnkxqtMdjga/i4Afc7mvTFE2FuGtAHgBhbRZeDkbZBJXu2HYLC3DX\n",
       "x5eSlG/mqUUck9R2tTJ20/4j0b7gPBdu/QjaNtV926X663C2vqa2zUkXoVQJMNpTK8sfhuebnN5D\n",
       "PIDK4pJyVsLd03otW7rGr6i8aSqYoZquIRTxzxdpHKAcjI8QeYK6PqDTxdYpLZawGkjA7fcrXtPX\n",
       "xkN4jr6/4mg5PdfoOf6w6khpwM+CrWLUNJpfUFFX1RZ2NHOyd7HOALw1wJAz3rgT6ML6TjXO9pty\n",
       "qtH6sobP2ItctbFU0cTopGPjLc8QJIIPF7lyr9Khvl6k2sb1Nys9tuVXbLJoWsdR29lLK6ImZuBJ\n",
       "MSMesXAgeAAwvPlk4eXB15bb6n4SzDieu2V3m8a8oBajXQbhxLQOm66J3qt9TRrN5bXR9CyDe6kt\n",
       "yOoLyf8ANcGb1+0Og2o7a66622MRUroIYg0eLW8/isFuuprpfLhPV1lwq6qqqXmSWWWUvfI49SSe\n",
       "ZK8ZeXvLnOLnHqT1K9C2LTjqKpdK47dAuAXm+Nq4hGwKVQZ7KioM9lbitYCkREVuplNCcwN8gplL\n",
       "T84meQUyqx/KFB3VERFOoIiInVERERQwiIiJhERETCnjcGPJLeMeBK6B3St/iu3SbVqSgtFhpa2g\n",
       "1VT+j19NUTFzHYBAcPA4cR5Fc9orCvt0FbF4NQ3LfJXtDXz0kvjU5w5ZtdNe6bqy4waWhjJJIzOe\n",
       "Sx+53qirvubXFB5SFWlFWjpWMbytVF87nu5ndUREVyqCIiImERERMIoh2FBFBERETCioObxKHZqZ\n",
       "FFN1EdF7rE6gjqIzXOrGAPzmENOPmvAipyRte0tPdTteWuDh1XWm91v06Q3wdneiLfe7VdaG66Rp\n",
       "/R31UJbwVY4Gszw55E8AJ+K5xucuk4x+isuvuDsfzWNHmFBYigscNCzwackNzlZGvu01ZJ4s4y7G\n",
       "F6ax9K9x9HE4Hd2mF5kRZlrSBhYxERFMpcIiIiYREREwiIiJhRGFBERRUUyoIoIogqCIoooqIAJ5\n",
       "59+FKigQi3xuKb1Vq3OttNPq4UdVcD6NLRVVI4ANmikAzh3UEEAjyVj25bQNnm1Pa1qPUsFPfKMX\n",
       "6ukruwcQ7si88RGc+JK1Giw37Fh/OGuGQ8jG3ksqLvP+UFEd2A591eq99gI/Ro7h7uIt/mrPIGB5\n",
       "7Pi4e7i6qVFl2sx3WMLsooM9lRQDAU6lCpoiK3UynoP1OLPDyzjwV3Isx77l/gVmpvuG+SnVVmzQ\n",
       "pXjLldgLJ43MfuJwWP8AFcfmxWlMKb2UnL6q68Nm/afyYogWTxuY/cVpRPZQ5VduCx/iuPzYocNm\n",
       "/afyYrVhE9lHl9VdgLJ43MfuJwWP8Vx+bFaUwnsnL6q68Nm/afyYogWTxuY/cVpRPZQ5VduCx/iu\n",
       "PzYocNm/afyYrVhE9lHl9VdgLJ43MfuJwWP8Vx+bFaUwnsnL6q68Nm/afyYogWTxuY/cVpRPZQ5V\n",
       "duCx/iuPzYocNm/afyYrVhE9lHl9VdgLJ43MfuJwWP8AFcfmxWlMJ7Jy+quvDZv2n8mKIFk8bmP3\n",
       "FaUT2UOVXbgsf4rj82KHDZv2n8mK1YRPZR5fVXYCyeNzH7icFj/FcfmxWlMJ7Jy+quvDZv2n8mKI\n",
       "Fk8bmP3FaUT2UOVXbgsf4rj82Jw2b9pfJitKKCjy+quwFkHfcv8AAnBY/wAVx+bFaUUclOX1KuvD\n",
       "Zv2n8mKIFk8bmP3FaUT2UOVXbgsf4rj82KHDZv2n8mK1YRPZR5fVXYCyeNzH7icFj/FcfmxWlMJ7\n",
       "Jy+quvDZv2n8mKIFk8bmP3FaUT2UOVXbgsf4rj82KHDZv2n8mK1YRPZR5fVXYCyeNzH7icFj/Fcf\n",
       "mxWlMJ7Jy+quvDZv2n8mKIFk8bmP3FaUT2UOVXbgsf4rj82KHDZv2n8mK1YRPZR5fVXYCyDvuX+B\n",
       "OCx/iuPzYrSiZKcvqVdeGzftP5MUeGyDvuf/ALatKJ7KHKrt2dl/Fc//AG1bq0QNqXdh2vZd3aY4\n",
       "vyVJQPtBQGVOOqkREVFTqNP9y3yVRvMqnT/ct8lXVSM/CFB3UqmiqIqikVNFUREVNFUREVNFUREV\n",
       "NFUREVNFUREVNFUREVNFUREVNFUREVNFUREVNFUREVNFUREVNFUREVNFUREVNFUREVNFUREVNFUR\n",
       "EVNFUREVNFUREVNFUREVNFUREVNFUREVNFUREVNFUREVNFUREVNFUREVNRLTlToiiqHAUU6K3UeZ\n",
       "f//Z\n"
      ],
      "text/plain": [
       "<IPython.core.display.Image object>"
      ]
     },
<<<<<<< HEAD
     "execution_count": 2,
=======
     "execution_count": 104,
>>>>>>> 571a187f0f821897774193fdb90aa2e27d1090df
     "metadata": {},
     "output_type": "execute_result"
    }
   ],
   "source": [
    "Image(filename=\"data/teapot1.jpg\")"
   ]
  },
  {
   "cell_type": "markdown",
   "metadata": {},
   "source": [
    "# PCA example"
   ]
  },
  {
   "cell_type": "markdown",
   "metadata": {
    "collapsed": true
   },
   "source": [
    "### Make a random dataset"
   ]
  },
  {
   "cell_type": "code",
<<<<<<< HEAD
   "execution_count": 10,
   "metadata": {
    "collapsed": false
   },
   "outputs": [
    {
     "name": "stdout",
     "output_type": "stream",
     "text": [
      "cov: \n",
      "[[ 2.9 -2.2]\n",
      " [-2.2  6.5]]\n",
      "norm_dist: \n",
      "[[ -4.95399510e-03   2.07872131e+00]\n",
      " [ -2.44789446e-01   5.20458730e+00]\n",
      " [  3.19678754e+00  -1.25368851e+00]\n",
      " [  1.09735236e+00   7.86711774e-01]\n",
      " [  3.80772537e-03   4.80521721e+00]\n",
      " [  3.09129650e+00  -6.73910152e-01]\n",
      " [  1.34059520e+00   3.50246240e+00]\n",
      " [  2.63863909e+00   1.59544446e+00]\n",
      " [ -1.09104530e-01   1.12710260e+00]\n",
      " [  1.74838336e+00   1.92748023e+00]]...\n"
     ]
    }
   ],
=======
   "execution_count": null,
   "metadata": {
    "collapsed": false
   },
   "outputs": [],
>>>>>>> 571a187f0f821897774193fdb90aa2e27d1090df
   "source": [
    "cov = np.array([[2.9, -2.2], [-2.2, 6.5]])\n",
    "print 'cov: \\n{}'.format(cov)\n",
    "\n",
    "#Makes a random set of data (drawing from a multivariate normal distribution)\n",
    "#Get 2-dimensional data with 500 rows (500X2 matrix)\n",
    "#The mean of rows is [1,2]\n",
    "#Covariance matrix of the distribution is cov\n",
    "norm_dist = np.random.multivariate_normal([1,2], cov, size=500)  \n",
    "print 'norm_dist: \\n{}...'.format(norm_dist[:10])"
   ]
  },
  {
   "cell_type": "code",
<<<<<<< HEAD
   "execution_count": 11,
   "metadata": {
    "collapsed": false
   },
   "outputs": [
    {
     "name": "stdout",
     "output_type": "stream",
     "text": [
      "mean: \n",
      "[ 1.04906421  1.89864644]\n",
      "covairance: \n",
      "[[ 2.51033089 -1.92961244]\n",
      " [-1.92961244  5.61737971]]\n"
     ]
    }
   ],
=======
   "execution_count": null,
   "metadata": {
    "collapsed": false
   },
   "outputs": [],
>>>>>>> 571a187f0f821897774193fdb90aa2e27d1090df
   "source": [
    "# check if norm_dist has the expected mean and covariance\n",
    "print 'mean: \\n{}'.format(np.mean(norm_dist, axis=0))\n",
    "print 'covairance: \\n{}'.format(np.cov(norm_dist.T))"
   ]
  },
  {
   "cell_type": "code",
<<<<<<< HEAD
   "execution_count": 5,
   "metadata": {
    "collapsed": false
   },
   "outputs": [
    {
     "data": {
      "image/png": [
       "iVBORw0KGgoAAAANSUhEUgAAATkAAAE5CAYAAADr4VfxAAAABHNCSVQICAgIfAhkiAAAAAlwSFlz\n",
       "AAALEgAACxIB0t1+/AAAIABJREFUeJztnXuwXVd93z/H9oUrCL5iUkwa4pam1l40k5BMScA85HvT\n",
       "pLaVhCAgJgJDr1o7IxnJD6APG2b4Iy0lM4yhkQ3XxnZjTWRLsQlxSFNMMuFeyRhsEyYJpE2W5Cah\n",
       "CQWSdCQzhXtBwrt/rL29X2vt19ln73XO+X1m1ujcffbje/bZ56f1+D1GYRgiCIIwq5w3tABBEIRJ\n",
       "IkZOEISZRoycIAgzjRg5QRBmGjFygiDMNGLkBEGYaS6os5NS6hXAr2itf1IpdQlwL/A08KfAAa21\n",
       "+KEIguAllT05pdS/B+4Cnh1t+iDwbq31ZcAIeN3k5AmCIIxHneHqk8AbMAYN4J9rrU9Erz8J/PQk\n",
       "hAmCIHRBpZHTWn8cOJfaNEq9/n/AUteiBEEQuqLWnFyOp1OvnwecqXHMFslwVxAEoStGVTu0MXJ/\n",
       "pJRa1lofB3YBf1DjmGfXEdMTIX5o8UUHiBYXosWOT1oqaWLk4hXUdwF3KaWeBfxP4GOdqxIEQeiI\n",
       "UU9ZSHyy/L5o8UUHiBYXosWOT1oqEWdgQRBmGjFygiDMNGLkBEGYacTICYIw04iREwRhphEjJwjC\n",
       "TCNGThCEmUaMnCAIM40YOUEQZhoxcoIgzDRi5ARBmGnEyAmCMNOIkRMEYaYRIycIwkwjRk4QhJlG\n",
       "jJwgCDONGDlBEGYaMXKCIMw0YuQEQZhp2lTrEnxiNFoEVqO/DhOGW0PKEQTfkEI2wzG+DmPgPgms\n",
       "RFs2gF0tDJ3R4ofB9OX7AdHiwictlchwdbpZJTFwRK9XrXtWkRjMO6L2yWibIEw1YuSEmO4MpiB4\n",
       "hBi56eYwZogasxFtEwQhQubkhqMbHd3Mo4WMRtvoZn5vXHz5fkC0uPBJSyVi5IbDFx0gCw8uRIsd\n",
       "n7RUIkZuOHzRAaLFhWix45OWSlr5ySmlzgPuBgLgaeCXtNa6S2GCIAhd0Hbh4XLguVrr1wC/DLyv\n",
       "O0mCIAjd0dbIbQJLSqkRsAR8pztJgiAI3dE2rOtRYBH4c+B7gdd2pkgQBKFDWi08KKXejRmuvkcp\n",
       "9QPAp4Ef1lq7enS9rG70wtYW3Huveb13LyxKUIAgDEjlAkjbntxzgW9Er08DC8D544rpifYrQ/lY\n",
       "0euu26C9L5lPK1SixY5oseOTlkrazsl9ALhUKfUI8AfALVrrze5keYuEPgnClNGqJ6e1PgO8vmMt\n",
       "giAInSPOwE3oLrXReDq6R7TYES12fNJSiRi5pnQX+jQ796RbRIsd0dISMXLD4YsOEC0uRIsdn7RU\n",
       "IqmWBEGYaaTGg+A3fmRGEaYY6ckJ/jAaLXLHHTAa7WM0WpSU7EIXyJzccPiiA3zQYl+5/hhwe27P\n",
       "/YThnT2pGv6+JIiWlshwtWtkeNUWm6P1VwZRIswUYuS6pNgb2cNoNEQK8SJ1jW8bIz05w/4Y8CKy\n",
       "vTupYSE0QoarXTIa7cPMHaVxDa/6uyfVTszp9OfNnJ27cpB2nccwVM94Pp7b5vikpRJZeJgP6sbc\n",
       "tonN7Sae1xivXaytAewnNpSm3Rm14XvEwtQhRq5bpESgIHiGDFe7pv78lAxXm57HdW8nNyc4P89t\n",
       "M3zSUokYueHoV0e5IUi0tFugOAbssR5T/3zl85nlc3aTqhfry7MCoqU1sro6C9QxJGZbtX9Znf1s\n",
       "q8g2w9LtanPZ3J9te1++dILnyJzctDNMVMAkFjJkPlOYCGLkpp/ZyFbsWl1NcBlBMY5CKTInNxzd\n",
       "6Gjmm9eNlrqLDe0WJdxaZOFBtLRAjNxwdGXkuljdbK6lzLDUXZToSsvkEC12fNJSiRi54ehOx/g9\n",
       "ma61jGN0ffl+QLS48ElLJWLkhqNvP7kyI9ilkas3fHZr8uX7AdHiwictlYgLyazjY9KA0WgJeAII\n",
       "vNEkzCyyujr79L36Wr7aaYxu2sB1p8kk2tz3TNJNQUB6ckLXhOEWo9Eu3MPjVbIGrht87LEKXiA9\n",
       "udmnfz+y5plDTgKHGY0Wue02GI2OMBodbNgbmw1/QaFzZOFhOPxaeBiNtpXu05UvWrHHdRJ4OfBt\n",
       "4FPAZam9TwBX1Ezc2YW/YB5fnhUQLa0RIzccvuiAra2Qbds2cLl9dJ3Q0mYw7UYK6hqqrrKhZPHn\n",
       "OxItrWk9J6eUugV4LbAA3K61llCaaeXee6E8yN02FLwWeCNt5sDqJgtoQvVcoDCntJqTU0qtAK/U\n",
       "Wr8K85D/YIeahOngUrqdAzsMPJLbdgKJQxXGpO3Cw+XAl5RSDwG/A3yiO0lC7+zdC+WLE7bFi891\n",
       "cu3Y7cP0DNOcAn7eOjdocxORGq2Cg7bD1RcAFwM/h+nFfQJ4SVeihBp0GZS+uAiwG/hwtOVA5ny2\n",
       "oaDhFxinklZxHi3NDkzM650l+6eHyK7VVckrN++EYdi4BUHw/iAI3pn6+4+DIPgHJccIXbK5GYbL\n",
       "y2EIpi0vm219n29zMwwPHQrDPXvMv001rK0l17S1tTVzzrU10w4dsu/jOlf8njDLVNqrtkbuZ4Mg\n",
       "+L3o9fcHQXAqCIJRyTG1xPTUfNHSTAcshrAvagctRmFfay12Y1N9PqNpPXXMegiLDT7TvhIjtx7C\n",
       "Uu782qlzXC1+PyuiZYzWak5Oa/27wB8ppZ7ADFXfrrXuxRdlLinON13fw1UXaoRIjeuAm5/rizmJ\n",
       "GT7vyZ0/iN6LOfGMTsMuTMJNW9JNYU4RP7nhqK/D7kN2kiQ8aoNxftRnzoQ8//lngO3xFuBLwM7S\n",
       "83fhgGsM6N3A1YXzGPLnPwicw8wnv4nEediucTx8eVZAtLRGwrqml0N01Ws5dgwSAxe/3pn6ewW4\n",
       "O+rVLT3TwzMJMTdS+23QdPHB6M67jsTYVnXviYzoObLRESt0Hca1tYUE/E8/EqA/HRwmO3TbwPzY\n",
       "+xyOXR21XyExiHtIhpXQfpU3//lOAsfo0sG36Wr0aLTI8jIkPUkJ+J9SZLg6HM10dOEy4jpHMazr\n",
       "M8APk+3duRgvPjTRtA14O8Z1BOyhZXkXlnphXO2KZk8iFnYcfHluwS8tlUhPblooC4WqYwDLfMyM\n",
       "n1y6x3QBcHtNZemJ/2aB/eV+civEfm7F/d4J3Eb9XqT40M0zc7jk7IuWbnTUdZ2wu2vss2opd+04\n",
       "nXp9PGr2a1dpK79Oos+9n/2zFj/7gcYuMrCY8R3sxiVl+Odl9rRUNll4mH7GdeOwkZ/wP4FxW9kP\n",
       "vJhkweMByif/x9G2QfUiRvX5TC/wTbmt1TGxYbjFww+DuKRMPWLk5of6yTPjQs/JD/wKwvB2TBLM\n",
       "p4gTYpoVzuYk8aoXYOb/Yj7DoUNQNCouf7o6rJI1xAAP1jJYi4vQLPmn4CNz2L31RUt9Hdloh0XL\n",
       "e+u1hlXu87S7J8Vr69BEYyyWaMtHMWSHvyY0zHWtA2E26sH9WZPjyobp0/KsiJYxmqyuDkc9HXVW\n",
       "Bvusu2pf5bwGuAGbc3Jx/1XsyTENa2uwf79bi6n0lU4k8FQNfW2TafryrIBoaY2srvqPa14rWRmc\n",
       "RBJKG7YVWjOsPYe9+tadBW2jMX4b5voPpa7/oozvmlvfbCTT7DLzzBwhc3JClvKyfl0scuTn1zZT\n",
       "rzei3HZ2XSb8q+z6dn3NC+uUM0Tpw60tkHx5rRAj5z/dVNuq88OsTjy5YDlqwaLxFLDCaHSgcK1k\n",
       "UeN6TGTDtugdE5S/aJGW6MrHt/bPUMk53SnqhQrEyPlOcaWzuStD/R9mVU/NNoEbpjQexBi4OOHl\n",
       "7cCnHIbuLNkhbkDi2FulK2aD6gzGXadPn4TLjjBBxMhNA+MPt7r6YdpcRsw2o+scSVhWzGUtr1XF\n",
       "feQNfvE/hN3A6kwE2FenqBdczOGSsy9a+tNR7UYRRvtVRSi0jWAoumy4z1W8L20SYnaTRLOZljJX\n",
       "ny6el8me389nt4MmLiTD0Z+OajeUREvVCl51LGp1gejkHAvRtc+lzmW/L82ziHQRYF9fy2TqvlZr\n",
       "GQaftFQiRm44+tVRbiS602Kucy2mZOHnyKeEamJwx9MxOSPX5HqJbyCM5/bhy3MLfmmpRIzccPii\n",
       "A/rQkhjZndiyACfGp7kWe89qCXiC8bInN+nh2ozcQYoVzdr27ubreekQWXiYd0ajRe64g4lOzmdX\n",
       "d+u7gbR3e1nCOA3HBs64p4yXcLNqddq2sjtCVmIHR3pywzG8jsnPI8XXsfVyYk5gspnE83KbwMip\n",
       "zRDP512AcTt5Re6cj1u2tUl4GUZa6g1964WwtU28OfzzkuCTlkokrGu+qQ4ZGxfzw99peec+4DHg\n",
       "KpIEnW/httvghhv2YYxYXts1ZId/LvIGzqap+/CoYgibLW29uH30zRwuOfuiZXgd42XoSJ/H7tpQ\n",
       "dLeI23rqmPx7cbPVWD1asn9ZWw/LM6O43DHCFsfUuzfT+Lz4qaWyyXB1OIbX0cVwtXiO9PDTlkb9\n",
       "PuBazOJA2TAWkugJ1991eBxTVexspGkBkzo9jWsImV94cK8aT57hn5cEn7RUIkZuOPzQMRotsra2\n",
       "yXXXGXeH+v5s8T5lhipdGzYmMSjm/H9i2SfmKPDmGud0ka4lG2MzlHWN3OTnL9348bwYfNJSiRi5\n",
       "4fBFB9i0uIvMbJCtotWkN2ZzDD5IsWcFxpitAR/KbT8YaX01xjvgu5je2htInJBPAl+gaCBtmszn\n",
       "MeTn6dJGrnrxYbKpkPx+XnxmDsfwvmiZrI5mc0FFLeXzZfty17HNn8XtZOr18YKW/HzX4mKY2/94\n",
       "7u+bQlt24PznLdf/eAhHwjiLcZ0QM/v5jqSu10UY2TQ8t75pqWzzeFN80VKuY5wJ6+Y/uKIWYwBC\n",
       "R9tXc1+b8XPFse6LjEZ+/4PRewdyBq94zuw9y6dZt7X1EoO4L3Nfivf0dO48tnvQfBHH/d378tz6\n",
       "pqWyjeVCopS6CDMs+Cmt9clu+pZCaY3UeqwyvmtI6Ni+QdEN4m7gjalrngL+EDif4vxZ8szZU5Xn\n",
       "nYXPEoZ3RsPFfEGaBHtW4N3A2zCp2W0LFivUdc41CyVxhuF81MYK8JVa56nC/d13cvp5pHXEg1Jq\n",
       "AfOj+WZ3coQIl5HqE1tapaPAb2LSF+U9/j+GWTl9B/BVzHxYvhQgFCfykygCOMbycnrfDar9yuJ9\n",
       "bPfsbYTh7cBLMXGk9znOUS8PXZzyCh6xnONztc5RjQ/f/UwxTk/uA5iJ4Vs60iJ0RxdOqPlznABe\n",
       "RLJIsCfq2UC25/ETlK9+no3+tf2Y9/Dww7Bt2/5nNGTLEqb1nAQOEbty2GtH3BBtPxsdfzj6DOlz\n",
       "HMv10vLXtWG7v/dEre45hL5oM8YNgmBvEATviV6vB0GgaozhhbpsboaZ6u3Ly2FUqq/ZOdbWTGt6\n",
       "rO0chw7l55uS9+o65cafY3MzDPfssZ+vTMPp0+7PdPp0ftHCfu3Tp8Nwx47x7m1eV5fHd/HdzxeV\n",
       "9qqVC4lS6jhmziYEfgzQwOu01l932VL8WXL2RUu5Dpc7wmTcFKrviTuVEJbtXwdemNtmnIANNteU\n",
       "E8CDrK3dxnXXbaNpjrZqV5YyvdV+cl1S9bns37Evzy34paWaOpawrEU9uaBiv1oWt6fmi5bmOibn\n",
       "plCtxXVt+/aLQlcRaPtK5v1hduU0Pnf9sLNyl5Hk2GahbGFoVmmPRG2pk+++XTidL8+tb1oqmwTo\n",
       "TxddrJq2o2zeyrZ9NHo52SLQce8rrs6V5mmyK6crNJ9sz8+T5dkgmZesN1955gzAX5FETbyB0egW\n",
       "knqywjQwh5bfFy3NdXQVUD/pe+Lu9S2FWf+yMIQTocvHrLz36EoIYPO1O2LZL+1PZ/dHtM0bdtGD\n",
       "btcj9+W59U1LZZvHm+KLluY6hhquNnVMdhljuwG6PzI0ruFterh4UWQQyyIebNdwDXHL76fbyLnP\n",
       "2ey7bOLs7ctz65uWyjaPN8UXLe10TKZik1tLE8Nq9j0YwmMNjVxy/ksuCcN47sucLz1Xl+8Fxu1A\n",
       "WB6N4NJb3jM+fbrsml30oCf/vMy+lsom6c+njfFrsDZllTrOqUmlrtsoJq3cwMx7HcBkBok5g4mK\n",
       "SM7/5JNgfPAWgV8jO1eXzygS88qcxu0Yx2VTjNvoK0+jbmP7doAXY1I1pT0H4s8jTAFi5ISEOjUV\n",
       "XMeZ0C5b2NVRYveIMHwKYzSOAp8H/h57VMQyxmDuqXH1DUyG4TwvIzFErvoM1ZEOYfgUYfjmSHdc\n",
       "tLrPFEvCmEiqpeHwRQdAyGi0DXdNhfT2fKSBKyUTqf1/NHq9iomyeRNlcaj1SHTAs4H/Azwnt0+1\n",
       "X1xfpRrHR7S0RFxIhBj7sNQEx+/COPJejwnZuh34hZTryApuAkwOuH9L0UG4KaeAjwCbZF1YVika\n",
       "uHrk6zIIM4cYOaEa02MLycakrmCGqHV4H/CsMRR8FzN3twO4Dnh5jeHiSZr6xQkziQxXh6MbHd2E\n",
       "ebmHq8mQtCxNuS3NeMw3gAtLrv0dmhtAMwTOhkHlh9QvB76NqfD1asy9/gxNajNsbYWOZAGuNFHj\n",
       "fg9l+PLcgl9aKhEjNxzj6+iu7oDR4o6XrRMXaqt12pYnMEaqjPLU44ZPkZ37O4WZx7vbeo+y5zjG\n",
       "8vIZjh+P393A5Kfbg6l5cVXq3Ceif9N/P0ic/aTMONb/rnx5bsEvLdXMoV+NL1rG19FdBES5lnpx\n",
       "oXlftXHazTn/tHO1PmfWh/BAyfnXC75zRX9AW1bjsjTv1dcaz5nbl+fWNy2VbT5uSvrhN2lrBr/x\n",
       "ndyTcYxck3tS/HHmay+sh9VRB4+Fdifhr7XYlr/evrCYFKDKIOVTuNcx5G3bvrG/r6F/Q/5qqWyz\n",
       "f1PyP1CTq6vLAiPD3ZO2PYM296RYKMYdeVE/Y4m2GCdXu8ly/fS5vmk55mTJ+aqNXDrvXLnGE6G7\n",
       "/kRyLTFyg7TZvymTC2r34560CfOquiddhI6VB9Fnt5cPLeN2Y43PkG9HQxM2dixn8NZrGWYT1lWn\n",
       "MM6B1OfKF9xJrlVMUHA6rJ++qZvnpZvmk5bKJi4k007Xfl7jF9Ep15Xfbq43Ils02pZ082pGo3PE\n",
       "Ba6r+Q5JxMQGJi17/LcrCenuzD7bt2+SXdzYhXGbyRfbOYdZhY5rTTyAfeFhD9lV6O3RNvHTmyQz\n",
       "b/lnebg6iXvSZ8+32Hv6WnjrrWFohqZ5Dem2HpphbrpXdLbiGNdCRfr6+plemes7apY8NN9blOHq\n",
       "AG0+bsqsLjxM4p70a+Rc82AXhXCqwmjZFjf+oqGRcw1518NicenyHHR17pusrg7S5mO4mh0iVfl7\n",
       "zQfue9JFpa9ykiHizsJ7p06Bcdq9pOIs51u2/RPHvmcwmUTqskI600qSYSX2g3sLcAXZIfyC5TzZ\n",
       "bc2rggkdIFlIhCzmR7eLcTJulGUzydZbvRr4luUMtkLQaTawZx5xsR14q2X7YRJH3jKuJetUfBlJ\n",
       "UZ6Y0HJccVv/qbLmHjFyQpFxfoi2otFZQ7dKNqD/OaRzte0otW9fxxSv3gWU6dq0bHtl2YlzbJDt\n",
       "vV5q2ce2TfAQMXJC1+SN2ArVRWn+I6bXeD3794MJv7LxQkyAPhRzwaWxFcs5z9KzvIZiyqf7KPZe\n",
       "P+c4X/pctjCn6Ql9mmHEyAl9Y0tUeU+0/Y28611ghqunMIk18wQk2U/iYXXVfNsZ4M2YnuWfMBot\n",
       "RQbqBsf+qzkDdg/FYe2byfZSz1rOY9vWnrZJTeedOVyN8UWLLzq61VLPlcLmEGxbnSxbYT2eOjZf\n",
       "CyLdbKFkOrRXCEtHTaznVp1dlcD2lX7urmpybG6G1vNP+/PSQ5OenNAtdRYu8nN+pldSXGktX2G1\n",
       "Tf7beNKyLXBcL514c4V7761x+gjb5zaUzU/Wx2hZyehrXpt2LpkPFxKhX5pEYbjTp9uiHvK8GpOl\n",
       "eBV7OvUzwDsx0Q75XHivxbiqvCb6+6Rln1jjEib9U/79DeBwRYqqldT+K7QtBv4t2yK0UAcxckIz\n",
       "muRDq7dvfqEC4G+plyr9ZZEBsvXKwLiOvB6Tm+5/k03euQ34a5I6EL8FaJKwqzPs2bM9+gw2A3cf\n",
       "SU9y/DC4MkajJS4s5B39DJLhuB5zOIb3RYsvOupraV6D1b1veVqmJq1eSiUTrJ9/70hKT3FO0BSX\n",
       "diUPqM4sUlY0u0lz1av1/XnxpMmcnNCEfK9rBfe8kHtf0/v6ExKH4KQW6wte0FRTvof1jdTrDZLe\n",
       "zn6KNV/f+cxqpS1i4dgxsK/AputH2CkOcb8O/HbpMc14usNzzTStjJxSakEp9etKqRNKqceVUq/t\n",
       "Wpgwo5gfvyZrnLZjhn/7uflm21Fpv7m0oTpp2ffC1Hu7iYeNpuarwqRpfxx4KfAbJIsCV2GPfghy\n",
       "1zH1I5LhqM0l5hjFIe4LgQ8RLz40cwc5wNJS+u8zmELdQh3adP+CINgbBMEHo9fPD4Lgy1PUvfVF\n",
       "iy866mtpNly15U4rS5BphnjGVSLtDnI8zAbEL0VDyPtDeCAsdzPJ58hLa3/Ksv8Bx9DwYFjmBlJM\n",
       "KFqV6y6fKt59H+NmctsdiVrdHHTz8OxWtrYLDw8CH4ten4fJ8SXMOs0CzN9GMXfar2JfwUyGf4uL\n",
       "AFdYrpEuBl23OHX6+c4Pn20VxM5hFhNeRDZBgb3wTaInq3U0sgXrp3klTVddt2+HMLTF3wpVjGMh\n",
       "gyB4XhAEnw6CYE8Nyy/ME2bSPtte9rLitu/5njC89dYwcrw1bG6G4dqaaentYWi21V2U2LkzOb7q\n",
       "uOXlZN+y66fZ3Ixz8SXn+OpXw/CSS7LnXlzM7nPoUPH6a2vJOQ8dMvfv0KHy6wthWMNOjWPgLg6C\n",
       "4PNBEOytsX8tMT01X7T4oqNbLclw7ZjFmPyH3HD126nXJmGlGZatO4dyzQvOHAmTyAPXUPlIaFv5\n",
       "NYZxKRquHgmzCTVdWmxFeG7MDWfLoiPykRtxZMdsPi89tFYHBUHwwiAI/iwIgp+cwpviixZfdHSn\n",
       "pfjjzbeqRJjFXlA8t5atofCI43iXEVuPjl8Ki8VtTobpOa7iZzid2z8dTlbX4NoSdi6F+Tk29/n2\n",
       "zeTz0lNrOyf3bmAJeK9S6r3Rtl1aa8mPNd+sUnTsTVOVCBOetEVhsQ3jchLP553ApFz6cUwQ/3cx\n",
       "wfDHgIcsGlaAVcLwTkajl2LcSW7GrHjuAD7PaPSR6Bz5+bLt2VNxGXA3o9Ej0fXSCUZtURNfBxYY\n",
       "jRbJ1pVI63xRNNcpTII5tPy+aPFFR3dayns2tmGcq6V7W8ctva/Q2jsyGsoD6c0+daqD1Wk6NPUo\n",
       "DoT2il7fKvQm3fcp7q3KcLXjJmFdQpfkU6efIKlatQj8F8sxpzB519K9vK8Bh6LjLsDEp9bDrG4e\n",
       "AH6WdIhWNh1TkwSaZQQY37cN4kQEyerzTrJVvVaoWkE1x1+BWeG9FJPH7h66CBFrEo43a8yh5fdF\n",
       "iy86ilrGSQ/kLkJ9MDRFmMNUb+1gaHznvhXaejbmfLZejy7VZT8mWVywp1kqa/dHx99fsk91seqq\n",
       "tEyTel7GK6Dj+7Nb2aQnJ2QZt+5q0actfa4TwEHi2qmm53IEeybfmHzvMB9xUJergYsZjR4EQrIZ\n",
       "SPKcIekFbgD/JtJ6EfAvqJc8wNarXYh6mQvAV4GjwGcp88Mro37vbJWusqFMIz1ZU58svy9a+tNR\n",
       "3TMLU/t2U5KwztyY2c+2z1NhccWzfs+yepU3jHqVB0Mzn3Yw9TopOWhcSOLeXz6C41yuZ1mMQsiu\n",
       "CLuSeiartU2el2bRJ12Xmezv2e2g9XUhn26KL1r60VHvxxCm9h//B1FuZPJGbimEM61//OZacTjW\n",
       "wZRRchnZdDtQYUDT98U2VM0vLBTrsbrvadP7G+Y+d/3vac6Hq31dyKeb4ouWfnTU+zGEqf3H/0G4\n",
       "f9RFw2Wu5/KfK//xl69G1unRHXV+VliMenLx3OITFYYqDF1plYY2csm9GD8Nu02L562vC/l0U3zR\n",
       "0o+OpkbOHFNeLb7dNcOCkavube0Ly36c5c6z+c9i64nZtsXXXM8ZrAdqGDm7jnJjO/nhavetn2e3\n",
       "oyYLD7NPfgJ8g6pcaPHiQftFiMOYKvP5IPrLiCe83WnPY05g3D66yrr7KHAxyWLDiWjbmy37rlKc\n",
       "qD9acf5NXAsoWdeSCzALDz/OOC4izZIlzDVi5Gad8X4Mth+7MVLVVNUczZ87zZPAz5M1ztnrGyO5\n",
       "gPGzS1ekPkFsxO2ru9dj/O9iQ/8L5FdA7YWjP4vJTuLKfrKNbMTDBun/TJrUvajLJM45g4iRmwf6\n",
       "/zGsYq+7UJ1R13AJxsDZMcbrUyQG50lMeFfeHSNvSC/D1HW4liTEKt3DehNwW7Rv3o3k7qitYgzh\n",
       "qyj2Am8jqbWaLmgzv464PjCHY3hftPiiw62l7byPe67sQMm58801NxavprrPXa2j+DncNR5ciTJt\n",
       "SUFdbiT2e9hsMcD/58XTNo83xRctvugo19JmVa5q1TO738HQLACcrG0I7IsVRxw61p1GNLtv0ciZ\n",
       "HG/x+9msIXVXN8vjVNPaks88zc+Lh20eb4ovWnzRMRktiQEr5mHL7rOe+qHrKKFkuTG1h2U9Eab9\n",
       "5LLXqOOUXDQ6JmGlq9d2o9XQ1lsB3ufcPq/PywTbPN4UX7T4oSPvD9bF+er2/Kp6T+XXqB9BULfX\n",
       "VNQeRttt5QwfcPQSs+d2D7nFyPXU5vGm+KJleB1d+1o1PV9bI2eOXQrhMYehK/rXtXOGDaNr2a7z\n",
       "WNisl5jXciBsVpN1+OfFTy2VTequzjer1K+jOonz5cv5neDsWSrL9CVJJ1/h2GMB4zoSlxv8JABh\n",
       "eGfUmq5u2nzkjkbnecSpManpmlzb8ElM+qi43OH1xKma2tKsxOFcIUZOGA7zo96FydR7EIAbboDY\n",
       "MLl/rHljmuYUENKt8b6TrDF7hMQlx1V3NWtkk8+S1x4AZ8c2cO7rzT1i5OYb2w+0jh9bd+cLw62o\n",
       "h3OOrKPtCu0M06/SdYlMY4Auxxjj/cDlzxilrKHeH712OTGX06Q3lu0pXtPqevPCHI7hfdHih44u\n",
       "Fx6qVlTpfFobAAAUw0lEQVTt7iBLoXEh+YvaE/Fu15D11JxX+n1t1dP0O7IVn7HrcyftdC9EVM1n\n",
       "hiWf31bAZ5xUStPx7NZsozAMe7GlVIf59IUvWnzRAV1oKYZQbZCeZ7K//4uAplgsBsyw8ycIw6dK\n",
       "rnctJvIA8tEOyfvXkw21ymsqSzWe3JfRaAn4K7Ip1V9s1eeOyzXXN6xioixGuNO87yeZx0tr2YcZ\n",
       "lqbJh5SNN8dXjk/PbjU9WVOfLL8vWnzR0Y0We+8lTkIZpz/Pv1+VvsidoaPOSm51CvLyNE3ZVEv1\n",
       "HJCz+twrr817Y2HF5zoYNl89noVnt7L1dSGfboovWnzR0Y0Wdy0G2+u4PVVh5ELnsKvagLnSKx1J\n",
       "vW+7Xpx8M20A10O7r5zbyFVrrLpf62H94Wp+X/+flx6bBOgLXWGrxZCuQRpgapCm6yNciKmZen6t\n",
       "K2QD3e3PbnUKp6sx2UR+s+T9q3PbVoCbgCvJDlcPVChumubKHuCfJrkHH8N8hrPOfQUAmZMbEF90\n",
       "QFdaskZoG6ZcX5oHMJk+6nICuAKTLsqWNgmSFdkNzHzXKsX5KhsHIy2u1El59mNcQz4c/X0A13xh\n",
       "GlcGkqo5zCIho9G2hsdMCp+e3WrmsHvrixZfdExGiz1TyI25YVax4PQb3xiGttXZuvNQ1anG4xbP\n",
       "td1k1ZFt65XDwfaJDOpnIem+II0/z8sEm/jJCZPC5qu2BezGDGXBDF3PZPb4278FMww8B6xW+Iud\n",
       "pRjFcJikl5cmfZ0Nkl7VJuUlBo9ihoVuLW2dcWMfwbR+iVzonjm0/L5o8UXHZLQ0C0zPt69Zjqub\n",
       "l+2iMJu2KS5i3byS1qtfHYbFBQhbYH+XZRztnzEMw4r3p/t5mWBr1ZNTSp2nlLpDKfVZpdS6Uuqf\n",
       "dm18hQHpojdhiwSoP3eU7lmtAKvO8xV7UX9JNh36DkyP7ylML28BuJvR6EB07GGSnmWao/ziL0I3\n",
       "URh1WaUscqHqnkov0Erb4epu4Fla61cBNwO3didJGJQu4yBtwzEzeZ82KiewDy/rni9vGJ5jPTZJ\n",
       "mX4bZvX09uhvgI9ajnichYVasiiGs53EfM7usd8DiV8to033LwiCW4MgeFPq77+Zou6tL1p80ZHV\n",
       "0nboVSe1kd0Bdim1r815VpcOyaqHv98K3Zl8w2i7zQfuifD06bD28NBco0nqJNt9Wyodrpafp89F\n",
       "CZ+e3crW6qAgCO4KguDK1N9fDoLgvIqbIkwDxss/20yONzebm2G4vJzsv3OnafHfy8tmn6pz58+z\n",
       "Y0cYnj5dfe0dO4rnTbdDh+J6Dfbru95bXjbXX1sz5zh0yLw2GYO7v2/p67mu46LN9WeDiRm5W4Mg\n",
       "uCr1919XHFNLTE/NFy2+6MhqaTO5XW8xoV7K783N9L51XTFs7irpZou2CMM4jKuY3jyve7wQsmb3\n",
       "zXVM+fPS5aJEtWuLT89uZWs7J/co8DMASqlLgS92Nn4WhmW8BYMq7KmYXAkmXdctTrDfkztv2l0k\n",
       "H3kB8DjGGdg4GptFiRdH222sUp3KqKu0VTtbzaV19b3N4txeG8sYBMEoCIK1IAgejVpQcYxPlt8X\n",
       "Lb7oGF9LsRdxPHS5Xtjn7pJjzfCtbA6uLFVRem5rX9TDs8Wv1kvhFGupX5mrmUNwVcoo13fULpV7\n",
       "3e+yzmf16dmtbH1dyKeb4osWX3QkWsb58bStqdB0mNfM4KzXNCD2z5FU62pau6JJMZ96dSLCMAyb\n",
       "1IZo+12KkWvdfLopvmjxRYfRMpSjqbtkn/1HWt/IuRNXtvmO6ifM7GpO0zZXuW7Zr7jvON9lvWN9\n",
       "enYrW18X8umm+KLFFx1Gy1BxkfYhotuVou4PuM7nqTvB3sRotFuAqD6/bfXU/bnG+y5nbOFBUi0J\n",
       "w2KiFuLsIfDww3ewbZurRsKdhf3jyf140SKJSS1Pc1TMArKH0cg1Wb/q1JM93yqws+ojF7B9pvqL\n",
       "BhuMV5fDrif92aadnqypT5bfFy2+6DBafIqLbNITqR/T2sblI74v5XNmRQ2nrXrGacXhqg5NTK5r\n",
       "Pm6S36VPz25lk3xyw+GLDoi1uHKf9a2lSd40e72DdG0EO/bjDpJkTznM5uYm27Zt4KrVkGQOsZ3r\n",
       "Pkzpwux9bH+P4/tS79jJfpc+PbuVyHBVSPBlmDLe8C2h/IeeH86eIJtEcw933QVFA3cfcG0NPY8U\n",
       "DG2zIXKRJt+PL9+lB0hPbjh80QHToKVZht3dwNsoq9RVPOcCJng/Yc8eOFaIsy8aubpZftv2Og3+\n",
       "f0eeIkkzBf8p88IvevrvBh7CGKx0pMMK+SiFpLD1YUxZwiyvehVkoxjAZDDJRgFMNkpEGJeeJv98\n",
       "mqj0RYsvOvzX0mwhoiyOtpnTsJnsr+usW93GWxDw+zvyuElPTpgXNrC7WuTdQ8AMSXexuBj30h7p\n",
       "RIH0+AZBjJwwDTQJfs/vewpTp+FjDa73CMVFirrXLyed9BKQTL6TRxYehsMXHTBJLc1dGZotPNj3\n",
       "uwZ4JfCHwOvJly2sv2iQaOnCJSM5xwKm1uzbKVsYyTIfz8sEECM3HL7ogElpaV5bdDwtxevZ0iwV\n",
       "/dfcBqw7I1dd9BrKV1pn/3mZEDJcFSZJfr5rhaaFYJoVZ8lfL2/gwKyONsuT1k2ONdvcn9ADYuQE\n",
       "f+nGuNgqcUFscOtdY3xjXc1J4AKZm+seMXLCJCmfsK/upTU1LrbrvRyzknmfZf+dwN0Nr9GWvLaY\n",
       "U1ELMBXEpisT7xSUQZQ5ueHwRQf0s/CwEF3nHImhs83XbZLMgzWPEKgfGXEG2O44y37gMGtrm1x3\n",
       "3X5MecGHLFrbzMvl70Ux0sL+Gf17XtrNufbPHDoP+qLFFx2T12J3gj3ocLANK45rWuZv0bLd5tyb\n",
       "vsZSmE3ffjxMUqo3KbBTnZ23vqOzf8/LUDkIGzYJ0Bf6wDbs/ErlUW0C9cuC4OOg9dEIzAJEmmTV\n",
       "Fa4lcTshev02wvD2Ss1uHW9hNHoQOJv7HOV574Tx6dXy+9F80eKLjslrsf+Pf8DRS2uuJdtjcvUQ\n",
       "8/vbrh2/95jlHEcs13LXsigPL1sP7T3Msl6if8+LPzkIS5v05IQ+sPVW7ola/V6aDbtvXDmuHmJy\n",
       "rldYjvqctXdmSNIz1UudtEI6s3A6LVI8kZ/W5StdpcSaMLLwMBy+6IA+tNR3pm2mxb44kXYC3qDu\n",
       "ZLj9XGByzV2B0W97P41ZNKh2/k0WF7ILEldhj9CYr+elQ6QnJ/RDv0kcD5HO8FvM69YkeuFx4IHG\n",
       "CkwvZzfwBEWn5DOYFduqSIgV8rUkhOb0Oob3o/mixRcd062lXU1U+/7mvWRV9cILw9x++Spi7iLa\n",
       "5nzVaZ/K90n2m+bvaOAmPTlhumk+L2Rb6bX3lr7xDXL77cGkSkqulZyzzrWbsoFrpdWPehxTgRg5\n",
       "Yfrpbii8StZ1pO61XNfOL7jEJMNVe62JB4idpu3Fe8arFTFnNF54UEotAUeA5wHPAt6ptX6s4jCf\n",
       "Jip90eKLDpgnLWVe+u6FBzCG6cWE4VMtrnc3Rb8828IDuHtlyX0Zr1ZEF/j0vFTSJnb1HcDva61X\n",
       "gL3Ah7sUJAgTpTw7ryu+FEwI2J6W17N1AhYy+8SJNKU31jltjNyHgI9GrxeAze7kCEIPuIxK1gDa\n",
       "AvpbX7HmNjuj0SJ33BFnEV6ky0zFc0DpcFUpdQ1wU27zXq31F5RS3wf8d+BGrXVVDnyfure+aPFF\n",
       "B4iWIqPRIsvLmxw/Hm/ZoG3w+TjDS9fw2jDUwoMf31FNWjkDK6V+BJM3/11a60/VOKQXj2NB6JSt\n",
       "Lbj3XvM6XYN1715YbJBVaGsLrrySZwzm8jI8/HC9c9xxB1x3XXbb2hrs31//+rNNpbFts/DwQ8DH\n",
       "gau01l+qeZhPlt8XLb7oANHiwmjpIqVQW5ePIRYZqrX69B1V0sbIPQS8FPhytOmM1vr1FYf5dFN8\n",
       "0eKLDpg3LU1DzIZczew7Z1u96/n0vFQisavD4YsOmCctzYxGbOQOYLL2prkJSFZlJzknNhotphJ4\n",
       "TvpadQy6T89LJZL+XJg3XBEPZdh+0AcYr/ZEfcJwi/37EReTdoiRE+YHY4h2tjjyrGXbjtTrFSZT\n",
       "F2IIZs49RcK6hNkkO+92DHgrcAPFjCAbVP+I86FXtnquftF2oWNKcsQ1QebkhsMXHTBrWuoXrbkP\n",
       "uLZy4SE5Z9polhe26T6Avv59mfxihU/PSyVi5IbDFx0wa1rKY1DTVK2QurWUGbHJGBmXwbXly5v0\n",
       "arBPz0slMlwV5pUNxplrKs98Uj+dU1MkA0ljZOFBmEXyk+dnUq9PAtfjY33QetRZHZ65xYNxkJ6c\n",
       "MHsUJ8+PkWQQ6WMifdgygzO4eDAOMic3HL7oANFSZFwH3EktPPhRtd6P76gmYuSGwxcdMG1aJp36\n",
       "2w9Dkqf+wkOfWqYAMXLD4YsOmCYtfRig4TPv2pie78gzZOFBmA6Sost30zwsa/6I71eSaHNukYUH\n",
       "wX+qCzV3zbALB20od1aeazcT6ckJ00DebSLNBl0boDgN+toaFOtA+Efyn0CcMOAJpLf7DNKTE6aV\n",
       "+4BHmNTEe3zO/funoXp9/j8Bv+Nqe0Z6csI0YHNuvXYqUg8NNzd2MvV6A9+H2xNEVleHwxcdMA1a\n",
       "hnGbqHdfXNq6XQmuiqPNX2c3k3OA9ul5qUSM3HD4ogNEi4u6PntNilW3dUWp41rT138CPn1Hlcic\n",
       "nCCMx+SC8ZtQnjBgrpE5OUGYHBIo7wEyXB0OX3SAaHEx3nA1eb+LYeR03RePECM3HL7oANHiYryF\n",
       "hyG09INPWioRIzccvugA0eKimZbJGrvpvS8DI0ZuOHzRAaLFhZ91FSQLSSNkdVUQuqH7Vda0Mdvc\n",
       "hMVFSX/eAlldFQQfycejXnll2uitpPZcYY7jUusgRk4QuqFrd5GsMTt+PN4mNKT1cFUp9RLgMeAi\n",
       "rfV3upMkCFNIf3UVpi8N1MC0WnhQSl0IHAVeBvyjGkbOp4lKX7T4ogNEi4vhtOTn3paX4fjxbZEx\n",
       "lYWHBjQ2ckqpEXA/8H7gtwElRq4VvugA0eJiWC3ZhYc7WFyU+9KC0uGqUuoa4Kbc5i8Dx7TWX1RK\n",
       "wRR9WEGYKrLxqPlA/4The3Ze06Yndwr4m+jPS4HHtdYrFYf14ownCHPH1hZceWW8MGGGtQ8/bNxN\n",
       "5oPKTtZYzsBKqb9Ehqtt8UUHiBYX/msZprKYT/elknFdSKSHJgiC10hY13D4ogNEiwv/tQxTCNun\n",
       "+1KJGLnh8EUHiBYX42npdkGgKv15nwsPPn1HlYiRGw5fdIBocdFeS/c9rNm4LwMgYV2CMBkkxtQT\n",
       "xMgJgjDTyHB1OHzRAaLFhQxX7fikpRIxcsPhiw4QLS6mY+Ghf3zSUokYueHwRQeIFheixY5PWiqR\n",
       "OTlBEGYaSX8u+IcEnAsdIkZO8IutLZjlGgZiwHtHhquCX9x7L7TxLxuNFhmN9kXNzxQc+boN8Elv\n",
       "tc4QYuSE6Wd6jIc4CA+AGDnBL/buheYFYcR4CE5kTk7wC5PssY+CMEMgRWgGQPzkhsMXHTDtWiaX\n",
       "bqj7+9J+4WG6v6MBESM3HL7ogFnQMplVy+m/L5PBJy2ViJEbDl90gGhxIVrs+KSlEll4EARhphEj\n",
       "JwjCTCNGThCEmUaMnCAIM40YOUEQZhoxcoIgzDRi5ARBmGnEyAmCMNOIkRMEYaYRIycIwkzTOAuJ\n",
       "Uup84IPAy4BnAe/VWj/ctTBBEIQuaNOTextwgdb6NcBu4J91K0kQBKE72uSTuxz4U6XUf8ME6V7f\n",
       "rSRBEITuKDVySqlrgJtym/8O2NRa/5xS6jLg14DlCekTBEEYi8aplpRSR4EHtdYfj/7+qtb6H05C\n",
       "nCAIwri0mZP7DPAzAEqpHwW+3KkiQRCEDmlj5O4CRkqpz2EqI+3vVpIgCEJ39JUZWBAEYRDEGVgQ\n",
       "hJlGjJwgCDONGDlBEGYaMXKCIMw0bSIeGqGUeg5wFNgOfAd4q9b665O+rkOLd3G3SqmXAI8BF2mt\n",
       "vzOQhiXgCPA8zH15p9b6sZ41nAd8BHgp8G3gWq31/+pTQ0rLAvBfgX8MPBv4T1rr3xlCS6TnIuAL\n",
       "wE9prU8OqOMW4LXAAnC71vrwQDrOA+4GAuBp4Je01tq1fx89uX8F/JnWehn4DeDf9XBNF17F3Sql\n",
       "LgRuBboohDwO7wB+X2u9AuwFPjyAht3As7TWrwJuxtyXobga+Dut9WXAlcDtQwmJDO6dwDeH0hDp\n",
       "WAFeGX0/K8APDijncuC50e/4l4H3le3ch5HbBL43er2E6c0NxeXAV6K427uA3x5KiFJqhHl4b8Hc\n",
       "oyH5EPDR6PUCw+h5NfAwgNb6ceDHB9AQ8yDw3uj1ecC5AbV8AFgDvjqgBjC/nS8ppR4Cfgf4xIBa\n",
       "NoGl6DdUaVM6Ha5aYl1D4CBws1LqfwDPBy7r8poNtMBAcbcOLV8Gjmmtv6iUgp4qkju07NVaf0Ep\n",
       "9X3ArwM39qElx4XAN1J/f1cpdZ7W+um+hWitvwmglHoexuC9p28N0fX3YnqUvxcNFYesWv8C4GLg\n",
       "5zC9uE8ALxlIy6PAIvDnmA7Ua8t2nrgzsFLqo8DntdZ3KaV+BDiitf7RiV7UrcWbuFul1Cngb6I/\n",
       "LwUej4aLgxB9N0eBd2mtPzXA9W8FHtNaPxj9/dda64v71pHSczHwceDDWut7B9JwHNNRCIEfAzTw\n",
       "uiHmtJVS78cY3A9Gf/8x8NNa678fQMu7McPV9yilfgD4NPDDrjntiS88AM8l+R/67zD/Yw9FHHf7\n",
       "8aHjbrXWO+LXSqm/xAwHBkEp9UOYHstVWusvDSTjUcz/yA8qpS4FvjiQDpRSLwR+D3i71np9KB3R\n",
       "PHasaR3YN9SiHea3cyPwQaXU92N+1/93IC1pm3IaM8VyvmvnPozcu4G7lFIHoutd28M1XdwFrEVx\n",
       "t+BP3O3QsXX/GbOqeigaOp/RWr++Zw2/BfxLpdSj0d//uufrp3k3Zq7nvUqpeG5ul9Z66AWiwdBa\n",
       "/65S6jKl1BOYecq3a62Hem4/APyaUuoRjIG7RWvtnEeW2FVBEGYacQYWBGGmESMnCMJMI0ZOEISZ\n",
       "RoycIAgzjRg5QRBmGjFygiDMNGLkBEGYaf4/ca27V6yz7wEAAAAASUVORK5CYII=\n"
      ],
      "text/plain": [
       "<matplotlib.figure.Figure at 0x10a44c210>"
      ]
     },
     "metadata": {},
     "output_type": "display_data"
    }
   ],
=======
   "execution_count": null,
   "metadata": {
    "collapsed": false
   },
   "outputs": [],
>>>>>>> 571a187f0f821897774193fdb90aa2e27d1090df
   "source": [
    "fig = plt.figure(figsize=(5,5))\n",
    "ax = fig.add_subplot(1,1,1)\n",
    "\n",
    "ax.scatter(norm_dist[:,0], norm_dist[:,1], color='r')\n",
    "ax.axis('equal') # equal scaling on both axis;"
   ]
  },
  {
   "cell_type": "markdown",
   "metadata": {
    "collapsed": true
   },
   "source": [
    "### We would now like to analyze the directions in which the data varies most. \n",
    "\n",
    "##### For that, we place the point cloud in the center (0,0) and rotate a line through the data, such that the direction with most variance is parallel to the x-axis. Each succeding component in turn accounts for the highest variance possible that is orthoganal to existing components."
   ]
  },
  {
   "cell_type": "markdown",
   "metadata": {
    "collapsed": true
   },
   "source": [
    "Now, let's perform principal component analysis (PCA) to project the data into fewer dimensions. In PCA, the projection is defined by principal components (eigenvectors), each of which can be viewed as a linear combination of the original features that corresponds to a dimension in the projection. The projection is defined in such a way that the first principal component has the largest possible variance (that is, accounts for as much of the variability in the data as possible), and each succeeding component in turn has the highest variance possible under the constraint that it is orthogonal to (i.e., uncorrelated with) the preceding components. Each principal component (eigenvector) is associated with an eigenvalue, which corresponds to the amount of the variance explained by that component.\n",
    "\n",
    "Dimensionality reduction is a one-way transformation that induces a loss of information. We can try to minimize the loss of information while retaining the benefits of dimensionality reduction by trying to find the number of principal components needed to effectively represent the original dataset. This number can often be determined by the \"elbow\" or \"knee\" point, which is considered to be the natural break between the useful principal components (or dimensions) and residual noise. We can find the elbow point by computing PCA on our dataset and observing the number of principal components after which the amount of variance explained displays a natural break or drop-off."
   ]
  },
  {
   "cell_type": "markdown",
   "metadata": {},
   "source": [
    "# First principal component"
   ]
  },
  {
   "cell_type": "code",
<<<<<<< HEAD
   "execution_count": 6,
=======
   "execution_count": null,
>>>>>>> 571a187f0f821897774193fdb90aa2e27d1090df
   "metadata": {
    "collapsed": false
   },
   "outputs": [],
   "source": [
    "pca = PCA(n_components=1)\n",
    "norm_dist_pca = pca.fit_transform(norm_dist)  #Transform the data into this dimension"
   ]
  },
  {
   "cell_type": "markdown",
   "metadata": {},
   "source": [
    "## Explore the data"
   ]
  },
  {
   "cell_type": "code",
<<<<<<< HEAD
   "execution_count": 7,
   "metadata": {
    "collapsed": false
   },
   "outputs": [
    {
     "data": {
      "text/plain": [
       "[]"
      ]
     },
     "execution_count": 7,
     "metadata": {},
     "output_type": "execute_result"
    },
    {
     "data": {
      "image/png": [
       "iVBORw0KGgoAAAANSUhEUgAAAlIAAADhCAYAAAADHluBAAAABHNCSVQICAgIfAhkiAAAAAlwSFlz\n",
       "AAALEgAACxIB0t1+/AAAIABJREFUeJztnXv8HGV1/98LCSQiBH4W8C4iyVFRsHIRRZKvikBsEUSg\n",
       "EbQBQUkEFLQq1VaLtpXWCsjFb6hBiNyiXEUtotV+SaDcxCu1PQGKWJUCUgKI3wCB/f1xZtjZ2Znd\n",
       "ndnd7O485/167Wt3Z5555jkzs7OfOc95zlOr1+s4juM4juM4xdlo2A1wHMdxHMcZV1xIOY7jOI7j\n",
       "lMSFlOM4juM4TklcSDmO4ziO45TEhZTjOI7jOE5JXEg5juM4juOUZMawG+A4jlMVROQI4Cs9VLGl\n",
       "qj6SUdfJqnpyb63rDRF5HnCIqp7Rxzo3BhYCBwC7AtsBzwYeA34N3AJ8HbhWVT1Xj1MYEdkI+ABw\n",
       "qareN4h9uEfKcRxncNS7fJF4z6tnaIjIscB/Agf2sc4/A+4ArgaOAnYG5gAbA1sArwSOAP4FuE1E\n",
       "du3Xvp0wEJHXADcDZwCbDmo/7pFyHMcZDD/AbuBF+EPiczcCa0NxZr8qEpGZwHLgPdGiOqDAN4Ff\n",
       "AI8CW2IeqkOB/we8BlglIoep6lX9aotTeU4AdmHAvyEXUo7jOIPhV6p6ddmNVXUFsKKP7RkVVgCL\n",
       "os+/A5aq6uUZ5b4iIh8HzsJE1yzgYhF5o6r+aMM01XE64117juM4zgZBRI6hIaLuA/bIEVEAqOqj\n",
       "qroYuCxaNAtYNthWOk4x3CNVIUTkhcD7gX2B7TH3+EPAT4DLgRWquq5EvecDfw58QVU/2mMbfwm8\n",
       "GNhfVb/dS13juH/HGXNqZTcUkWcDn4u+1oEjVfW/u9z8WGA/LBB9FxF5q6p+r2xbnCApfe12woVU\n",
       "RRCRjwInY09sTwN3AXcDLwH2jl6fFJF3quqtBatPB8X2Qj/r6rUNjjOytBu1JyITWAwWwLuwgNrT\n",
       "gTdjfxj3AOer6j8lttkbC95+A/A87D7xADYy7ipgpao+nSi/HZAWOgtEJC6zQlWPLGDSYuzhDuAm\n",
       "Vf1Otxuq6gMiciHwFuB6bFRfJiIyH3gvsCfw/Gjxb4FVUZtXtdn2l9iD1rdVdf/oGHwI+BPghcDv\n",
       "gf8A/llVL0lstxMWj/Nm7Ng+AtwAfF5Vb8jYz3Y0ju3JqnqyiOwb7WsXYKuozdcBZ6jqbXltTtS5\n",
       "A7AEO0Yvxf4Lfgfcij1IX5w8v6ltz8celh9X1dkiMhtYChwCzAOeBfwG+Ffgi6r6n120Zw/sPExg\n",
       "56EW2fRvwJfb/Q8lrrFzVHWpiLwCOA7YB3gB8DgWV3cZ8CVV/UNq+ylgfmJRDbhbRABQ1b72xrmQ\n",
       "qgAicgZ2kT0FnAr8k6r+b2L97sDfYmJqlYj8WcHYjb/EniT/rw/NfQt23f26D3WVZWBPJo4zIPKE\n",
       "fx37gz8d2Dax/JXANICIzMAE2bsztn9x9DoYOElEFqrqbzL2kf7NlHkYeWfi82W5pfI5tl0KBBHZ\n",
       "CjiX7JGFL4teR4rI5cARqporxoC6iLwTOB/YLLF8FrAAE5RvVNVjRWQJ8EVgZqLcc4C3A38qIkeo\n",
       "6oV5+4na/hngr1LrXozFhr1bRD6hqv+QVUE0vP9vgE/QGq7zfCy1xAHAx0TkIFW9M99s6iKyPXAN\n",
       "MDe1bnusx+MoEfmAqn45pz2bAv9MYzBBkvg8HC0iy7Fz+mSb9iAiR2NxcpskFs8Cdo9ex4rIm1X1\n",
       "7qQdbars+0O0C6kxR0QOx0TUeuAdWd1VqnqLiOwHnIMNMz5PRHZMiq12ROW6KttFXd268h3H6UwN\n",
       "+Cz2x3I1JlC2xERL/Of9CRoi6m5MHKyJtp0HHI2JsVcBl2IeK7AYpgOjcldGy26n8Yf/q24bGeWL\n",
       "en1i0VS328Z0EFGbYX/+u0eLHsHsvBX749wNOBJLq/BO4EUiMl9Vn8ip8tXAxVgqhiuiuutY9+LB\n",
       "UZmlIrIeOB7zkE0CN2Hem3djnpiNgEkR+Zaqrs3YTw0bmfiKqP7LgW8l9rUoKvM5Eamr6j9m1PFF\n",
       "rOsT7GH6MuB72OjHl2OewO2x83uTiOze5j48A/gOsAPwU+waugd4EeZd2jE6JmeLyGpV/a/kxtF5\n",
       "/hb2wAxwPza44CfR99dg5+GPsOtuG9qn1JjAxNtTwMrIrmnsfL4P6+p9CfBVYK/Edn8V7eODwJui\n",
       "Ze+P2tN3XEiNMdGT5inR11Paxfyo6tNRLpgF2I/kC8Dhg2+l4wTLhvJ8zsK68d6bWHYWPOOt+FC0\n",
       "7LfAbqra5FkWkdOAGzEv1h4isoeq3qSq05g4I+4SAX5XciTiS2jk8akDPy9RRzs+S0NE/RRYmHpQ\n",
       "vFhE/hETRDtFZU8BPtymvU9hCUivTCz/SuRJiY/18Vj36HxV1VS5qzCv1GbR+1dz9vUK4AngMFW9\n",
       "IrH8AhG5BBNXM4FPi8hKVX1GwIrI22mIqIeAt6e7EkXkHzBP3eFYKomvY6klspiB/T+cqqp/karn\n",
       "S8C1WJfZDEzIfCS1/Uk0RNR3gUPjBLMRl4jI57Cu5PnA20VkiarmDSAQrDt1P1X998TylSLyVaxL\n",
       "exNgTxF5tar+HCA+BiLyjqh8Hfhu8tj1ExdS483+WH/xE9hTSVtU9QkR+XvMzX+wiBynqg8l+pP3\n",
       "xJ6kYpfszVif9HnkBJuLyC5Y19/rsR/pL7CcM1NYDMA9qvrSRPlfkgr2FpG/AT4FfBS7aXwGeGtU\n",
       "36+xp+S/T/0g4/p2wm5m86NjMQN76lgVtffHnY6L4wyIxSKyuMuyJ6pqx99wDnWsayeLrbF4G4Ab\n",
       "0yIKbGSciJwCfBqLrdy8ZDva8UeJzw+r6vp+VSwiW2OZq8H+dA/I8rar6r0icgDmVdsMWCIi/9Am\n",
       "2/VXUyIq5ks0hBTASSkRFfNlTECBeYPa8dmUiIrb/K3onv1pYDYWh5UUf59OfH5fVjxWdN8/EvMm\n",
       "vQZ4rYgcoKrfyGnL7WkRFdXzuIj8LSaQAF6XXB8NJoi3uxc4KB27FNWzVkTehcU4PRvrUv7nvPgt\n",
       "4DMpERXX81MRuQw4LFq0B/0X6F3h6Q/Gm9hl+WNVfbDLbb6J3XhnYmIlyRewAMO7gYeB36bc6U2u\n",
       "9Sgz8Y3AQZiA+Rn2NPMVGsIuyx2fF1/xKswF/C4sHutuLGjyY8D3I7dxcv+LgR9h3ZVbYiLuHuC5\n",
       "2I/rRhFJunsdZ0PTbUbzXuI2ftXmSfshrNsfYB8R2S2rkKpeqKpzVXW/AY2GS2aVbhebVIZ9acTP\n",
       "XNzO66Cq9wAXRF9nAX/apt4LcpYnu8Wexrr+srgn8XmrnDJg4u/0NuvPBOI4ov3jhdEo7T+OvmqW\n",
       "EKOxcj2N3gtodE9m0S5+7SeJz89JrdsPy0wPdh5aRFSiPfcSeTuxbsM/zilaxzxoeSQflP9fm3ID\n",
       "xT1S483O0XvXKlxVHxSR32AxETumVu+BxVl9Q0RqNEbYtCAiL8I8VRtjHqTPRN2Hz8J++O1G8+R1\n",
       "eSzGhNm748BBETkQ81Ltggm2S6Pl22JPhhth7uXTY9EnIi/Fbm47Y67m1W3a4jiDokhm89t72E/u\n",
       "CKrIG3EFFoezOfZwcR027cr3VPVnPey3CEnx1E5UlCEZe/WvXZT/Hja6Ld723IwydezBrIXIoxJ/\n",
       "fVBVH87ZT9LmjXPKANzQLvBdVf9PRH4OvBbYXkT+SFV/R7Pd329Tf0xSIL8+t1T7azEZ5zUztW7P\n",
       "xOfNI+9fu+7tp6L3GubdyhqZ+FiH7rjksU+3Z4PhQmq8iZ8Iio6mux8TUlunlv977O6NRMlDber4\n",
       "C+yJ7gpV/Zt4oar+IRpl8SosILAITwIHR08rcX1XicgPsH731xEJKSwIsY51V5yWrERV7xaRf8Ke\n",
       "KF9RsA2O0y96ymxegHa/U7DBKK/CYqA2wjzZbwIQkfuxrppvYEP+C+eZ65LkSMDZIjI7isHqB8+N\n",
       "3utAuxFpMUmP0jZtynXj5W878q+L7QH+q3MRfoUJKbD0Cr+jYTd0YXcUxvEw5jVqZ3dWUHxcx/qE\n",
       "iEz3aL0o8fn90atb8tqT25aIZBfx0HrYvGtvvImfcvJGnuQRX3zpp4UbC9QRu5j/Ob0iEmFlsg//\n",
       "LCmiEqyJ3rdI7ONrqvpsGt2baeKb9LNKtMNxxonH262MvBe7AB+n9U97Gywu8lLgf0TkqEE0MIpD\n",
       "+l30tUarN7wr0t37EVskPnfTbZgs8+y8Qqr6VN66PtMS+5lB3E1Wo2FvUbuT5TZrU6Zs/NqcxOdu\n",
       "J+uOX3lxeX2LpRsk7pEab36DjWoo6iqPPVm/Sy3PEjEtRHlCtsN+AHldAz/JWd6OdP6amFgUZd1E\n",
       "14vInthInDhHyc5R+8AfFhwHVX0c+DzweRGZhw0ieQs2ijfuwn8O8OVomP1XsmvqiSkasTn7AD8s\n",
       "srGI7Ar8QERWA/+a8ET/PlGsnUCISf5p9zteqwyzuigTC746NkoQitsNDdtz45d6IFnnQlX9bm7J\n",
       "iuF/MuNNPFJk57alEojI5lhOEWjtC+/WrZ8MMsy7ET3abZsSdPKsNXnQROQgLD5kNXA2NprlT7F+\n",
       "89zAS8cJGVVdo6pnqeo7sNF0b6aRJR0slcAgSM6p1y53UB6HYIJiIY0h9mBpHcDuD+kkklkkywwz\n",
       "MXDMi7sos33i829T79CF3SKyDQ0hNQi7kw/iLxxA/SOLC6nxJhYLu0VDgLvhbdgNZz3dBShmkRRP\n",
       "eS7ZQQyhfgYR2QcbXTIXG/2xGBv5sbmq/jGWfNRxgkZEXikiS0XktKwRe6r6tKpOYeIk/iN8boH7\n",
       "SRGuopHYd1cR+ZNuN4zak4y5OS/x+abE5727qC45WnkU0qPsGQ3uySQaWPPK6Ottqhp7okbN7mR7\n",
       "3pJbKkJEThSRr4rIySLSKT3ESONCarz5N2yI7abY6LS2RAk8Px59vTKKnShMNErlt5gg2ymn2KB/\n",
       "GHG+kvNU9UBVvUBVf5oIln1R3oaOExB7Yd7aD2Hz7GUSTdMR/0HXae42SlL6PyPqXvxMYtFyEXlZ\n",
       "p+2i+9Z5NGJwfqqqSe/WNTS86YeJyEva1LUdjbxD67Es3MPmhdiI5DxOoHHcn7FbVf+Hxki3uWJT\n",
       "2mQiIjOxPH0xeTmkeuHbNM7DwZKISs9ozzaY5/PdwF9jaSQGQbLegekdF1JjTJTA7Jjo6wkickhe\n",
       "2eiJ53QsIds08Mkedx//EPPSHLw3Z3m/2C56b4nFimyN2+VxgE7IXEEjGP19YhMXtxDlhIu7h27J\n",
       "GFEXe6F7ytUTZbC+Nvq6LZaO4dC88iLyAuwP+m3Roj+QmsMteiCMB71sBlwlIs/LqOt52H1rdrTo\n",
       "HFX9bbrckJgUkVenF0b39Pih8bdYypckf5f4/OUoXjRdx6ZYbr/4offHlJvrsC2q+gCWhBQsFcHV\n",
       "WUJZRLbA8hnGA4G+qaqZqSb6QLL3ZGB5pvxPZsxR1e9G2Wb/Cku//zpsxvFnsvVG2b8/h7nvnwKO\n",
       "0vYTV3bDP2FPuIeIyM+Az0V5pDaN9rWgx/o7oVjyz6NF5Guqej88c7M8lUZOk24COR2nkqjqA9EU\n",
       "IZ/C7vfXRnmlVmNz6W2DjXyNY5aeJNu7/SsslciroizoP8Smi5kq0axDMC/SnliM1koRORnr+vsF\n",
       "5tXYFvOmHUAj2eZjWHqUrDxHJ0Xl/xiLGf1PETkfm2sPbEqU99IIOfgxrdObDIs6dhxuEZFzgRuw\n",
       "+9b+NM7LemCpqjbFnkbpYZZhebG2BK4TkUuxnFGPYXMpHoElNgaLH13UZkRirxP6fhx4I3Ye5gI/\n",
       "F5ELIpuexkZrHk0jzvZ/sSTQgyLOQVUDzhCRMzGRd0k/R2W6kKoAqvopEbkbm1/rw5h36i7sR/P8\n",
       "6AUWA/E+Vf2XPuzzbhF5PzYh5WeBD0XTv8zFXPA/xG5egxq++rdYn/+rgXtERLEfyDxMLH4IOA2Y\n",
       "JSJbqWqnXDuOU1VOxoTJMdgfyjujV5qHgPer6qqMdRfS8H58LHr/IY357bpGVX8vIm/CuvlOwESD\n",
       "0Ag7SFPHpqt6n6r+R06d66I6L8AEyBbYhLVZda3E7Gw3uKXbeRL7MZ/iDdgsDu/Bprr5QGp9LH6u\n",
       "TW8IoKofEJEHMTG5MfBn0SvNj7G57+5q05Yi9rSUTZyHr2LT48zC5uR7X8b2/4ElgG7nFez1+F6O\n",
       "TZ80G5uMO56Q+0fkJFwtg3ftVQRVPQ/z0HwGu8Ftg3XjzcCeTpYCO+SIqE5TVGSuV9WLsDnu/gW7\n",
       "lnYE7sBiEE6NiqW7CLLq6vQU1LKNqt6MJai7AnuyFsxVfD7wKlU9E4sfqNM8DUSv03E4TjvqqfdB\n",
       "1dX1flS1rqpLMU/Budgf2KOY9+k+7I/8k8C8VOxRso7PYR6cX2Dda9M0T/tSCFVdr6qfwLroP4R1\n",
       "9dwVtWs9Jup+hg0aebOqviFPRCXqfERVD8ACnVdgSSofw4TI7VFde6jq4W0yiaen72lHkXLtWK+q\n",
       "izFP3RRm+7qozX8PSJ6IilHVv8Y8hqdhx20tdo7uwO6RB2ITVueJqKLXba7t0Xk4EEua/BWs9+BR\n",
       "bFT2vVhX7RHAazr0jHRzfNu2W1X/GxuV+j0scXV8zT8/q3xZavW6/6c4/UdElmJBrt9T1X2H3R7H\n",
       "cZxRIQp6jzOsT6nqm4fYHKdHuurai+JuTlHVN4nIDthT/9OYYj5Wmye2dQIgij94NfBpVc0a+bJf\n",
       "9D4Kw4sdx3EcZyB07NoTkY9hkfixG/dU4BOqOh/rvzxgcM1zRpifYwGFpySHG4vIJiLycSxOYR3N\n",
       "+V4cx3Ecp1J045G6E8txcUH0/bWJYMRrsFT/Vw2gbc5oM4kFR+4E3Ckid2KxE9tjweZPYKNMNL8K\n",
       "x3EcxxlvOgopVb0i6s+NSUbR/57miQrzuJ2Sk1Q6o4mq8vjjj3P55Zdz9dVXz/j1r3/98kcffZSt\n",
       "t96a3XbbjT//8z/f9BWveMX5WDewEx79GM00Kqyjh8Bqx0nz/e9/n733tpReu++++5vwATCjSNf3\n",
       "sDLpD5KZQjfHRgd0YlBZrutU64Y9VvZsuummHHbYYRx22GF5RcbKni6pmk1Vs2cQbEq4xyj062Mg\n",
       "9r/lLW/ZDgs2r998883XYSPLRo3Qz33XlBFSPxaRBap6HZbgsex8bY7jOI4THKr6Szz9UGUoIqRi\n",
       "1+NHsFT0m2A5Rfqeat5xHMdxHGccGPc8UlVzPbo9o0/VbKqaPYMg5GMUsu0Qtv0h214Idy06juM4\n",
       "juOUxIWU4ziO4zhOSVxIOY7jOI7jlMSFlOM4juM4TklcSDmO4ziO45TEhZTjOI7jOE5JXEg5juM4\n",
       "juOUxIWU4ziO4zhOScpMEeOMC7XaLGBx9G0F9fq6YTbHcRzHcaqGZzYfLfpnj4moa4CJaMkUsDBX\n",
       "TA1GdFXt/ED1bKqaPYMg5GMUsu0Qtv0h214I79qrLotpiCiiz4szSzZE17LodU20zHEcx3GcNriQ\n",
       "cqCI6HIcx3Ec5xlcSFWXFVh3XsxUtMxxHMdxnD5RKkZKRDYClgPzgKeB96mq9rlt3VC1Ptz+2tNt\n",
       "3FPReKruqdr5gerZVDV7BkHIxyhk2yFs+0O2vRBlR+3tA2ymqm8Ukb2BvwMO7l+znL5gQuicrsrV\n",
       "agvxEX6O4ziOU4iyQmoamCMiNWAO8ET/muQMhW5Fl+M4juM4z1BWSN0AzAL+C3gOsH+H8rcDO5bc\n",
       "VyfGOn/DM6xbB+efD1DniCNgVmUGzVXj/DRTNZsGYY93CTiOEwRlY6Q+gXXtfVJEXgj8AHiVqm5o\n",
       "z1Q1+nAHF6M0bKpxfpqpmk1Vs2cQhHyMQrYdwrY/ZNsLUXbU3mbAI9Hnh4CZwMZ9aVGYePoBx3Ec\n",
       "xxlDynbtfR44T0RWYyLqL1V1un/NchzHcRzHGX18iphRoOpde9Wa868a11yDqtkzCEI+RiHbDmHb\n",
       "H7LthfCEnKOACYuFTE4CLKEKIqpWm8WyZVCrHQdci08/4ziO41QQ90iNFs32DMqTM2gPUauHLc0S\n",
       "6vVxTbVQ7WvOySLkYxSy7RC2/SHbXoiyMVLOoGkVI4uo1Xr3VLWrt5PA6l6ApYPnHWfcGesnzh4J\n",
       "2XYI2/6Qbe9aRLqQGl3yRvL16snJrrdWW0E74dY/YTeFz/nnjB+hPpmH7pUI2f6QbS+Ex0g5MZ1S\n",
       "MBRJ0bASWJv4vhY4ETgOuBwTbnOo1Y6JXh4z5TiO44wlLqRGlxWY9yZmijKenFptVkqwlK0323vZ\n",
       "Wj/AImDLRKktgSex+RjPxILOf4kHoDuO4zhjjgebjxb9DTbPS6tgNNfbLgWDrbsWmJ+ofRXwduCq\n",
       "jPoXYwIpyUXA4W1aOy4B6NW+5pwsQj5GIdsOYdsfsu2FcCE1WvTXnlrtGFoFTb5gyRNu2fWcCOxK\n",
       "qzhagnm40qLscswblYcLqeFQNXsGQcjHKGTbIWz7Q7a9EN615zSo19dRr58TvTp5v5aS52HKyosF\n",
       "y2nuUkzGUE3hAeiO4zjOGOIeqdGi3x6p7rv2itWzBpiXUfIO4IfADcC51OvT5HdVrsRiqbprw+jg\n",
       "11x4hHyMQrYdwrY/ZNsL4UJqtOi/PenuOqP4dDTN9cyktZvufmCbxPdVTE/PZ9as9vaM3/Qxfs2F\n",
       "R8jHKGTbIWz7Q7a9EC6kRovB21M0biq7ju48VIccApdeehFwE7A8J8HnuM0x6NdceIR8jEK2HcK2\n",
       "P2TbC+FCarQYnpAyb1XWSL7srjgjXjcDOKvDnlcB+zaJpH6Iug2PX3PhEfIxCtl2CNv+kG0vROnM\n",
       "5iLyl8D+WDfPWarqwcLjwQpMEE1E36cwkZTOWn4gzakNTqGRG2oR5jkywWOC61Ca0yOkmU9/MrM7\n",
       "juM4zshQatSeiEwAr1fVN2B/tNv3sU3OIIlH1JkXKh5RlxRWRJ/PTi3bMrW+kdXc6twXOB4TZbfm\n",
       "7H1mKnlnVgb0lcUMchzHcZzhUdYjtQ/wcxG5CtgC+Gj/muT0hXZB3Pb5nETZ3vdnXYHLgXcCu2WU\n",
       "uAv4IDA3+r4Iyy2VzoC+CPdaOY7jOGNC2TxSWwO7YFN+LMGyVrfjdqy/td8vBlTvsF6927NuXZ0z\n",
       "z6wzd+408RQsCxZMs25d/jYPPbSMOXMaZ2vOHLj33sNZsKB5WczcufDQQ8ta6pmcnKbZi5XkZTRE\n",
       "FMAEixa1JuicnGytd7RejEAbxsEex3GcICgVbC4inwMeUNVTo+8/AfZW1d/1uX2dqFOtYLje7Gkd\n",
       "BZekXUbzrKDvi4Abo/Y8CVwJrKYxOm+K9Ai77HracQnwAhqxVa11jh5+zYVHyMcoZNshbPtDtr0Q\n",
       "ZT1S1wP7AYjI84HNgAf71SinNIvJ9wi1I6uL93BsJN4HozpPpznFwQTJOCljBZYKoVveFb0fRyNe\n",
       "i4xJkBtkT5LsOI7jOEOhVIyUqn5bROaLyC2YGPuAqro7f3SZIj0FS2uCzTzm0twll4/FSU0Cp6XW\n",
       "TAOzo8+PYHF1MfOBi6nXz8nwqC2iVluYmPOv/XrHcRzH2cB4HqnRot9de2uASaxrbj3N+aG6mfKl\n",
       "HWsBAd4RfY+F2rVkp0G4D9g2p64lkZA6ltZ8VEsSaRZGIe+UX3PhEfIxCtl2CNv+kG0vROk8Us4I\n",
       "YiJpIc1JNJO5oBYl1k8ktpxHcTG1Jc0xU4cBvyE/l1SeiJoCVkTi7oMF9u84juM4Q8c9UqNFPzxS\n",
       "sYiKM5VnZTEnY/lxmNdqJpZcc6/S7WglT6RdBBwdCcAsb9MaYOc2XXtTbPjgdL/mwiPkYxSy7RC2\n",
       "/SHbXgj3SFWFrPghy9OURVZ283MTgmU5JsJmAx+gESO1lua8T91wCbAUuIVWMbU62t8xZAu3M1vy\n",
       "XzV73PozyfH4TZzsOI7jjAgupKpDurtuArgME0nx8ikasUyXY11xNxKLqGyPVjLQvKiIAriOev1h\n",
       "arW9gTuBTaLla7GUCknxlxRqU8DyltqSyUTjEXxxe8sIIA9gdxzHcXrAhVS1WY+lFEiKI2gWDi8A\n",
       "zs3xaH2ji33ch83D9w7S8VFz5sDDD6+M6v5XGiIKTDCdSus0NBdhnqr2wqh/AihLgC7Gs6s7juM4\n",
       "XeBCqjpkddetyJgO5hiyhQMZy+/N2E969N222KjAfTEP0uHPrHn4YaI2QbFA9m68S1kC6GhqtScL\n",
       "1OE4juM4PVE2IaczamRNRty7kHg6Y9mvMpa9vkTda4BjMcGX5HDgmpLJNo8nnhan+zpWpNowRTrn\n",
       "luM4juPk4EKqStTr66jXz4leeSIqSzisxLyTa1LL00JnCrg4o86fAD8l6Y0Corn6VmTscw2wO/A4\n",
       "Fqt1S6q+CVqzpjcwgZRub3pk4ASwvGMG9MEIUMdxHCcQPP3BaLFh7GkOKk/nmloDnAkszwlAh+ak\n",
       "m9dj3Xvp7Oc389BDr2OrrWZH28/AbJsBvAHYDtgK2CGnldmJNrOTiZ6JHbt0Ms+YKfonkPyaC4+Q\n",
       "j1HItkPY9odseyFcSI0WG96eItnCG6IqFkVgouhdLWUBnvMcePDBO2mIpTuBrYE5HVoVe6zi+KoV\n",
       "idQM2e01kZc3YbOV6U8GdL/mwmOsb5KO45Si6/uiB5s73dHqCbofmzcvz6MEDz5Ian1+2WYeBb4F\n",
       "vDH63mlE3sxUjqm9SHczOk5vhCo2QxfaIdsfsu2FcI/UaDEMj1RWtvADMW/QzKhNccbzMzdo25qJ\n",
       "0yKsBK6mOdXCHcAZwAVYu2dg2dnjMlN4114eVbNnEIR8jEK2HcK2P2TbC9GTkBKRbYDbgLeo6ppO\n",
       "5QdA1U50OXu6zcydV641ZiotVKC7ufjuBx6mNV6qn0xhMV2nZ6xLJvRcBVyKpWZoPia9ZTL3ay48\n",
       "Qj5GIdsOYdsfsu2FKN21JyIzsfxEj/WvOU5huk1M2a5cc7bw48ieeHgerTmk0mwDnAacGH0eBBNY\n",
       "RvYskpnX5wMXt8RFeSZzx3Ecp4/0kv7g88Ak2UkbnQ1HXmbusuX2aLOv0zCvUztOYHAiKuYmWvNP\n",
       "dUu3x8FxHMdxOlJKSInIEcADqvrdaJG7/0aLGVH+pPY5lLK5sc26k+gskvI8VvdlLHukqxbBdOLz\n",
       "FJZBfSFaw7+PAAAdnElEQVRwHM25pNamylm6hnhOPhvxN7PLfTqO4zhOR0rFSInIdVj/aR14DaDA\n",
       "Aaqa9WcJcDuwY9lGOm1Ytw722w+uu86+77WXva9ebe8LFsB3vmOfk+Xi5bNmtda3zz6N7Xtl661t\n",
       "zr0772xePncu7LgjXHVVd/UsWmRtPvBA+NCH4K674LDD4L3vhZUrG2Xiz0ccYbZ1e3zSx8HplSo9\n",
       "XIUcKxKy7RC2/SHbXoieR+2JyL8Bx3iweV/oR7B51ug6y6FUPCh9AXk5opop2u6bsRF2M7Huwm44\n",
       "PtrmlzTHQq0G9mljS1beqeOwkYjgweZVs2cQhHyMQrYdwrY/ZNsL4XmkqkBzsPgxXZXrVF+ttgI4\n",
       "LLUmOSouSdEf2+ui12os5irdXXgH1hX4xsSyQ7Dkn+n974WJviLJNtf3KTmn4ziOEzg9z7Wnqm8a\n",
       "kjfKyaZfk/AupnX03j/QOdg8zSPAUznr9iI75uqH2Bx8SeYD2xfcN/ikxI7jOM4A8YSco0V/7Cmb\n",
       "J6lzF2Fe+oOngI2LN7QtWXmrTgQ+TZGuPeg1b1Qav+bCI+RjFLLtELb9IdteCBdSo8Xw7GnNr7Qa\n",
       "eDUN0fIEsMkGblVSTE1hI/U2xWKeXgpcApyzgXNA+TUXHiEfo5Bth7DtD9n2QriQGi36a08RT0x2\n",
       "UPYg6ZTcEywnVdzmFVHsVnLi5JnArljKhgtpTA9TI85obvTLGwV+zYVIyMcoZNshbPtDtr0QLqRG\n",
       "i/7Zkz2HXn4G7w0rpO4DTqHziL3rgbdGn2PxlJxDL0lWIPyq6L2fc+75NRceIR+jkG2HsO0P2fZC\n",
       "uJAaJMVjc/oppLKE0ZKcKVOyRModDHbOvK8Bbwdmdyh3PPBOmrOR90LrMSjGaF9zxamaPYMg5GMU\n",
       "su0Qtv0h214IT38wKMZhTrfWNq7CArp3xUbOHYSNrEuSlwKhKH/WZbk96J+IAr/mHcdxnD7ifyqD\n",
       "I29Otw2Vv2gFFjMUt2GK1mH/6TbOB56LBXgfjgmr46J1cdzRSuA9mKcoDgRfFa1Pi65euZ7eUnTc\n",
       "CeyQWuZPWI7jOE7fcCFVVSwweyHFA62TKQfmAxdndIWdRa22vKluG013LZZosx98HRN16czqa4G/\n",
       "i/azD7BFtDxLNN2asezJPrXPcRzHcXpPyOnkMvxEkPX6Our1c6JXlohKt7G7xKrp2C/jKvonomKy\n",
       "gsq3BN4PHExDRN1BtqfvFoZ9DhzHcZxK4x6pQVHeI7ThaG3jSkwQTUTfp0gLj6zYL8tCPkF/aSfK\n",
       "0kHwc4HdMsrVsdxTo3sOHMdxnLHGR+2NFsO3p9NIw+zRgBdhMVUbgrzRhLfSKqYuol5/d8cai42u\n",
       "HP456i9Vs2cQhHyMQrYdwrY/ZNsL4V17TjOduwOzuJHmLrQ7+9+wZ/hf4K6M5b/MWLYRtdoxkVDK\n",
       "puFhWxa9rmlb3nEcx3ESuJBy2lOrzYrESCxIsuKqasCB2Ei+lTRilwbBXsDmGctfk/q+FgtU7ySO\n",
       "8kZXOo7jOE5HSsVIichM4CvAS7DRWn+rqt/sZ8OcESA7Hmph9DoK+CA2yu9M4JCoTFaAeL/ZJvX9\n",
       "flq7+5K5ribITz2RlRC0U5JQx3EcxwHKB5sfDjygqu8Rka2AnwAupKpHtremXj+HWm09rakShsU9\n",
       "tIqrNLOi+C5ojoPaPaNs1jLHGQq1k5+J4ZuJxa2sB1bUP23XcO3k2hzgbGBj4CZsfsorgdOB7YHL\n",
       "om3iRLuzsJGvD2IDRV6Fdc+fW/90fV1U3ySw/SlvOYWTvn/SsdH2K4GlwEcwL/T12H/I3lHbHole\n",
       "m2EP2A8B/we8MDLlMeC2qK7No+1qmFd7G+DZ2PRRlwHHRvbcj3m4Z0bfn4o+QyOVycY0eleeBv4Q\n",
       "1dWJenSsNqV978xTHep5OrX/5OeYeFkclBzn5YOGPTGPAr8HnheVj4/PnKgtv4/K/Tqq96XYcd48\n",
       "esVl7o3qeAx4GHg+dmyexv6ztwNeDjyAefC3w2JQfwm8cP8d9uebd37zh1H5K4Cdos/HAo/TPEjp\n",
       "3cDrsetveXxtZpG4npvmRY2uvaZ41bxleXUPi1LB5iKyGVBT1d+LyHOAW1T1ZX1vXWeqFgw3Wva0\n",
       "m2amVjuBznPllWGa4h6hv8D+GOa1KZMMUp/CuiIXAUfSOkKwXZD6aJ2j3qmaPYNgaMco+hNJeoVj\n",
       "pjDP8KbYH196toH1FH9QXoV5ljWjPujfrAbOeLMW+DmNBMzp62IVsG+W4OlwPR9I66jxrGULR01M\n",
       "lYqRUtXHIhG1OXAp8Mn+NssZEbJzYVmX32Edtn2CrbZKfr8T+CidA9GLiqjrsTn72okoaO76m8D+\n",
       "LJZhImp9Yt1a7InLcUaBtFc4ZiJadzbZ4qZMb8N84Oqc+miz3AmLLWmexSJ9XcwnP8603fV8Nq09\n",
       "IFnLRi6GtXSwuYi8CPgB8FVVXdmh+O3YU12/Xwyo3mG9Rsueen2a6ekJJidhchKmpyeYnp5mwYJp\n",
       "svM2JdmEhx5qfNtzzx049NDP05ppvDi1hHNghx3eSKduxe23z1q6beLzDHbZBRYtgoce2pJ6fS3j\n",
       "co5G95qrGkM5P5Nvm0x7hJ9h8m2TyxbtuKivaUd2ed4u/U6q6wRIdN0Wup6zruWsZXl1D+DVNWW7\n",
       "9rbFvBMfUNV/K1xB/6hTrW6J0bcnu7tvlLkfiw35Ge2fqJdkTIWTxeifo2JUzZ5BMLRj5F17zgji\n",
       "XXspygqpL9L4wcUsVNUNbVzV/gSGb0+5hJyjTqeEoWuAndvmzYqPy+TkMpYunV2hDOnDv+ZGn6Ee\n",
       "oyEHm7/upO+fdBzhBptvRHPQeBZVDTbf7Zt3fvM2PNi8I57ZfLQYrj2t6Q6mgIVNoqG1TFluxeKl\n",
       "ZtBInRDzOHZzK8OPgNemlv0Su0lksQbYnXr94VwR2c1xGV+q9hsaBCEfo5Bth7DtD9n2QnhCzhBp\n",
       "TbIZs5hOgX0mHhYCl+TUPt1FC9YAbwVuAF6csb6siAJ7+r0jtWy71PfrgeOAJZgn6uEOGc47HxfH\n",
       "cRwnSFxIhUbxKVH2ylm/S8ayi4DPZyxPiqs7sL71q4GzaD85cR7txNo22Ai9+9qUWUm9fnZqGhwX\n",
       "S47jOE5hXEiFRzvBkE53ABZblBZbi2lNNzANfBjz8qRJpjS4F+vK6yWBZzcpErZts259m3VZZKeB\n",
       "cBzHcYLHhZTToNFtd1FqzQTN3pl0cCSYuPkinTOMz6c5B8kguT9j2SqyRVC+WGoclyVMTkJ14qMc\n",
       "x3GcHnEhFR7tvSsmEFZ3qCNvhMJLu2zD2zOWZSXqvB+LZyrDWhqi7n4scewl0XsrSbFkr2axVK+v\n",
       "o14/hyVLcBHlOI7jxLiQCo1OgsHo1JWVN5LjMrLjl5LB3/fR2jX3I8yblWYb4H9y9pXHLZhgSuY1\n",
       "2QbYGXgXNsFydlxYLJaaY6ccx3EcJ5eykxY744yJhEbyyaxh/7XawpZljbLpdAVgXqysefIsvYDN\n",
       "awfWTbgoVeZVWG6b+2iNbeqUwyXN7mQnDUzGdE1gtmUn4OyUS8txHMdxIlxIhU5rjqRF1GoLW8RW\n",
       "g8W0BopfAryX7FFutwGPP5M1vFa7EjiUZm/oJjRG+yXF2BSW/O0FifZlia0081Ll/gA8q8M2RO1r\n",
       "dzwcx3Ecpwnv2nP6Mez/BhqZl1el1r2L5q60d9D+upuNBbvH3Y4P09wV+bmMbR7JWBaLqPtoFVH3\n",
       "ATNauvfs+3I8DYLjOI7TJS6knKKsoFksrcY8TMuw+KONgXtS20wARxXYx02RB2tTarULMXGzMlp2\n",
       "Dq3B8LfTKuBisrxX22I5rBoCr+GJ6usksI7jOE618SliRosNb0/R6U+s/LU0uvfup3PKA7CA853I\n",
       "nmT1EWw+rZg7McH0yUS5aeBT0ft8TLwlOTFatxetYqhd155NVpw/h+AUzcfDr7nwCPkYhWw7hG1/\n",
       "yLYXwmOkQqddYHk26RipbkQUWLbxo7CJLdPB4I+nvu9Aa4b02RnLkuxKvf5uarUVwG40B5d3Ex+V\n",
       "lRvrIuBoj49yHMdx8nCP1Ggx+vbke266YQ2tGdH7ReyRAhsBeHqX7dkdE3JJLxtYV+G+GSJq9M9R\n",
       "MapmzyAI+RiFbDuEbX/ItheilJASkY2AL2FdNY8DR6vqXX1uWzdU7USPvj2tXYHdcifmaUrTbddg\n",
       "O1Zjxy4WQnG8VN739MjAy7CYqSTHUa+fnbGv0T9HxaiaPYMg5GMUsu0Qtv0h216IssHmBwKbqOob\n",
       "gJOAL/SvSc5QqdVmUasdE72yk1baKLpLCtacpdg7iagHOtR5B3A88HWavUnzgStpjPTbN3otwbrr\n",
       "krmuJrDuxlbaHQfHcRzHoXyM1J7AdwBU9WYR2bV/TXKGRqccSs2JKk8AdsVinyDf4xQzl+auvW66\n",
       "+bbusH4u8GTOuqXAzqm253ETzbmqVmHB7LE481xSjuM4TiZlPVJb0Jy756mou88Zb/JzSjVE1rLo\n",
       "pTRE1B1YbqZOnEHDSzTZh/aCPQyswIRZknlkt/1wbB6+mCksvUIyV9WlNHu4JvBcUo7jOE4GZcXP\n",
       "I8DmyXpUtd1UHrdjXTv9fjGgeof1Gq49k5OtQeS2rM7k5DTNIis58m4u5qVs8KzUQLm99oLp6bOY\n",
       "nl7G5OQyDj30tJZ9lWGvvc5ienqaM85o9W61a/suu8AZZ8D09AT1+nT0Wka9vozJyTNz6zKaj9u6\n",
       "dXWWLbPXunXDvoZG5ZpzHMcJgrLB5gcB+6vqkSKyB/DXqvonfW9dZ+pUKxhuuPbUanOwSX9jUTJF\n",
       "nEOp/Gi9+7Bs5PF0M0UD1deSPXdekiWYVypZt43Iq9cf7pgjyohTM9wEXABclarrTGA59fo0yXNU\n",
       "NA/X6FG139AgCPkYhWw7hG1/yLYXoqxH6kpgnYjcgAWan9i/JjlDwQTBVTTHMB2YEAQrMJEQk+we\n",
       "W0X7zOK7YV1jR1NMRF0CbIddX+26DmdE7TyQRhffPOCqyK5022MmMAF1LTZq73BMMF0d1XUcjViu\n",
       "M4FrWNeijxbjU8o4juMEi+eRGi2GZ0+212bJM5MNW5lksPlKYFH0eUX0vpjszOIxWQHmN2NTyqQz\n",
       "lcc5nuJ9xPubhQmcZGD7KuDtwNkZ+44zl8fz6KXXX5TT3iXRe/MxmZyEJUuSHqnOx220qdpvaBCE\n",
       "fIxCth3Ctj9k2wvhmc2d7jGvT1IgpMXCOVFm8eQIuCTzaBVTrwO2yig7SXP32oejZe+gdXTgfJq7\n",
       "JJPMjMQOwLGptk1hXXm9zK+3AhN4yTpX5BV2HMdxqoV7pEaLYXqk+hfrE3uuFi1axsqV6bWXYDYu\n",
       "Si1P5pRaheWGSifJLEo6EecU1mWX9qRlZzU3mo/J9PQEs2Y1n6NmT12nKXZGjar9hgZByMcoZNsh\n",
       "bPtDtr0QLqRGi2EHm/dXEKxbV2f27ClavVOdckitxoRU6+i5bO6gkYoh5iLgRlrFWGu3m9mdDDZf\n",
       "npM7a0VLsPn4U7Xf0CAI+RiFbDuEbX/IthfChdRoUT17arXZZMcmdRJTx9GcFLMdJ2Cepono+xQ2\n",
       "Gm8x/Y9fqt45qpY9g2Csb5KO45Si6/uix0g55enGg2WpE1bTKqTOANaTH5xeozUxJmRPKxNPW9Pc\n",
       "FovXOixRx/3AbGq1WWPW/eYMn1DFZuhCO2T7Q7a9EO6RGi3Gx57uYqrMnvb5qeYAt9LaNXcHNjF2\n",
       "OnHniVjAeXJC4n0zhZG18XvAG1Nr8rfpzPico+6omj2DIORjFLLtELb9IdteCJ/WxSlLd/mT2uWn\n",
       "aqxLiyiiZcfSnK9qLXBxwTamRRSYCDu6QD2O4ziOk4kLKaefzKZWOyZ6xZMEpwXXPBqj5tLr0uxA\n",
       "c1bzLYFTae7um0+5BJjHd5jIuHdqtVkZx8NxHMepEC6knLKsoDWb+adpTGqclQW8H7yhY4lYwFgM\n",
       "4PU5pRqTGg+C1kmer3Ex5TiOUz1cSDnlsPiir6eWJr1HE5x/PrROzzIFrIhExQwsFirJdJu9PgW8\n",
       "NLVsDXBlwvMzh4aAOQubouZSLA5rQ+JTxziO4wSAj9pzemF9xxIWC9U8os7Im7x4NjZtzOtSy6ej\n",
       "dWnmAUpDxH2Y5rQKc6PX9ZgHLe4WXAPM8BF8juM4Ti/4qL3RYrzsaR25t5aGoMnOAm7bZc1PlySd\n",
       "Qyor4WYZPgrsArwJ81RZO4tlcO/uHPUzU/xgGa9rbjiEfIxCth3Ctj9k2wvhHimnPK3epuaJjGfN\n",
       "atdNl8cUcCHNkxgX/THfR0MoJfmLjOUTWPvjiY37k9k9yxM3eiLKcRzH6ZHCHikRmYP90W0ObAJ8\n",
       "WFVvGkDbuqFqijkMe1q9NauwOKYnsa6/rIzk7Wj2hME3aM0/1Y4l0X678SCFcY6cJCEfo5Bth7Dt\n",
       "D9n2QpTxSJ0IfE9VzxCRedgktLv0t1lOpenkral1/du9GTiPtCfMOBZLn9CJVcBMbBqbicTyCWJP\n",
       "leM4juPkUEZInQY8Hn2eSftRVo6TjQmnPJGyAhNGE9H3VcDzaRVGFybmzUtPRHxrRvlkl98aLHP6\n",
       "QXQ/ObLjOI7jNNFWSInIUdiEsEmOUNXbROS5wAXAhwbVOCdQskf6bUrzVDLXY5MiH0N2/NENwLtS\n",
       "yz6HzcsX17mY/EmRp2h4txzHcRwnk1Kj9kTk1ViX3kdU9douNrkd2LHwjpxwWbeOKA8VHHEEzJrV\n",
       "WPbkk/C1r8ENN9j6vfaC737XyiS332cfWL06v8yyZbB0afN+Fy2CBQsa+yzbVqdKsRUhx4qEbDuE\n",
       "bX/ItheiTLD5K4ErgENU9ecDaVX3VO1Euz3QOXVArXYslmwzySXAe1OxVu1H4ZVLUdBs0/ikOcij\n",
       "atfcIAj5GIVsO4Rtf8i2F6KMkLoK2Am4J1q0VlXf0e+GdUnVTnS49pggORqbAuZlwO6pEkueiYeq\n",
       "1S4EDs+oZYqiIqY7sZVcP02zkMrKibUkEbs16lTtmhsEIR+jkG2HsO0P2fZCFA42V9UDB9EQJ2BM\n",
       "rFxLfrxSmpvIFlITwGJqtTj+CTrlb2oX9N7qbVrEunXedec4juM8g8+154wC7YK+oTXwezmtEybH\n",
       "zKTsZMHxZMf2ij1RE4kSE8/EQjXInkvQcRzHCQIXUs6ocxHp7jr7vC9wPJbGIGYKc0dPJJZN0M1k\n",
       "wQ3vU0OAmShrj7VlIZbUc0lLWx3HcZxK43PtjRZh2pPftbcK2DcRZN4az5Relp0VvXPMUnas03HA\n",
       "wSQDyfPmDxxfqnbNDYKQj1HItkPY9odseyF8rj1nw5IlhkwQ7Usj2Bzg34HlKRHVHK9Uqy1siXGy\n",
       "+KhkMs8pyne1rce8TY32lps/0HEcx6ko7pEaLaprjwmho4APAvOi9VN02xVWZHRcmcmH8+f/i214\n",
       "kqxRe+NP1a65QRDyMQrZdgjb/pBtL4R7pJzB0ypSYiYYxHx27aefyd+mkU19BnAorVPH+Kg9x3Ec\n",
       "pwkPNnc2BOnRb2UoNjqudQReZ6yb8RysSy9rFGHWqD3HcRwnYNwj5QyTKbqNX8qafy8vCN3Ii6dy\n",
       "HMdxnL7hMVKjRTXtae3aW4N1my3vWdxkT9FyGa1TyHSfbTy/K9JH7YVJyMcoZNshbPtDtr0Q7pFy\n",
       "Bk87b1LvtCbNhN/0VGNrvFQj2NxH7TmO4zgJXEg5G4YyAeDl2RgbdRfHOU1RNAXChm2vM/qMteu+\n",
       "R0K2HcK2P2Tbu/bGedfeaOH2FCW/G24V8HUscDzbA9YcW7USyz9FbnnDz1F4hHyMQrYdwrY/ZNsL\n",
       "4UJqtHB7ymCCaDmtExnnx0W1CrC1wJbR5yny81v5OQqPkI9RyLZD2PaHbHshSqc/EJGXi8haEdmk\n",
       "nw1ynMKY4FldcKt0bNWWic8TdDM/n+M4jhM8pYSUiGwBfAHw4eTOqFAsz5TjOI7j9IHCQkpEalgQ\n",
       "7l8CPoLJGQ3MK7UQWBK9OuWNSguvtYnPa4AZXSfydBzHcYKlbYyUiBwFnJBafA+wUlUvFJG7gZer\n",
       "6uMDbGM7qtaH6/ZsSFqDzd8DHE/7uQBH26biVM2eQRDyMQrZdgjb/pBtL0ThYHMRuQP4dfR1D+Bm\n",
       "VZ3osNntwI6FW+c4G5Jly2Dp0uZlk5OwZMlw2jPeVOkGHPIfSsi2Q9j2h2x7IXoatRd5pERVn+hf\n",
       "kwpRtRPt9vSD9JQx3Sb/rNWOAZallqZH/vk5Co+Qj1HItkPY9odseyF6nbR4rHMnOBWkkdZgWfS6\n",
       "pkCskwesO47jOIXwPFKjhdvTK915ldpt38mb5ecoPEI+RiHbDmHbH7LthfApYhwniU8N4ziO4xTA\n",
       "PVKjhdvTK60Zy6fonAqhCH6OwiPkYxSy7RC2/SHbXggXUqNFtexZt67O7NnxkLfug757pWyweXdU\n",
       "6xxVz55BEPIxCtl2CNv+kG0vhAup0aI69tRqs1iwYJrrrouXTJH2DA1W8AxqH9U5R0bV7BkEIR+j\n",
       "kG2HsO0P2fZCuJAaLapjT6eg78F3wQ1qH9U5R0bV7BkEIR+jkG2HsO0P2fZC9Jr+wHHKkp40eIL+\n",
       "TxS8IfbhOI7jBIwLKWdQrGDBguT3KTwnk+M4jlMxvGtvtKiWPe2Czb1rb1Somj2DIORjFLLtELb9\n",
       "IdteCBdSo0VY9niw+ShQNXsGQcjHKGTbIWz7Q7a9EC6kRgu3Z/Spmk1Vs2cQhHyMQrYdwrY/ZNsL\n",
       "4TFSjuM4juM4JXEh5TiO4ziOUxIXUo7jOI7jOCUpPGmxiGwMnArsAmwCfEpVv9PvhjmO4ziO44w6\n",
       "ZTxS7wFmqOobgQOBV/S3SY7jOI7jOONBYY8UsA9wu4h8C4voP76/TXIcx3EcxxkP2gopETkKOCG1\n",
       "+AFgWlX/VETmA+cBC1o2dhzHcRzHqTiF80iJyCXApap6RfT9XlV93iAa5ziO4ziOM8qUiZG6Hngb\n",
       "gIjsDNzT1xY5juM4juOMCWWE1JeBmojcCCwDlnQo7ziO4ziOU0nGfYoYx3Ecx3GcoeEJOR3HcRzH\n",
       "cUriQspxHMdxHKckLqQcx3Ecx3FK4kLKcRzHcRynJGUym48EIvIO4GBVPTz6vgdwOrAe+K6qfmaY\n",
       "7SuDiNSAXwNrokU3quonhtikUojIRsCXgJ2Ax4GjVfWu4baqN0TkR8DD0df/VtWjhtmesojI64BT\n",
       "VPVNIrIDcD7wNHA7cKyq+uiTBFW8zxShKvekolTxHlaEqtzvitDLvXEshZSIfBGbqubHicWTwEGq\n",
       "ereIfFtEXqOqPxlOC0vzMuA2VX37sBvSIwcCm6jqG6KL8wvRsrFERGYBqOqbht2WXhCRjwHvBn4f\n",
       "LToV+ISqrhKRSeAA4KphtW/UqPB9pghVuScVpVL3sCJU5X5XhF7vjePatXcDsBSb6w8R2QLYVFXv\n",
       "jtZfC+w9pLb1wi7AC0TkB9FNet6wG1SSPYHvAKjqzcCuw21Oz+wMPEtErhWR70c31nHkTuAgot8N\n",
       "8FpVXRV9vobx/M0MkqreZ4pQlXtSUap2DytCVe53Rejp3jjSHqmcuf6OUNWvi8hEYtkWwCOJ748C\n",
       "2w+4eT2RY9sHgL9X1ctFZE/gQmD3Dd643kmfj6dEZCNVfXpYDeqRx4DPq+q5IjIXuEZE5o2bPap6\n",
       "hYhsl1hUS3z+PTBnw7ZoNKjyfaYIFb8nFaVq97AiVOJ+V4Re740jLaRU9Vzg3C6KPgJsnvi+BbB2\n",
       "II3qE1m2ichsLPYCVb1BRJ4/jLb1gfT5GPcb0BrsiQVVvUNEHgSeB/xmqK3qneQ52ZwR/80Miirf\n",
       "Z4pQ8XtSUap2DytCVe93RSh0bxzXrr0mVPUR4AkR2T4KjtwHWNVhs1HkU0RPhNE8hr8abnNKcwON\n",
       "+Rj3AH423Ob0zJFYjATRH8kWwL1DbVF/+LGILIg+L2Q8fzMbjArdZ4pQlXtSUap2DytCVe93RSh0\n",
       "bxxpj1QH6tErZglwEbAxcK2q3jqUVvXGKcCFIvI27CnwiOE2pzRXAm8VkRui70cOszF94FzgPBGJ\n",
       "f0xHjvnTafy7+QjwZRHZBPgFcNnwmjSyVPE+U4Sq3JOKUrV7WBGqdr8rQql7o8+15ziO4ziOU5JK\n",
       "dO05juM4juMMAxdSjuM4juM4JXEh5TiO4ziOUxIXUo7jOI7jOCVxIeU4juM4jlMSF1KO4ziO4zgl\n",
       "cSHlOI7jOI5Tkv8PrAYJakma2+AAAAAASUVORK5CYII=\n"
      ],
      "text/plain": [
       "<matplotlib.figure.Figure at 0x10a4a35d0>"
      ]
     },
     "metadata": {},
     "output_type": "display_data"
    }
   ],
=======
   "execution_count": null,
   "metadata": {
    "collapsed": false
   },
   "outputs": [],
>>>>>>> 571a187f0f821897774193fdb90aa2e27d1090df
   "source": [
    "fig = plt.figure(figsize=(10,3))\n",
    "ax = fig.add_subplot(1,2,1)\n",
    "ax.scatter(norm_dist[:,0], norm_dist[:,1], color='r')\n",
    "ax.axis('equal') # equal scaling on both axis;\n",
    "ax.set_title('Original', size=24)\n",
    "\n",
    "ax = fig.add_subplot(1,2,2)\n",
    "ax.scatter(norm_dist_pca[:,0], [1 for x in norm_dist_pca[:,0]], color='g')\n",
    "ax.set_title('First Component', size=32)\n",
    "ax.set_yticklabels([])\n",
    "#ax.set_ylim()"
   ]
  },
  {
   "cell_type": "markdown",
   "metadata": {},
   "source": [
    "## How much of the datasets variation is explained by the first component?"
   ]
  },
  {
   "cell_type": "code",
<<<<<<< HEAD
   "execution_count": 9,
   "metadata": {
    "collapsed": false
   },
   "outputs": [
    {
     "name": "stdout",
     "output_type": "stream",
     "text": [
      "79.4% of the data is explained by the first principal component\n"
     ]
    }
   ],
   "source": [
    "explained_variance_pct = float(pca.explained_variance_ratio_) * 100\n",
=======
   "execution_count": null,
   "metadata": {
    "collapsed": false
   },
   "outputs": [],
   "source": [
    "tgexplained_variance_pct = float(pca.explained_variance_ratio_) * 100\n",
>>>>>>> 571a187f0f821897774193fdb90aa2e27d1090df
    "print \"{:.1f}% of the data is explained by the first principal component\"\"\".format(explained_variance_pct)"
   ]
  },
  {
   "cell_type": "markdown",
   "metadata": {},
   "source": [
    "# Class exercise"
   ]
  },
  {
   "cell_type": "markdown",
   "metadata": {},
   "source": [
    "### Plot the transformed dataset using the first two principal components"
   ]
  },
  {
   "cell_type": "markdown",
   "metadata": {},
   "source": [
    "- How much variance is explained using the first two components?\n",
    "- Does the explained variance number make sense?"
   ]
  },
  {
   "cell_type": "code",
   "execution_count": null,
   "metadata": {
    "collapsed": false
   },
   "outputs": [],
   "source": []
  },
  {
   "cell_type": "code",
   "execution_count": null,
   "metadata": {
    "collapsed": false
   },
   "outputs": [],
   "source": [
    "fig = plt.figure(figsize=(10,3))\n",
    "ax = fig.add_subplot(1,2,1)\n",
    "ax.scatter(norm_dist[:,0], norm_dist[:,1], color='r')\n",
    "ax.axis('equal') # equal scaling on both axis;\n",
    "ax.set_title('Original', size=24)\n",
    "\n",
    "ax = fig.add_subplot(1,2,2)\n",
    "#Fill this part in with the transformed data\n",
    "ax.axis('equal') # equal scaling on both axis;\n",
    "ax.set_title('Transformed', size=24)"
   ]
  },
  {
   "cell_type": "markdown",
   "metadata": {
    "collapsed": false
   },
   "source": [
    "# Multidimensional Data"
   ]
  },
  {
   "cell_type": "code",
   "execution_count": null,
   "metadata": {
    "collapsed": false
   },
   "outputs": [],
   "source": [
    "digits = datasets.load_digits(n_class=6) # load the dataset with 6 classes (digits 0 through 5)\n",
    "X = pd.DataFrame(digits.data) # explanatory (or independent or feature) variables\n",
    "y = pd.Series(digits.target) # target (or dependent or class) variable\n",
    "n_samples, n_features = X.shape # the number of rows (samples) and columns (features)"
   ]
  },
  {
   "cell_type": "markdown",
   "metadata": {},
   "source": [
    "## What does this dataset look like?"
   ]
  },
  {
   "cell_type": "code",
<<<<<<< HEAD
   "execution_count": 12,
   "metadata": {
    "collapsed": false
   },
   "outputs": [
    {
     "ename": "NameError",
     "evalue": "name 'X' is not defined",
     "output_type": "error",
     "traceback": [
      "\u001b[0;31m---------------------------------------------------------------------------\u001b[0m",
      "\u001b[0;31mNameError\u001b[0m                                 Traceback (most recent call last)",
      "\u001b[0;32m<ipython-input-12-8d16e1541931>\u001b[0m in \u001b[0;36m<module>\u001b[0;34m()\u001b[0m\n\u001b[1;32m      5\u001b[0m     \u001b[0;32mfor\u001b[0m \u001b[0mj\u001b[0m \u001b[0;32min\u001b[0m \u001b[0mrange\u001b[0m\u001b[0;34m(\u001b[0m\u001b[0mn_img_per_row\u001b[0m\u001b[0;34m)\u001b[0m\u001b[0;34m:\u001b[0m\u001b[0;34m\u001b[0m\u001b[0m\n\u001b[1;32m      6\u001b[0m         \u001b[0miy\u001b[0m \u001b[0;34m=\u001b[0m \u001b[0;36m10\u001b[0m \u001b[0;34m*\u001b[0m \u001b[0mj\u001b[0m \u001b[0;34m+\u001b[0m \u001b[0;36m1\u001b[0m\u001b[0;34m\u001b[0m\u001b[0m\n\u001b[0;32m----> 7\u001b[0;31m         \u001b[0mimg\u001b[0m\u001b[0;34m[\u001b[0m\u001b[0mix\u001b[0m\u001b[0;34m:\u001b[0m\u001b[0mix\u001b[0m\u001b[0;34m+\u001b[0m\u001b[0;36m8\u001b[0m\u001b[0;34m,\u001b[0m \u001b[0miy\u001b[0m\u001b[0;34m:\u001b[0m\u001b[0miy\u001b[0m\u001b[0;34m+\u001b[0m\u001b[0;36m8\u001b[0m\u001b[0;34m]\u001b[0m \u001b[0;34m=\u001b[0m \u001b[0mX\u001b[0m\u001b[0;34m.\u001b[0m\u001b[0mix\u001b[0m\u001b[0;34m[\u001b[0m\u001b[0mi\u001b[0m\u001b[0;34m*\u001b[0m\u001b[0mn_img_per_row\u001b[0m \u001b[0;34m+\u001b[0m \u001b[0mj\u001b[0m\u001b[0;34m]\u001b[0m\u001b[0;34m.\u001b[0m\u001b[0mreshape\u001b[0m\u001b[0;34m(\u001b[0m\u001b[0;34m(\u001b[0m\u001b[0;36m8\u001b[0m\u001b[0;34m,\u001b[0m \u001b[0;36m8\u001b[0m\u001b[0;34m)\u001b[0m\u001b[0;34m)\u001b[0m \u001b[0;31m# set each 8x8 area of the img to the values of each row (reshaped from 1x64 to 8x8)\u001b[0m\u001b[0;34m\u001b[0m\u001b[0m\n\u001b[0m\u001b[1;32m      8\u001b[0m \u001b[0;34m\u001b[0m\u001b[0m\n\u001b[1;32m      9\u001b[0m \u001b[0mplt\u001b[0m\u001b[0;34m.\u001b[0m\u001b[0mfigure\u001b[0m\u001b[0;34m(\u001b[0m\u001b[0mfigsize\u001b[0m\u001b[0;34m=\u001b[0m\u001b[0;34m(\u001b[0m\u001b[0;36m8\u001b[0m\u001b[0;34m,\u001b[0m \u001b[0;36m8\u001b[0m\u001b[0;34m)\u001b[0m\u001b[0;34m,\u001b[0m \u001b[0mdpi\u001b[0m\u001b[0;34m=\u001b[0m\u001b[0;36m250\u001b[0m\u001b[0;34m)\u001b[0m \u001b[0;31m# define a figure, with size (width and height) and resolution\u001b[0m\u001b[0;34m\u001b[0m\u001b[0m\n",
      "\u001b[0;31mNameError\u001b[0m: name 'X' is not defined"
     ]
    }
   ],
=======
   "execution_count": null,
   "metadata": {
    "collapsed": false
   },
   "outputs": [],
>>>>>>> 571a187f0f821897774193fdb90aa2e27d1090df
   "source": [
    "n_img_per_row = 20 # number of digits per row\n",
    "img = np.zeros((10*n_img_per_row, 10*n_img_per_row)) # generate a new 200x200 array filled with zeros\n",
    "for i in range(n_img_per_row):\n",
    "    ix = 10 * i + 1\n",
    "    for j in range(n_img_per_row):\n",
    "        iy = 10 * j + 1\n",
    "        img[ix:ix+8, iy:iy+8] = X.ix[i*n_img_per_row + j].reshape((8, 8)) # set each 8x8 area of the img to the values of each row (reshaped from 1x64 to 8x8)\n",
    "\n",
    "plt.figure(figsize=(8, 8), dpi=250) # define a figure, with size (width and height) and resolution\n",
    "#axes(frameon = 0) # remove the frame/border from the axes\n",
    "plt.imshow(img, cmap=plt.cm.binary) # show the image using a binary color map\n",
    "plt.xticks([]) # no x ticks\n",
    "plt.yticks([]) # no y ticks\n",
    "print"
   ]
  },
  {
   "cell_type": "markdown",
   "metadata": {},
   "source": [
    "### Generally, PCA requires centering the data (i.e., subtracting the mean from each data point for each feature), because otherwise the first component may not truly describe the largest direction of variation in the data, but rather the mean of the data."
   ]
  },
  {
   "cell_type": "code",
   "execution_count": null,
   "metadata": {
    "collapsed": false
   },
   "outputs": [],
   "source": [
    "#pca centers the data with unit variance - therefore:\n",
    "np.round(norm_dist_pca.mean(axis=0))"
   ]
  },
  {
   "cell_type": "code",
   "execution_count": null,
   "metadata": {
    "collapsed": false,
    "scrolled": false
   },
   "outputs": [],
   "source": [
    "# global centering\n",
    "X_centered = X - X.mean()\n",
    "\n",
    "# print again\n",
    "n_img_per_row = 20 # number of digits per row\n",
    "img = np.zeros((10*n_img_per_row, 10*n_img_per_row)) # generate a new 200x200 array filled with zeros\n",
    "for i in range(n_img_per_row):\n",
    "    ix = 10 * i + 1\n",
    "    for j in range(n_img_per_row):\n",
    "        iy = 10 * j + 1\n",
    "        img[ix:ix+8, iy:iy+8] = X_centered.ix[i*n_img_per_row + j].reshape((8, 8)) # set each 8x8 area of the img to the values of each row (reshaped from 1x64 to 8x8)\n",
    "\n",
    "plt.figure(figsize=(8, 8), dpi=250) # define a figure, with size (width and height) and resolution\n",
    "#axes(frameon = 0) # remove the frame/border from the axes\n",
    "plt.imshow(img, cmap=plt.cm.binary) # show the image using a binary color map\n",
    "plt.xticks([]) # no x ticks\n",
    "plt.yticks([]) # no y ticks\n",
    "print"
   ]
  },
  {
   "cell_type": "markdown",
   "metadata": {},
   "source": [
    "## Variance explained by number of components"
   ]
  },
  {
   "cell_type": "code",
   "execution_count": null,
   "metadata": {
    "collapsed": false
   },
   "outputs": [],
   "source": [
    "pca = PCA(n_components=64)\n",
    "X_pca = pca.fit_transform(X_centered)\n",
    "fig = plt.figure(figsize=(20,5))\n",
    "ax = fig.add_subplot(1,1,1)\n",
    "ax.bar([x for x in range(len(pca.explained_variance_ratio_))],pca.explained_variance_ratio_)\n",
    "#ax.plot([x for x in range(len(pca.explained_variance_ratio_))],np.cumsum(pca.explained_variance_ratio_))\n",
    "\n",
    "ax.set_title(\"Explained variance\", size=32)\n",
    "ax.set_ylabel(\"Percent explained\", size=24)\n",
    "ax.set_xlabel(\"Principal Component\", size=24);"
   ]
  },
  {
   "cell_type": "markdown",
   "metadata": {},
   "source": [
    "Dimensionality reduction is a one-way transformation that induces a loss of information. We can try to minimize the loss of information while retaining the benefits of dimensionality reduction by trying to find the number of principal components needed to effectively represent the original dataset. This number can often be determined by the \"elbow\" or \"knee\" point, which is considered to be the natural break between the useful principal components (or dimensions) and residual noise. We can find the elbow point by computing PCA on our dataset and observing the number of principal components after which the amount of variance explained displays a natural break or drop-off."
   ]
  },
  {
   "cell_type": "markdown",
   "metadata": {},
   "source": [
    "## Lets look at the first 2 components"
   ]
  },
  {
   "cell_type": "code",
   "execution_count": null,
   "metadata": {
    "collapsed": false
   },
   "outputs": [],
   "source": [
    "#It's easy to represent 2 elements in a plot\n",
    "pca = PCA(n_components=2)\n",
    "X_pca = pca.fit_transform(X_centered)\n",
    "\n",
    "print \"{:.2f}% variance explained by the first {} components\".format((np.sum(pca.explained_variance_ratio_) * 100), 2)"
   ]
  },
  {
   "cell_type": "code",
   "execution_count": null,
   "metadata": {
    "collapsed": true
   },
   "outputs": [],
   "source": [
    "def plot_embedding(X, title=None):\n",
    "    # min-max normalization\n",
    "    x_min, x_max = np.min(X, 0), np.max(X, 0)\n",
    "    X = (X - x_min) / (x_max - x_min)\n",
    "\n",
    "    plt.figure(figsize=(10, 6), dpi=250)\n",
    "    ax = plt.subplot(111)\n",
    "    ax.axis('off')\n",
    "    ax.patch.set_visible(False)\n",
    "    for i in range(X.shape[0]):\n",
    "        plt.text(X[i, 0], X[i, 1], str(digits.target[i]), color=plt.cm.Set1(y[i] / 10.), fontdict={'weight': 'bold', 'size': 12})\n",
    "\n",
    "    plt.xticks([]), plt.yticks([])\n",
    "    plt.ylim([-0.1,1.1])\n",
    "    plt.xlim([-0.1,1.1])\n",
    "\n",
    "    if title is not None:\n",
    "        plt.title(title, fontsize=16)"
   ]
  },
  {
   "cell_type": "markdown",
   "metadata": {},
   "source": [
    "## Random 2 elements"
   ]
  },
  {
   "cell_type": "code",
   "execution_count": null,
   "metadata": {
    "collapsed": false
   },
   "outputs": [],
   "source": [
    "# Random 2D projection using a random unitary matrix\n",
    "\n",
    "#print(\"Computing random projection\"),\n",
    "rp = random_projection.SparseRandomProjection(n_components=2, random_state=0)\n",
    "X_projected = rp.fit_transform(X)\n",
    "#print(\"done.\")\n",
    "\n",
    "# Plot random projection result\n",
    "plot_embedding(X_projected, \"Random Projection of the Digits Dataset\\n\")"
   ]
  },
  {
   "cell_type": "markdown",
   "metadata": {},
   "source": [
    "## First 2 principal components"
   ]
  },
  {
   "cell_type": "code",
   "execution_count": null,
   "metadata": {
    "collapsed": false
   },
   "outputs": [],
   "source": [
    "plot_embedding(X_pca, \"2 components\")"
   ]
  },
  {
   "cell_type": "markdown",
   "metadata": {},
   "source": [
    "### This is unsupervised learning"
   ]
  },
  {
   "cell_type": "markdown",
   "metadata": {},
   "source": [
    "- PCA has no information about the classes, but provides insight into the distribution of different numbers in the parameter space\n",
    "- 0 and 4 tend to be more distinct then 1, 2, 5\n",
    "- Does this make sense?"
   ]
  },
  {
   "cell_type": "code",
   "execution_count": null,
   "metadata": {
    "collapsed": true
   },
   "outputs": [],
   "source": []
  },
  {
   "cell_type": "markdown",
   "metadata": {},
   "source": [
    "## Class exercise"
   ]
  },
  {
   "cell_type": "code",
   "execution_count": null,
   "metadata": {
    "collapsed": true
   },
   "outputs": [],
   "source": [
    "iris = datasets.load_iris()"
   ]
  },
  {
   "cell_type": "markdown",
   "metadata": {},
   "source": [
    "- PCA is performed using linear combinations of the original features using a truncated Singular Value Decomposition of the matrix X so as to project the data onto a base of the top singular vectors. If the number of retained components is 2 or 3, PCA can be used to visualize the dataset."
   ]
  },
  {
   "cell_type": "code",
   "execution_count": null,
   "metadata": {
    "collapsed": true
   },
   "outputs": [],
   "source": [
    "# get X\n",
    "\n",
    "# Transform the data\n"
   ]
  },
  {
   "cell_type": "code",
   "execution_count": null,
   "metadata": {
    "collapsed": false
   },
   "outputs": [],
   "source": [
    "# Perform PCA with the first two components\n"
   ]
  },
  {
   "cell_type": "code",
   "execution_count": null,
   "metadata": {
    "collapsed": true
   },
   "outputs": [],
   "source": [
    "#Useful plotting function (lifted from Alessandro)\n",
    "from itertools import cycle\n",
    "\n",
    "def plot_PCA_2D(data, target, target_names):\n",
    "    colors = cycle('rgbcmykw')\n",
    "    target_ids = range(len(target_names))\n",
    "    plt.figure()\n",
    "    for i, c, label in zip(target_ids, colors, target_names):\n",
    "        plt.scatter(data[target == i, 0], data[target == i, 1],\n",
    "                   c=c, label=label)\n",
    "    plt.legend()"
   ]
  },
  {
   "cell_type": "code",
   "execution_count": null,
   "metadata": {
    "collapsed": false
   },
   "outputs": [],
   "source": [
    "# add your transformed X and plot\n",
    "plot_PCA_2D(???, target=iris.target, target_names=iris.target_names)"
   ]
  },
  {
   "cell_type": "code",
   "execution_count": null,
   "metadata": {
    "collapsed": true
   },
   "outputs": [],
   "source": [
    "#What can you observe about this dataset"
   ]
  },
  {
   "cell_type": "code",
   "execution_count": null,
   "metadata": {
    "collapsed": true
   },
   "outputs": [],
   "source": []
  },
  {
   "cell_type": "code",
   "execution_count": null,
   "metadata": {
    "collapsed": true
   },
   "outputs": [],
   "source": [
    "# Exercise 1: If you finish try running the above with a randomized PCA\n",
    "from sklearn.decomposition import RandomizedPCA\n"
   ]
  },
  {
   "cell_type": "markdown",
   "metadata": {},
   "source": [
    "http://scikit-learn.org/0.13/modules/generated/sklearn.decomposition.RandomizedPCA.html"
   ]
  },
  {
   "cell_type": "code",
   "execution_count": null,
   "metadata": {
    "collapsed": true
   },
   "outputs": [],
   "source": [
    "# Exercise 2: visualize 3 PCA components and visualize\n"
   ]
  },
  {
   "cell_type": "markdown",
   "metadata": {},
   "source": [
    "http://scikit-learn.org/stable/auto_examples/datasets/plot_iris_dataset.html"
   ]
  },
  {
   "cell_type": "code",
   "execution_count": null,
   "metadata": {
    "collapsed": true
   },
   "outputs": [],
   "source": []
  }
 ],
 "metadata": {
  "kernelspec": {
   "display_name": "Python 2",
   "language": "python",
   "name": "python2"
  },
  "language_info": {
   "codemirror_mode": {
    "name": "ipython",
    "version": 2
   },
   "file_extension": ".py",
   "mimetype": "text/x-python",
   "name": "python",
   "nbconvert_exporter": "python",
   "pygments_lexer": "ipython2",
   "version": "2.7.9"
  }
 },
 "nbformat": 4,
 "nbformat_minor": 0
}
