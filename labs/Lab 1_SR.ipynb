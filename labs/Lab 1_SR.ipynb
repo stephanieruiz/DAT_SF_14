{
 "cells": [
  {
   "cell_type": "code",
   "execution_count": 1,
   "metadata": {
    "collapsed": true
   },
   "outputs": [],
   "source": [
    "import numpy as np\n",
    "import pandas as pd\n",
    "import matplotlib.pyplot as plt\n",
    "\n",
    "%matplotlib inline"
   ]
  },
  {
   "cell_type": "code",
   "execution_count": 2,
   "metadata": {
    "collapsed": false
   },
   "outputs": [
    {
     "name": "stdout",
     "output_type": "stream",
     "text": [
      "total 4760\r\n",
      " 32 -rw-r--r--  1 stephanieruiz  staff    16K May 23 12:27 1_intro_to_ipython-Copy1.ipynb\r\n",
      " 32 -rw-r--r--  1 stephanieruiz  staff    16K May 23 15:48 1_intro_to_ipython-Copy2.ipynb\r\n",
      "256 -rw-r--r--  1 stephanieruiz  staff   124K May 24 09:35 1_intro_to_ipython-Copy3.ipynb\r\n",
      " 40 -rw-r--r--  1 stephanieruiz  staff    17K May 12 20:30 1_intro_to_ipython.ipynb\r\n",
      " 32 -rw-r--r--  1 stephanieruiz  staff    14K May  5 19:53 1_simple_plot_SR.ipynb\r\n",
      "336 -rw-r--r--  1 stephanieruiz  staff   168K May  5 19:53 2_intro_to_ipython_SR.ipynb\r\n",
      "  8 -rw-r--r--  1 stephanieruiz  staff   1.3K May  5 19:54 2_simple_plot.ipynb\r\n",
      "672 -rw-r--r--  1 stephanieruiz  staff   335K May  7 20:10 3_pandas_intro-solutions.ipynb\r\n",
      "560 -rw-r--r--  1 stephanieruiz  staff   277K May 12 20:31 3_pandas_intro.ipynb\r\n",
      " 24 -rw-r--r--  1 stephanieruiz  staff   9.9K May 12 15:57 3_pandas_intro_SR.ipynb\r\n",
      "288 -rw-r--r--  1 stephanieruiz  staff   143K May 14 07:56 4_intro_to_knn_cross_validation- SR2.ipynb\r\n",
      "200 -rw-r--r--  1 stephanieruiz  staff    97K May  7 21:08 4_intro_to_knn_cross_validation-SR.ipynb\r\n",
      "160 -rw-r--r--  1 stephanieruiz  staff    77K May 14 07:36 4_intro_to_knn_cross_validation.ipynb\r\n",
      "176 -rw-r--r--  1 stephanieruiz  staff    87K May 14 20:26 5_naive_bayes_lab-solution.ipynb\r\n",
      "112 -rw-r--r--  1 stephanieruiz  staff    55K May 12 21:07 5_naive_bayes_lab.ipynb\r\n",
      " 48 -rw-r--r--  1 stephanieruiz  staff    22K May 14 20:26 6_regression_and_regularization.ipynb\r\n",
      "416 -rw-r--r--  1 stephanieruiz  staff   206K May 14 21:25 6_regression_and_regularization_SR.ipynb\r\n",
      " 64 -rw-r--r--  1 stephanieruiz  staff    30K May 21 18:21 7_logistic_regression.ipynb\r\n",
      "432 -rw-r--r--  1 stephanieruiz  staff   212K May 21 21:02 8_kmeans_clustering.ipynb\r\n",
      " 16 -rw-r--r--  1 stephanieruiz  staff   7.6K May 23 12:27 HW 2 SR.ipynb\r\n",
      "  8 -rw-r--r--  1 stephanieruiz  staff   682B May 24 15:45 Lab 1_SR.ipynb\r\n",
      "  8 -rw-r--r--  1 stephanieruiz  staff   2.4K May 12 11:16 Lecture 2 practice.ipynb\r\n",
      " 24 -rw-r--r--  1 stephanieruiz  staff   8.3K May 23 11:45 Naive Bayes Lab- SR.ipynb\r\n",
      "  8 -rw-r--r--  1 stephanieruiz  staff   1.3K May  5 22:33 Untitled.ipynb\r\n",
      "120 -rw-r--r--  1 stephanieruiz  staff    57K May  7 21:22 Untitled1.ipynb\r\n",
      "  8 -rw-r--r--  1 stephanieruiz  staff   1.2K May 20 13:09 Untitled2.ipynb\r\n",
      "  8 -rw-r--r--  1 stephanieruiz  staff   1.0K May 23 15:44 Untitled3.ipynb\r\n",
      "  8 -rw-r--r--  1 stephanieruiz  staff   3.3K May 23 16:20 Untitled4.ipynb\r\n",
      "  0 drwxr-xr-x  3 stephanieruiz  staff   102B May 12 20:31 \u001b[34mdata\u001b[m\u001b[m\r\n",
      "664 -rw-r--r--  1 stephanieruiz  staff   330K May  7 20:04 pandas_lab3-Copy1.ipynb\r\n"
     ]
    }
   ],
   "source": [
    "!ls -lsh"
   ]
  },
  {
   "cell_type": "code",
   "execution_count": null,
   "metadata": {
    "collapsed": true
   },
   "outputs": [],
   "source": []
  }
 ],
 "metadata": {
  "kernelspec": {
   "display_name": "Python 2",
   "language": "python",
   "name": "python2"
  },
  "language_info": {
   "codemirror_mode": {
    "name": "ipython",
    "version": 2
   },
   "file_extension": ".py",
   "mimetype": "text/x-python",
   "name": "python",
   "nbconvert_exporter": "python",
   "pygments_lexer": "ipython2",
   "version": "2.7.9"
  }
 },
 "nbformat": 4,
 "nbformat_minor": 0
}
